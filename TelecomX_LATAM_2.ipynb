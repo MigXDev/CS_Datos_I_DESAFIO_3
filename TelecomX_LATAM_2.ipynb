{
  "cells": [
    {
      "cell_type": "markdown",
      "metadata": {
        "id": "view-in-github",
        "colab_type": "text"
      },
      "source": [
        "<a href=\"https://colab.research.google.com/github/MigXDev/CS_Datos_I_DESAFIO_3/blob/main/TelecomX_LATAM_2.ipynb\" target=\"_parent\"><img src=\"https://colab.research.google.com/assets/colab-badge.svg\" alt=\"Open In Colab\"/></a>"
      ]
    },
    {
      "cell_type": "markdown",
      "id": "7b5bf62c",
      "metadata": {
        "id": "7b5bf62c"
      },
      "source": [
        "# Challengue Alura - TelecomX"
      ]
    },
    {
      "cell_type": "markdown",
      "id": "cc7a378c",
      "metadata": {
        "id": "cc7a378c"
      },
      "source": [
        "## 🛠️ Preparación de los Datos\n",
        "\n"
      ]
    },
    {
      "cell_type": "markdown",
      "source": [
        "### Importacion de Bibliotecas"
      ],
      "metadata": {
        "id": "txHIr9bLs0NU"
      },
      "id": "txHIr9bLs0NU"
    },
    {
      "cell_type": "code",
      "source": [
        "# Importación de librerías esenciales\n",
        "import pandas as pd # Manipulación de datos\n",
        "import numpy as np # Manipulación de datos\n",
        "\n",
        "import matplotlib.pyplot as plt # Visualización de Datos\n",
        "import seaborn as sns # Visualización de Datos\n",
        "\n",
        "# Para preprocesamiento y modelado\n",
        "from sklearn.model_selection import train_test_split\n",
        "from sklearn.preprocessing import OneHotEncoder, StandardScaler, LabelEncoder\n",
        "from sklearn.compose import ColumnTransformer, make_column_transformer\n",
        "from sklearn.metrics import (\n",
        "    accuracy_score, precision_score, recall_score, f1_score,\n",
        "    confusion_matrix, ConfusionMatrixDisplay\n",
        ")\n",
        "\n",
        "# Modelos que se utilizarán más adelante\n",
        "from sklearn.linear_model import LogisticRegression\n",
        "from sklearn.ensemble import RandomForestClassifier\n",
        "from sklearn.metrics import classification_report, roc_auc_score\n",
        "from imblearn.over_sampling import SMOTE\n",
        "\n",
        "# Advertencias (para limpiar outputs si es necesario)\n",
        "import warnings\n",
        "warnings.filterwarnings(\"ignore\")"
      ],
      "metadata": {
        "id": "ELUce6Vnlrwt"
      },
      "id": "ELUce6Vnlrwt",
      "execution_count": 50,
      "outputs": []
    },
    {
      "cell_type": "markdown",
      "source": [
        "### Extracción del Archivo Tratado"
      ],
      "metadata": {
        "id": "KxH6-OAgJsEh"
      },
      "id": "KxH6-OAgJsEh"
    },
    {
      "cell_type": "markdown",
      "source": [
        "Carga el archivo CSV que contiene los datos tratados anteriormente.<br>\n",
        "\n",
        "*   📂 Atención: Utiliza el mismo archivo que limpiaste y organizaste en la Parte 1 del desafío Telecom X. Debe contener solo las columnas relevantes, ya con los datos corregidos y estandarizados."
      ],
      "metadata": {
        "id": "_iQq51w9KFjI"
      },
      "id": "_iQq51w9KFjI"
    },
    {
      "cell_type": "markdown",
      "source": [
        "#### Carga y exploración del dataset"
      ],
      "metadata": {
        "id": "qHBJN_EXmDtd"
      },
      "id": "qHBJN_EXmDtd"
    },
    {
      "cell_type": "markdown",
      "source": [
        "Comenzamos cargando la base de datos ya tratada. Se trata de un dataset de clientes de una empresa de telecomunicaciones. El objetivo será predecir si un cliente abandonará el servicio (`abandono_cliente`) en base a sus características.\n",
        "\n",
        "A continuación se realiza una primera inspección.\n"
      ],
      "metadata": {
        "id": "760UgWmDnEJV"
      },
      "id": "760UgWmDnEJV"
    },
    {
      "cell_type": "code",
      "source": [
        "Datos = '/content/TelecomX_Data_Base.csv'"
      ],
      "metadata": {
        "id": "FCy_p075ZOgZ"
      },
      "id": "FCy_p075ZOgZ",
      "execution_count": 51,
      "outputs": []
    },
    {
      "cell_type": "code",
      "source": [
        "# Cargamos el archivo CSV procesado\n",
        "Df_base = pd.read_csv('/content/TelecomX_Data_Base.csv', sep=';')\n",
        "\n",
        "# Visualizamos las primera fila\n",
        "Df_base.head(1)"
      ],
      "metadata": {
        "id": "0vtbgK9WWi5u",
        "colab": {
          "base_uri": "https://localhost:8080/",
          "height": 147
        },
        "outputId": "2d8241d9-2804-428c-ee08-ee6643ae0540"
      },
      "id": "0vtbgK9WWi5u",
      "execution_count": 52,
      "outputs": [
        {
          "output_type": "execute_result",
          "data": {
            "text/plain": [
              "   id_cliente abandono_cliente    genero  jubilado pareja dependientes  \\\n",
              "0  0002-ORFBO               No  Femenino     False     Si           Si   \n",
              "\n",
              "   meses_antiguedad servicio_telefono ad.multiples_lineas servicio_internet  \\\n",
              "0                 9                Si                  No               DSL   \n",
              "\n",
              "   ... ad.proteccion_dispositivo ad.soporte_tecnico tv.streaming  \\\n",
              "0  ...                        No                 Si           Si   \n",
              "\n",
              "  peliculas.streaming contrato factura_digital        metodo_pago  \\\n",
              "0                  No   Un año              Si  Cheque por correo   \n",
              "\n",
              "  cargo.diario cargo.mensual  cargo.total  \n",
              "0         2.16          65.6        593.3  \n",
              "\n",
              "[1 rows x 22 columns]"
            ],
            "text/html": [
              "\n",
              "  <div id=\"df-46d2e0f5-7ab3-47f1-b296-6e7eea2057f7\" class=\"colab-df-container\">\n",
              "    <div>\n",
              "<style scoped>\n",
              "    .dataframe tbody tr th:only-of-type {\n",
              "        vertical-align: middle;\n",
              "    }\n",
              "\n",
              "    .dataframe tbody tr th {\n",
              "        vertical-align: top;\n",
              "    }\n",
              "\n",
              "    .dataframe thead th {\n",
              "        text-align: right;\n",
              "    }\n",
              "</style>\n",
              "<table border=\"1\" class=\"dataframe\">\n",
              "  <thead>\n",
              "    <tr style=\"text-align: right;\">\n",
              "      <th></th>\n",
              "      <th>id_cliente</th>\n",
              "      <th>abandono_cliente</th>\n",
              "      <th>genero</th>\n",
              "      <th>jubilado</th>\n",
              "      <th>pareja</th>\n",
              "      <th>dependientes</th>\n",
              "      <th>meses_antiguedad</th>\n",
              "      <th>servicio_telefono</th>\n",
              "      <th>ad.multiples_lineas</th>\n",
              "      <th>servicio_internet</th>\n",
              "      <th>...</th>\n",
              "      <th>ad.proteccion_dispositivo</th>\n",
              "      <th>ad.soporte_tecnico</th>\n",
              "      <th>tv.streaming</th>\n",
              "      <th>peliculas.streaming</th>\n",
              "      <th>contrato</th>\n",
              "      <th>factura_digital</th>\n",
              "      <th>metodo_pago</th>\n",
              "      <th>cargo.diario</th>\n",
              "      <th>cargo.mensual</th>\n",
              "      <th>cargo.total</th>\n",
              "    </tr>\n",
              "  </thead>\n",
              "  <tbody>\n",
              "    <tr>\n",
              "      <th>0</th>\n",
              "      <td>0002-ORFBO</td>\n",
              "      <td>No</td>\n",
              "      <td>Femenino</td>\n",
              "      <td>False</td>\n",
              "      <td>Si</td>\n",
              "      <td>Si</td>\n",
              "      <td>9</td>\n",
              "      <td>Si</td>\n",
              "      <td>No</td>\n",
              "      <td>DSL</td>\n",
              "      <td>...</td>\n",
              "      <td>No</td>\n",
              "      <td>Si</td>\n",
              "      <td>Si</td>\n",
              "      <td>No</td>\n",
              "      <td>Un año</td>\n",
              "      <td>Si</td>\n",
              "      <td>Cheque por correo</td>\n",
              "      <td>2.16</td>\n",
              "      <td>65.6</td>\n",
              "      <td>593.3</td>\n",
              "    </tr>\n",
              "  </tbody>\n",
              "</table>\n",
              "<p>1 rows × 22 columns</p>\n",
              "</div>\n",
              "    <div class=\"colab-df-buttons\">\n",
              "\n",
              "  <div class=\"colab-df-container\">\n",
              "    <button class=\"colab-df-convert\" onclick=\"convertToInteractive('df-46d2e0f5-7ab3-47f1-b296-6e7eea2057f7')\"\n",
              "            title=\"Convert this dataframe to an interactive table.\"\n",
              "            style=\"display:none;\">\n",
              "\n",
              "  <svg xmlns=\"http://www.w3.org/2000/svg\" height=\"24px\" viewBox=\"0 -960 960 960\">\n",
              "    <path d=\"M120-120v-720h720v720H120Zm60-500h600v-160H180v160Zm220 220h160v-160H400v160Zm0 220h160v-160H400v160ZM180-400h160v-160H180v160Zm440 0h160v-160H620v160ZM180-180h160v-160H180v160Zm440 0h160v-160H620v160Z\"/>\n",
              "  </svg>\n",
              "    </button>\n",
              "\n",
              "  <style>\n",
              "    .colab-df-container {\n",
              "      display:flex;\n",
              "      gap: 12px;\n",
              "    }\n",
              "\n",
              "    .colab-df-convert {\n",
              "      background-color: #E8F0FE;\n",
              "      border: none;\n",
              "      border-radius: 50%;\n",
              "      cursor: pointer;\n",
              "      display: none;\n",
              "      fill: #1967D2;\n",
              "      height: 32px;\n",
              "      padding: 0 0 0 0;\n",
              "      width: 32px;\n",
              "    }\n",
              "\n",
              "    .colab-df-convert:hover {\n",
              "      background-color: #E2EBFA;\n",
              "      box-shadow: 0px 1px 2px rgba(60, 64, 67, 0.3), 0px 1px 3px 1px rgba(60, 64, 67, 0.15);\n",
              "      fill: #174EA6;\n",
              "    }\n",
              "\n",
              "    .colab-df-buttons div {\n",
              "      margin-bottom: 4px;\n",
              "    }\n",
              "\n",
              "    [theme=dark] .colab-df-convert {\n",
              "      background-color: #3B4455;\n",
              "      fill: #D2E3FC;\n",
              "    }\n",
              "\n",
              "    [theme=dark] .colab-df-convert:hover {\n",
              "      background-color: #434B5C;\n",
              "      box-shadow: 0px 1px 3px 1px rgba(0, 0, 0, 0.15);\n",
              "      filter: drop-shadow(0px 1px 2px rgba(0, 0, 0, 0.3));\n",
              "      fill: #FFFFFF;\n",
              "    }\n",
              "  </style>\n",
              "\n",
              "    <script>\n",
              "      const buttonEl =\n",
              "        document.querySelector('#df-46d2e0f5-7ab3-47f1-b296-6e7eea2057f7 button.colab-df-convert');\n",
              "      buttonEl.style.display =\n",
              "        google.colab.kernel.accessAllowed ? 'block' : 'none';\n",
              "\n",
              "      async function convertToInteractive(key) {\n",
              "        const element = document.querySelector('#df-46d2e0f5-7ab3-47f1-b296-6e7eea2057f7');\n",
              "        const dataTable =\n",
              "          await google.colab.kernel.invokeFunction('convertToInteractive',\n",
              "                                                    [key], {});\n",
              "        if (!dataTable) return;\n",
              "\n",
              "        const docLinkHtml = 'Like what you see? Visit the ' +\n",
              "          '<a target=\"_blank\" href=https://colab.research.google.com/notebooks/data_table.ipynb>data table notebook</a>'\n",
              "          + ' to learn more about interactive tables.';\n",
              "        element.innerHTML = '';\n",
              "        dataTable['output_type'] = 'display_data';\n",
              "        await google.colab.output.renderOutput(dataTable, element);\n",
              "        const docLink = document.createElement('div');\n",
              "        docLink.innerHTML = docLinkHtml;\n",
              "        element.appendChild(docLink);\n",
              "      }\n",
              "    </script>\n",
              "  </div>\n",
              "\n",
              "\n",
              "    </div>\n",
              "  </div>\n"
            ],
            "application/vnd.google.colaboratory.intrinsic+json": {
              "type": "dataframe",
              "variable_name": "Df_base"
            }
          },
          "metadata": {},
          "execution_count": 52
        }
      ]
    },
    {
      "cell_type": "markdown",
      "source": [
        "#### Inspección estructural"
      ],
      "metadata": {
        "id": "MhYeCvwRmJ7n"
      },
      "id": "MhYeCvwRmJ7n"
    },
    {
      "cell_type": "code",
      "source": [
        "# Exploramos descripción estadística de variables numéricas\n",
        "Df_base.describe()"
      ],
      "metadata": {
        "colab": {
          "base_uri": "https://localhost:8080/",
          "height": 300
        },
        "id": "48vFa1wgnztC",
        "outputId": "2dda999e-5bdb-4a29-cd2b-ed8e99de447e"
      },
      "id": "48vFa1wgnztC",
      "execution_count": 53,
      "outputs": [
        {
          "output_type": "execute_result",
          "data": {
            "text/plain": [
              "       meses_antiguedad  cargo.diario  cargo.mensual  cargo.total\n",
              "count       7267.000000   7267.000000    7267.000000  7267.000000\n",
              "mean          32.346498      2.127771      64.720098  2277.182035\n",
              "std           24.571773      0.990534      30.129572  2268.648587\n",
              "min            0.000000      0.600000      18.250000     0.000000\n",
              "25%            9.000000      1.165000      35.425000   396.200000\n",
              "50%           29.000000      2.310000      70.300000  1389.200000\n",
              "75%           55.000000      2.955000      89.875000  3778.525000\n",
              "max           72.000000      3.900000     118.750000  8684.800000"
            ],
            "text/html": [
              "\n",
              "  <div id=\"df-1c24067d-a065-4f61-9ab7-49d319d2715a\" class=\"colab-df-container\">\n",
              "    <div>\n",
              "<style scoped>\n",
              "    .dataframe tbody tr th:only-of-type {\n",
              "        vertical-align: middle;\n",
              "    }\n",
              "\n",
              "    .dataframe tbody tr th {\n",
              "        vertical-align: top;\n",
              "    }\n",
              "\n",
              "    .dataframe thead th {\n",
              "        text-align: right;\n",
              "    }\n",
              "</style>\n",
              "<table border=\"1\" class=\"dataframe\">\n",
              "  <thead>\n",
              "    <tr style=\"text-align: right;\">\n",
              "      <th></th>\n",
              "      <th>meses_antiguedad</th>\n",
              "      <th>cargo.diario</th>\n",
              "      <th>cargo.mensual</th>\n",
              "      <th>cargo.total</th>\n",
              "    </tr>\n",
              "  </thead>\n",
              "  <tbody>\n",
              "    <tr>\n",
              "      <th>count</th>\n",
              "      <td>7267.000000</td>\n",
              "      <td>7267.000000</td>\n",
              "      <td>7267.000000</td>\n",
              "      <td>7267.000000</td>\n",
              "    </tr>\n",
              "    <tr>\n",
              "      <th>mean</th>\n",
              "      <td>32.346498</td>\n",
              "      <td>2.127771</td>\n",
              "      <td>64.720098</td>\n",
              "      <td>2277.182035</td>\n",
              "    </tr>\n",
              "    <tr>\n",
              "      <th>std</th>\n",
              "      <td>24.571773</td>\n",
              "      <td>0.990534</td>\n",
              "      <td>30.129572</td>\n",
              "      <td>2268.648587</td>\n",
              "    </tr>\n",
              "    <tr>\n",
              "      <th>min</th>\n",
              "      <td>0.000000</td>\n",
              "      <td>0.600000</td>\n",
              "      <td>18.250000</td>\n",
              "      <td>0.000000</td>\n",
              "    </tr>\n",
              "    <tr>\n",
              "      <th>25%</th>\n",
              "      <td>9.000000</td>\n",
              "      <td>1.165000</td>\n",
              "      <td>35.425000</td>\n",
              "      <td>396.200000</td>\n",
              "    </tr>\n",
              "    <tr>\n",
              "      <th>50%</th>\n",
              "      <td>29.000000</td>\n",
              "      <td>2.310000</td>\n",
              "      <td>70.300000</td>\n",
              "      <td>1389.200000</td>\n",
              "    </tr>\n",
              "    <tr>\n",
              "      <th>75%</th>\n",
              "      <td>55.000000</td>\n",
              "      <td>2.955000</td>\n",
              "      <td>89.875000</td>\n",
              "      <td>3778.525000</td>\n",
              "    </tr>\n",
              "    <tr>\n",
              "      <th>max</th>\n",
              "      <td>72.000000</td>\n",
              "      <td>3.900000</td>\n",
              "      <td>118.750000</td>\n",
              "      <td>8684.800000</td>\n",
              "    </tr>\n",
              "  </tbody>\n",
              "</table>\n",
              "</div>\n",
              "    <div class=\"colab-df-buttons\">\n",
              "\n",
              "  <div class=\"colab-df-container\">\n",
              "    <button class=\"colab-df-convert\" onclick=\"convertToInteractive('df-1c24067d-a065-4f61-9ab7-49d319d2715a')\"\n",
              "            title=\"Convert this dataframe to an interactive table.\"\n",
              "            style=\"display:none;\">\n",
              "\n",
              "  <svg xmlns=\"http://www.w3.org/2000/svg\" height=\"24px\" viewBox=\"0 -960 960 960\">\n",
              "    <path d=\"M120-120v-720h720v720H120Zm60-500h600v-160H180v160Zm220 220h160v-160H400v160Zm0 220h160v-160H400v160ZM180-400h160v-160H180v160Zm440 0h160v-160H620v160ZM180-180h160v-160H180v160Zm440 0h160v-160H620v160Z\"/>\n",
              "  </svg>\n",
              "    </button>\n",
              "\n",
              "  <style>\n",
              "    .colab-df-container {\n",
              "      display:flex;\n",
              "      gap: 12px;\n",
              "    }\n",
              "\n",
              "    .colab-df-convert {\n",
              "      background-color: #E8F0FE;\n",
              "      border: none;\n",
              "      border-radius: 50%;\n",
              "      cursor: pointer;\n",
              "      display: none;\n",
              "      fill: #1967D2;\n",
              "      height: 32px;\n",
              "      padding: 0 0 0 0;\n",
              "      width: 32px;\n",
              "    }\n",
              "\n",
              "    .colab-df-convert:hover {\n",
              "      background-color: #E2EBFA;\n",
              "      box-shadow: 0px 1px 2px rgba(60, 64, 67, 0.3), 0px 1px 3px 1px rgba(60, 64, 67, 0.15);\n",
              "      fill: #174EA6;\n",
              "    }\n",
              "\n",
              "    .colab-df-buttons div {\n",
              "      margin-bottom: 4px;\n",
              "    }\n",
              "\n",
              "    [theme=dark] .colab-df-convert {\n",
              "      background-color: #3B4455;\n",
              "      fill: #D2E3FC;\n",
              "    }\n",
              "\n",
              "    [theme=dark] .colab-df-convert:hover {\n",
              "      background-color: #434B5C;\n",
              "      box-shadow: 0px 1px 3px 1px rgba(0, 0, 0, 0.15);\n",
              "      filter: drop-shadow(0px 1px 2px rgba(0, 0, 0, 0.3));\n",
              "      fill: #FFFFFF;\n",
              "    }\n",
              "  </style>\n",
              "\n",
              "    <script>\n",
              "      const buttonEl =\n",
              "        document.querySelector('#df-1c24067d-a065-4f61-9ab7-49d319d2715a button.colab-df-convert');\n",
              "      buttonEl.style.display =\n",
              "        google.colab.kernel.accessAllowed ? 'block' : 'none';\n",
              "\n",
              "      async function convertToInteractive(key) {\n",
              "        const element = document.querySelector('#df-1c24067d-a065-4f61-9ab7-49d319d2715a');\n",
              "        const dataTable =\n",
              "          await google.colab.kernel.invokeFunction('convertToInteractive',\n",
              "                                                    [key], {});\n",
              "        if (!dataTable) return;\n",
              "\n",
              "        const docLinkHtml = 'Like what you see? Visit the ' +\n",
              "          '<a target=\"_blank\" href=https://colab.research.google.com/notebooks/data_table.ipynb>data table notebook</a>'\n",
              "          + ' to learn more about interactive tables.';\n",
              "        element.innerHTML = '';\n",
              "        dataTable['output_type'] = 'display_data';\n",
              "        await google.colab.output.renderOutput(dataTable, element);\n",
              "        const docLink = document.createElement('div');\n",
              "        docLink.innerHTML = docLinkHtml;\n",
              "        element.appendChild(docLink);\n",
              "      }\n",
              "    </script>\n",
              "  </div>\n",
              "\n",
              "\n",
              "    <div id=\"df-61782de3-51d3-45cc-81d5-f4b941c41d54\">\n",
              "      <button class=\"colab-df-quickchart\" onclick=\"quickchart('df-61782de3-51d3-45cc-81d5-f4b941c41d54')\"\n",
              "                title=\"Suggest charts\"\n",
              "                style=\"display:none;\">\n",
              "\n",
              "<svg xmlns=\"http://www.w3.org/2000/svg\" height=\"24px\"viewBox=\"0 0 24 24\"\n",
              "     width=\"24px\">\n",
              "    <g>\n",
              "        <path d=\"M19 3H5c-1.1 0-2 .9-2 2v14c0 1.1.9 2 2 2h14c1.1 0 2-.9 2-2V5c0-1.1-.9-2-2-2zM9 17H7v-7h2v7zm4 0h-2V7h2v10zm4 0h-2v-4h2v4z\"/>\n",
              "    </g>\n",
              "</svg>\n",
              "      </button>\n",
              "\n",
              "<style>\n",
              "  .colab-df-quickchart {\n",
              "      --bg-color: #E8F0FE;\n",
              "      --fill-color: #1967D2;\n",
              "      --hover-bg-color: #E2EBFA;\n",
              "      --hover-fill-color: #174EA6;\n",
              "      --disabled-fill-color: #AAA;\n",
              "      --disabled-bg-color: #DDD;\n",
              "  }\n",
              "\n",
              "  [theme=dark] .colab-df-quickchart {\n",
              "      --bg-color: #3B4455;\n",
              "      --fill-color: #D2E3FC;\n",
              "      --hover-bg-color: #434B5C;\n",
              "      --hover-fill-color: #FFFFFF;\n",
              "      --disabled-bg-color: #3B4455;\n",
              "      --disabled-fill-color: #666;\n",
              "  }\n",
              "\n",
              "  .colab-df-quickchart {\n",
              "    background-color: var(--bg-color);\n",
              "    border: none;\n",
              "    border-radius: 50%;\n",
              "    cursor: pointer;\n",
              "    display: none;\n",
              "    fill: var(--fill-color);\n",
              "    height: 32px;\n",
              "    padding: 0;\n",
              "    width: 32px;\n",
              "  }\n",
              "\n",
              "  .colab-df-quickchart:hover {\n",
              "    background-color: var(--hover-bg-color);\n",
              "    box-shadow: 0 1px 2px rgba(60, 64, 67, 0.3), 0 1px 3px 1px rgba(60, 64, 67, 0.15);\n",
              "    fill: var(--button-hover-fill-color);\n",
              "  }\n",
              "\n",
              "  .colab-df-quickchart-complete:disabled,\n",
              "  .colab-df-quickchart-complete:disabled:hover {\n",
              "    background-color: var(--disabled-bg-color);\n",
              "    fill: var(--disabled-fill-color);\n",
              "    box-shadow: none;\n",
              "  }\n",
              "\n",
              "  .colab-df-spinner {\n",
              "    border: 2px solid var(--fill-color);\n",
              "    border-color: transparent;\n",
              "    border-bottom-color: var(--fill-color);\n",
              "    animation:\n",
              "      spin 1s steps(1) infinite;\n",
              "  }\n",
              "\n",
              "  @keyframes spin {\n",
              "    0% {\n",
              "      border-color: transparent;\n",
              "      border-bottom-color: var(--fill-color);\n",
              "      border-left-color: var(--fill-color);\n",
              "    }\n",
              "    20% {\n",
              "      border-color: transparent;\n",
              "      border-left-color: var(--fill-color);\n",
              "      border-top-color: var(--fill-color);\n",
              "    }\n",
              "    30% {\n",
              "      border-color: transparent;\n",
              "      border-left-color: var(--fill-color);\n",
              "      border-top-color: var(--fill-color);\n",
              "      border-right-color: var(--fill-color);\n",
              "    }\n",
              "    40% {\n",
              "      border-color: transparent;\n",
              "      border-right-color: var(--fill-color);\n",
              "      border-top-color: var(--fill-color);\n",
              "    }\n",
              "    60% {\n",
              "      border-color: transparent;\n",
              "      border-right-color: var(--fill-color);\n",
              "    }\n",
              "    80% {\n",
              "      border-color: transparent;\n",
              "      border-right-color: var(--fill-color);\n",
              "      border-bottom-color: var(--fill-color);\n",
              "    }\n",
              "    90% {\n",
              "      border-color: transparent;\n",
              "      border-bottom-color: var(--fill-color);\n",
              "    }\n",
              "  }\n",
              "</style>\n",
              "\n",
              "      <script>\n",
              "        async function quickchart(key) {\n",
              "          const quickchartButtonEl =\n",
              "            document.querySelector('#' + key + ' button');\n",
              "          quickchartButtonEl.disabled = true;  // To prevent multiple clicks.\n",
              "          quickchartButtonEl.classList.add('colab-df-spinner');\n",
              "          try {\n",
              "            const charts = await google.colab.kernel.invokeFunction(\n",
              "                'suggestCharts', [key], {});\n",
              "          } catch (error) {\n",
              "            console.error('Error during call to suggestCharts:', error);\n",
              "          }\n",
              "          quickchartButtonEl.classList.remove('colab-df-spinner');\n",
              "          quickchartButtonEl.classList.add('colab-df-quickchart-complete');\n",
              "        }\n",
              "        (() => {\n",
              "          let quickchartButtonEl =\n",
              "            document.querySelector('#df-61782de3-51d3-45cc-81d5-f4b941c41d54 button');\n",
              "          quickchartButtonEl.style.display =\n",
              "            google.colab.kernel.accessAllowed ? 'block' : 'none';\n",
              "        })();\n",
              "      </script>\n",
              "    </div>\n",
              "\n",
              "    </div>\n",
              "  </div>\n"
            ],
            "application/vnd.google.colaboratory.intrinsic+json": {
              "type": "dataframe",
              "summary": "{\n  \"name\": \"Df_base\",\n  \"rows\": 8,\n  \"fields\": [\n    {\n      \"column\": \"meses_antiguedad\",\n      \"properties\": {\n        \"dtype\": \"number\",\n        \"std\": 2558.1685122560853,\n        \"min\": 0.0,\n        \"max\": 7267.0,\n        \"num_unique_values\": 8,\n        \"samples\": [\n          32.34649786707032,\n          29.0,\n          7267.0\n        ],\n        \"semantic_type\": \"\",\n        \"description\": \"\"\n      }\n    },\n    {\n      \"column\": \"cargo.diario\",\n      \"properties\": {\n        \"dtype\": \"number\",\n        \"std\": 2568.563173987873,\n        \"min\": 0.6000000000000001,\n        \"max\": 7267.0,\n        \"num_unique_values\": 8,\n        \"samples\": [\n          2.1277707444612632,\n          2.31,\n          7267.0\n        ],\n        \"semantic_type\": \"\",\n        \"description\": \"\"\n      }\n    },\n    {\n      \"column\": \"cargo.mensual\",\n      \"properties\": {\n        \"dtype\": \"number\",\n        \"std\": 2547.8989994186936,\n        \"min\": 18.25,\n        \"max\": 7267.0,\n        \"num_unique_values\": 8,\n        \"samples\": [\n          64.72009770194028,\n          70.3,\n          7267.0\n        ],\n        \"semantic_type\": \"\",\n        \"description\": \"\"\n      }\n    },\n    {\n      \"column\": \"cargo.total\",\n      \"properties\": {\n        \"dtype\": \"number\",\n        \"std\": 3162.9751263174294,\n        \"min\": 0.0,\n        \"max\": 8684.8,\n        \"num_unique_values\": 8,\n        \"samples\": [\n          2277.182035227742,\n          1389.2,\n          7267.0\n        ],\n        \"semantic_type\": \"\",\n        \"description\": \"\"\n      }\n    }\n  ]\n}"
            }
          },
          "metadata": {},
          "execution_count": 53
        }
      ]
    },
    {
      "cell_type": "code",
      "source": [
        "# Exploración básica\n",
        "print(f\"Filas: {Df_base.shape[0]}, Columnas: {Df_base.shape[1]}\")\n",
        "print(f\"\\nTipos de datos:\\n{Df_base.dtypes.value_counts()}\")\n",
        "print(f\"\\nValores faltantes:\\n{Df_base.isnull().sum()}\")"
      ],
      "metadata": {
        "id": "YuWd1Uv1yZnJ",
        "outputId": "fb7fb591-fd4c-4c31-df47-c0b7f4c73091",
        "colab": {
          "base_uri": "https://localhost:8080/"
        }
      },
      "id": "YuWd1Uv1yZnJ",
      "execution_count": 54,
      "outputs": [
        {
          "output_type": "stream",
          "name": "stdout",
          "text": [
            "Filas: 7267, Columnas: 22\n",
            "\n",
            "Tipos de datos:\n",
            "object     17\n",
            "float64     3\n",
            "bool        1\n",
            "int64       1\n",
            "Name: count, dtype: int64\n",
            "\n",
            "Valores faltantes:\n",
            "id_cliente                   0\n",
            "abandono_cliente             0\n",
            "genero                       0\n",
            "jubilado                     0\n",
            "pareja                       0\n",
            "dependientes                 0\n",
            "meses_antiguedad             0\n",
            "servicio_telefono            0\n",
            "ad.multiples_lineas          0\n",
            "servicio_internet            0\n",
            "ad.seguridad_online          0\n",
            "ad.respaldo_online           0\n",
            "ad.proteccion_dispositivo    0\n",
            "ad.soporte_tecnico           0\n",
            "tv.streaming                 0\n",
            "peliculas.streaming          0\n",
            "contrato                     0\n",
            "factura_digital              0\n",
            "metodo_pago                  0\n",
            "cargo.diario                 0\n",
            "cargo.mensual                0\n",
            "cargo.total                  0\n",
            "dtype: int64\n"
          ]
        }
      ]
    },
    {
      "cell_type": "markdown",
      "source": [
        "#### Análisis Univariado (EDA)"
      ],
      "metadata": {
        "id": "mD2zaV0z0yeN"
      },
      "id": "mD2zaV0z0yeN"
    },
    {
      "cell_type": "markdown",
      "source": [
        "##### Analisis numerico"
      ],
      "metadata": {
        "id": "8BhdcQcpCGuN"
      },
      "id": "8BhdcQcpCGuN"
    },
    {
      "cell_type": "code",
      "source": [
        "# Análisis numéricas\n",
        "num_cols = ['meses_antiguedad', 'cargo.mensual', \"cargo.total\"]\n",
        "Df_base[num_cols].hist(figsize=(12, 8), xlabelsize=8, ylabelsize=8);"
      ],
      "metadata": {
        "id": "ChiE9wk30fIu",
        "outputId": "10fc0979-9c2a-4e9f-c534-9b920b31dfc8",
        "colab": {
          "base_uri": "https://localhost:8080/",
          "height": 0
        }
      },
      "id": "ChiE9wk30fIu",
      "execution_count": 55,
      "outputs": [
        {
          "output_type": "display_data",
          "data": {
            "text/plain": [
              "<Figure size 1200x800 with 4 Axes>"
            ],
            "image/png": "[encoded data removed]"
          },
          "metadata": {}
        }
      ]
    },
    {
      "cell_type": "markdown",
      "source": [
        "##### Analisis categorico"
      ],
      "metadata": {
        "id": "jHQPjq43CM28"
      },
      "id": "jHQPjq43CM28"
    },
    {
      "cell_type": "code",
      "source": [
        "# Análisis categóricas\n",
        "cat_cols = ['genero', 'servicio_internet', 'contrato']\n",
        "for col in cat_cols:\n",
        "    plt.figure(figsize=(12, 8))\n",
        "    sns.countplot(x=col, hue='abandono_cliente', data=Df_base)"
      ],
      "metadata": {
        "colab": {
          "base_uri": "https://localhost:8080/",
          "height": 1000
        },
        "id": "_qDnSnPG_cQE",
        "outputId": "ee896af7-6019-4ff3-92ec-85eb88de7887"
      },
      "id": "_qDnSnPG_cQE",
      "execution_count": 56,
      "outputs": [
        {
          "output_type": "display_data",
          "data": {
            "text/plain": [
              "<Figure size 1200x800 with 1 Axes>"
            ],
            "image/png": "[encoded data removed]"
          },
          "metadata": {}
        },
        {
          "output_type": "display_data",
          "data": {
            "text/plain": [
              "<Figure size 1200x800 with 1 Axes>"
            ],
            "image/png": "[encoded data removed]"
          },
          "metadata": {}
        },
        {
          "output_type": "display_data",
          "data": {
            "text/plain": [
              "<Figure size 1200x800 with 1 Axes>"
            ],
            "image/png": "[encoded data removed]"
          },
          "metadata": {}
        }
      ]
    },
    {
      "cell_type": "markdown",
      "source": [
        "### Verificación de la Proporción de Cancelación (Churn)"
      ],
      "metadata": {
        "id": "Am3JQ8eTJ5Fy"
      },
      "id": "Am3JQ8eTJ5Fy"
    },
    {
      "cell_type": "markdown",
      "source": [
        "Si deseas profundizar en el análisis, aplica técnicas de balanceo como **undersampling** o **oversampling**. En situaciones de fuerte desbalanceo, herramientas como **SMOTE** pueden ser útiles para generar ejemplos sintéticos de la clase minoritaria."
      ],
      "metadata": {
        "id": "Mw9E2fNZMRly"
      },
      "id": "Mw9E2fNZMRly"
    },
    {
      "cell_type": "code",
      "source": [
        "# Distribución de target\n",
        "sns.countplot(x='abandono_cliente', data=Df_base)\n",
        "plt.title('Distribución de Abandono');"
      ],
      "metadata": {
        "colab": {
          "base_uri": "https://localhost:8080/",
          "height": 472
        },
        "id": "KRuFRPUjC-Ti",
        "outputId": "776c4c73-bbd7-4641-eb1e-06f666ee3245"
      },
      "id": "KRuFRPUjC-Ti",
      "execution_count": 57,
      "outputs": [
        {
          "output_type": "display_data",
          "data": {
            "text/plain": [
              "<Figure size 640x480 with 1 Axes>"
            ],
            "image/png": "[encoded data removed]"
          },
          "metadata": {}
        }
      ]
    },
    {
      "cell_type": "code",
      "source": [
        "print(\"Proporcion Cantidad:\",Df_base['abandono_cliente'].value_counts())\n",
        "print(\"Proporcion porcentaje:\", Df_base['abandono_cliente'].value_counts(normalize=True).round(3)*100)"
      ],
      "metadata": {
        "id": "ffLG1bEDh3Ih",
        "outputId": "1052434a-1c8e-4336-82d1-9f129ce8f514",
        "colab": {
          "base_uri": "https://localhost:8080/"
        }
      },
      "execution_count": 58,
      "outputs": [
        {
          "output_type": "stream",
          "name": "stdout",
          "text": [
            "Proporcion Cantidad: abandono_cliente\n",
            "No    5339\n",
            "Si    1928\n",
            "Name: count, dtype: int64\n",
            "Proporcion porcentaje: abandono_cliente\n",
            "No    73.5\n",
            "Si    26.5\n",
            "Name: proportion, dtype: float64\n"
          ]
        }
      ],
      "id": "ffLG1bEDh3Ih"
    },
    {
      "cell_type": "markdown",
      "source": [
        "### Eliminación de Columnas Irrelevantes"
      ],
      "metadata": {
        "id": "X_YUXHbBJ41p"
      },
      "id": "X_YUXHbBJ41p"
    },
    {
      "cell_type": "markdown",
      "source": [
        "Elimina columnas que **no aportan valor al análisis** o a **los modelos predictivos**, como identificadores únicos (por ejemplo, el ID del cliente). Estas columnas no ayudan en la predicción de la cancelación y pueden incluso perjudicar el desempeño de los modelos."
      ],
      "metadata": {
        "id": "BPBd-Ac3McVC"
      },
      "id": "BPBd-Ac3McVC"
    },
    {
      "cell_type": "code",
      "source": [
        "Df_base.drop(columns=['id_cliente', 'cargo.diario'], axis=1,inplace=True)"
      ],
      "metadata": {
        "id": "CY-KLz-MlpNG"
      },
      "id": "CY-KLz-MlpNG",
      "execution_count": 59,
      "outputs": []
    },
    {
      "cell_type": "markdown",
      "source": [
        "**Eliminar columnas redundantes o problemáticas**\n",
        "\n",
        "*   `id_cliente`: Identificador único sin valor predictivo.\n",
        "*   `cargo.diario`: **Redundante**. Se calcula como `cargo.mensual / 30` (aproximado). No añade información única.\n",
        "\n"
      ],
      "metadata": {
        "id": "vMJz9rMYqKgG"
      },
      "id": "vMJz9rMYqKgG"
    },
    {
      "cell_type": "code",
      "source": [
        "# Conversión de target\n",
        "Df_base['abandono_cliente'] = Df_base['abandono_cliente'].map({'Si': 1, 'No': 0})"
      ],
      "metadata": {
        "id": "kmRLs2ID8qEq"
      },
      "id": "kmRLs2ID8qEq",
      "execution_count": 60,
      "outputs": []
    },
    {
      "cell_type": "markdown",
      "source": [
        "`abandono_cliente`:\n",
        "\n",
        "*   Si: `1`\n",
        "*   No: `0`\n",
        "\n",
        "\n"
      ],
      "metadata": {
        "id": "LRJJ1x8Y_44U"
      },
      "id": "LRJJ1x8Y_44U"
    },
    {
      "cell_type": "code",
      "source": [
        "Df_base.tail(1)"
      ],
      "metadata": {
        "id": "MLt5U0q2ly6d",
        "outputId": "89dd8bfc-764f-4162-e475-91a53f210579",
        "colab": {
          "base_uri": "https://localhost:8080/",
          "height": 118
        }
      },
      "id": "MLt5U0q2ly6d",
      "execution_count": 61,
      "outputs": [
        {
          "output_type": "execute_result",
          "data": {
            "text/plain": [
              "      abandono_cliente     genero  jubilado pareja dependientes  \\\n",
              "7266                 0  Masculino     False     Si           Si   \n",
              "\n",
              "      meses_antiguedad servicio_telefono      ad.multiples_lineas  \\\n",
              "7266                63                No  Sin servicio telefónico   \n",
              "\n",
              "     servicio_internet ad.seguridad_online ad.respaldo_online  \\\n",
              "7266               DSL                  Si                 Si   \n",
              "\n",
              "     ad.proteccion_dispositivo ad.soporte_tecnico tv.streaming  \\\n",
              "7266                        Si                 No           Si   \n",
              "\n",
              "     peliculas.streaming  contrato factura_digital         metodo_pago  \\\n",
              "7266                  Si  Dos años              No  Cheque electrónico   \n",
              "\n",
              "      cargo.mensual  cargo.total  \n",
              "7266           59.0       3707.6  "
            ],
            "text/html": [
              "\n",
              "  <div id=\"df-26ba9837-aab7-41c6-9b91-9a8d10216437\" class=\"colab-df-container\">\n",
              "    <div>\n",
              "<style scoped>\n",
              "    .dataframe tbody tr th:only-of-type {\n",
              "        vertical-align: middle;\n",
              "    }\n",
              "\n",
              "    .dataframe tbody tr th {\n",
              "        vertical-align: top;\n",
              "    }\n",
              "\n",
              "    .dataframe thead th {\n",
              "        text-align: right;\n",
              "    }\n",
              "</style>\n",
              "<table border=\"1\" class=\"dataframe\">\n",
              "  <thead>\n",
              "    <tr style=\"text-align: right;\">\n",
              "      <th></th>\n",
              "      <th>abandono_cliente</th>\n",
              "      <th>genero</th>\n",
              "      <th>jubilado</th>\n",
              "      <th>pareja</th>\n",
              "      <th>dependientes</th>\n",
              "      <th>meses_antiguedad</th>\n",
              "      <th>servicio_telefono</th>\n",
              "      <th>ad.multiples_lineas</th>\n",
              "      <th>servicio_internet</th>\n",
              "      <th>ad.seguridad_online</th>\n",
              "      <th>ad.respaldo_online</th>\n",
              "      <th>ad.proteccion_dispositivo</th>\n",
              "      <th>ad.soporte_tecnico</th>\n",
              "      <th>tv.streaming</th>\n",
              "      <th>peliculas.streaming</th>\n",
              "      <th>contrato</th>\n",
              "      <th>factura_digital</th>\n",
              "      <th>metodo_pago</th>\n",
              "      <th>cargo.mensual</th>\n",
              "      <th>cargo.total</th>\n",
              "    </tr>\n",
              "  </thead>\n",
              "  <tbody>\n",
              "    <tr>\n",
              "      <th>7266</th>\n",
              "      <td>0</td>\n",
              "      <td>Masculino</td>\n",
              "      <td>False</td>\n",
              "      <td>Si</td>\n",
              "      <td>Si</td>\n",
              "      <td>63</td>\n",
              "      <td>No</td>\n",
              "      <td>Sin servicio telefónico</td>\n",
              "      <td>DSL</td>\n",
              "      <td>Si</td>\n",
              "      <td>Si</td>\n",
              "      <td>Si</td>\n",
              "      <td>No</td>\n",
              "      <td>Si</td>\n",
              "      <td>Si</td>\n",
              "      <td>Dos años</td>\n",
              "      <td>No</td>\n",
              "      <td>Cheque electrónico</td>\n",
              "      <td>59.0</td>\n",
              "      <td>3707.6</td>\n",
              "    </tr>\n",
              "  </tbody>\n",
              "</table>\n",
              "</div>\n",
              "    <div class=\"colab-df-buttons\">\n",
              "\n",
              "  <div class=\"colab-df-container\">\n",
              "    <button class=\"colab-df-convert\" onclick=\"convertToInteractive('df-26ba9837-aab7-41c6-9b91-9a8d10216437')\"\n",
              "            title=\"Convert this dataframe to an interactive table.\"\n",
              "            style=\"display:none;\">\n",
              "\n",
              "  <svg xmlns=\"http://www.w3.org/2000/svg\" height=\"24px\" viewBox=\"0 -960 960 960\">\n",
              "    <path d=\"M120-120v-720h720v720H120Zm60-500h600v-160H180v160Zm220 220h160v-160H400v160Zm0 220h160v-160H400v160ZM180-400h160v-160H180v160Zm440 0h160v-160H620v160ZM180-180h160v-160H180v160Zm440 0h160v-160H620v160Z\"/>\n",
              "  </svg>\n",
              "    </button>\n",
              "\n",
              "  <style>\n",
              "    .colab-df-container {\n",
              "      display:flex;\n",
              "      gap: 12px;\n",
              "    }\n",
              "\n",
              "    .colab-df-convert {\n",
              "      background-color: #E8F0FE;\n",
              "      border: none;\n",
              "      border-radius: 50%;\n",
              "      cursor: pointer;\n",
              "      display: none;\n",
              "      fill: #1967D2;\n",
              "      height: 32px;\n",
              "      padding: 0 0 0 0;\n",
              "      width: 32px;\n",
              "    }\n",
              "\n",
              "    .colab-df-convert:hover {\n",
              "      background-color: #E2EBFA;\n",
              "      box-shadow: 0px 1px 2px rgba(60, 64, 67, 0.3), 0px 1px 3px 1px rgba(60, 64, 67, 0.15);\n",
              "      fill: #174EA6;\n",
              "    }\n",
              "\n",
              "    .colab-df-buttons div {\n",
              "      margin-bottom: 4px;\n",
              "    }\n",
              "\n",
              "    [theme=dark] .colab-df-convert {\n",
              "      background-color: #3B4455;\n",
              "      fill: #D2E3FC;\n",
              "    }\n",
              "\n",
              "    [theme=dark] .colab-df-convert:hover {\n",
              "      background-color: #434B5C;\n",
              "      box-shadow: 0px 1px 3px 1px rgba(0, 0, 0, 0.15);\n",
              "      filter: drop-shadow(0px 1px 2px rgba(0, 0, 0, 0.3));\n",
              "      fill: #FFFFFF;\n",
              "    }\n",
              "  </style>\n",
              "\n",
              "    <script>\n",
              "      const buttonEl =\n",
              "        document.querySelector('#df-26ba9837-aab7-41c6-9b91-9a8d10216437 button.colab-df-convert');\n",
              "      buttonEl.style.display =\n",
              "        google.colab.kernel.accessAllowed ? 'block' : 'none';\n",
              "\n",
              "      async function convertToInteractive(key) {\n",
              "        const element = document.querySelector('#df-26ba9837-aab7-41c6-9b91-9a8d10216437');\n",
              "        const dataTable =\n",
              "          await google.colab.kernel.invokeFunction('convertToInteractive',\n",
              "                                                    [key], {});\n",
              "        if (!dataTable) return;\n",
              "\n",
              "        const docLinkHtml = 'Like what you see? Visit the ' +\n",
              "          '<a target=\"_blank\" href=https://colab.research.google.com/notebooks/data_table.ipynb>data table notebook</a>'\n",
              "          + ' to learn more about interactive tables.';\n",
              "        element.innerHTML = '';\n",
              "        dataTable['output_type'] = 'display_data';\n",
              "        await google.colab.output.renderOutput(dataTable, element);\n",
              "        const docLink = document.createElement('div');\n",
              "        docLink.innerHTML = docLinkHtml;\n",
              "        element.appendChild(docLink);\n",
              "      }\n",
              "    </script>\n",
              "  </div>\n",
              "\n",
              "\n",
              "    </div>\n",
              "  </div>\n"
            ],
            "application/vnd.google.colaboratory.intrinsic+json": {
              "type": "dataframe",
              "summary": "{\n  \"name\": \"Df_base\",\n  \"rows\": 1,\n  \"fields\": [\n    {\n      \"column\": \"abandono_cliente\",\n      \"properties\": {\n        \"dtype\": \"number\",\n        \"std\": null,\n        \"min\": 0,\n        \"max\": 0,\n        \"num_unique_values\": 1,\n        \"samples\": [\n          0\n        ],\n        \"semantic_type\": \"\",\n        \"description\": \"\"\n      }\n    },\n    {\n      \"column\": \"genero\",\n      \"properties\": {\n        \"dtype\": \"string\",\n        \"num_unique_values\": 1,\n        \"samples\": [\n          \"Masculino\"\n        ],\n        \"semantic_type\": \"\",\n        \"description\": \"\"\n      }\n    },\n    {\n      \"column\": \"jubilado\",\n      \"properties\": {\n        \"dtype\": \"boolean\",\n        \"num_unique_values\": 1,\n        \"samples\": [\n          false\n        ],\n        \"semantic_type\": \"\",\n        \"description\": \"\"\n      }\n    },\n    {\n      \"column\": \"pareja\",\n      \"properties\": {\n        \"dtype\": \"string\",\n        \"num_unique_values\": 1,\n        \"samples\": [\n          \"Si\"\n        ],\n        \"semantic_type\": \"\",\n        \"description\": \"\"\n      }\n    },\n    {\n      \"column\": \"dependientes\",\n      \"properties\": {\n        \"dtype\": \"string\",\n        \"num_unique_values\": 1,\n        \"samples\": [\n          \"Si\"\n        ],\n        \"semantic_type\": \"\",\n        \"description\": \"\"\n      }\n    },\n    {\n      \"column\": \"meses_antiguedad\",\n      \"properties\": {\n        \"dtype\": \"number\",\n        \"std\": null,\n        \"min\": 63,\n        \"max\": 63,\n        \"num_unique_values\": 1,\n        \"samples\": [\n          63\n        ],\n        \"semantic_type\": \"\",\n        \"description\": \"\"\n      }\n    },\n    {\n      \"column\": \"servicio_telefono\",\n      \"properties\": {\n        \"dtype\": \"string\",\n        \"num_unique_values\": 1,\n        \"samples\": [\n          \"No\"\n        ],\n        \"semantic_type\": \"\",\n        \"description\": \"\"\n      }\n    },\n    {\n      \"column\": \"ad.multiples_lineas\",\n      \"properties\": {\n        \"dtype\": \"string\",\n        \"num_unique_values\": 1,\n        \"samples\": [\n          \"Sin servicio telef\\u00f3nico\"\n        ],\n        \"semantic_type\": \"\",\n        \"description\": \"\"\n      }\n    },\n    {\n      \"column\": \"servicio_internet\",\n      \"properties\": {\n        \"dtype\": \"string\",\n        \"num_unique_values\": 1,\n        \"samples\": [\n          \"DSL\"\n        ],\n        \"semantic_type\": \"\",\n        \"description\": \"\"\n      }\n    },\n    {\n      \"column\": \"ad.seguridad_online\",\n      \"properties\": {\n        \"dtype\": \"string\",\n        \"num_unique_values\": 1,\n        \"samples\": [\n          \"Si\"\n        ],\n        \"semantic_type\": \"\",\n        \"description\": \"\"\n      }\n    },\n    {\n      \"column\": \"ad.respaldo_online\",\n      \"properties\": {\n        \"dtype\": \"string\",\n        \"num_unique_values\": 1,\n        \"samples\": [\n          \"Si\"\n        ],\n        \"semantic_type\": \"\",\n        \"description\": \"\"\n      }\n    },\n    {\n      \"column\": \"ad.proteccion_dispositivo\",\n      \"properties\": {\n        \"dtype\": \"string\",\n        \"num_unique_values\": 1,\n        \"samples\": [\n          \"Si\"\n        ],\n        \"semantic_type\": \"\",\n        \"description\": \"\"\n      }\n    },\n    {\n      \"column\": \"ad.soporte_tecnico\",\n      \"properties\": {\n        \"dtype\": \"string\",\n        \"num_unique_values\": 1,\n        \"samples\": [\n          \"No\"\n        ],\n        \"semantic_type\": \"\",\n        \"description\": \"\"\n      }\n    },\n    {\n      \"column\": \"tv.streaming\",\n      \"properties\": {\n        \"dtype\": \"string\",\n        \"num_unique_values\": 1,\n        \"samples\": [\n          \"Si\"\n        ],\n        \"semantic_type\": \"\",\n        \"description\": \"\"\n      }\n    },\n    {\n      \"column\": \"peliculas.streaming\",\n      \"properties\": {\n        \"dtype\": \"string\",\n        \"num_unique_values\": 1,\n        \"samples\": [\n          \"Si\"\n        ],\n        \"semantic_type\": \"\",\n        \"description\": \"\"\n      }\n    },\n    {\n      \"column\": \"contrato\",\n      \"properties\": {\n        \"dtype\": \"string\",\n        \"num_unique_values\": 1,\n        \"samples\": [\n          \"Dos a\\u00f1os\"\n        ],\n        \"semantic_type\": \"\",\n        \"description\": \"\"\n      }\n    },\n    {\n      \"column\": \"factura_digital\",\n      \"properties\": {\n        \"dtype\": \"string\",\n        \"num_unique_values\": 1,\n        \"samples\": [\n          \"No\"\n        ],\n        \"semantic_type\": \"\",\n        \"description\": \"\"\n      }\n    },\n    {\n      \"column\": \"metodo_pago\",\n      \"properties\": {\n        \"dtype\": \"string\",\n        \"num_unique_values\": 1,\n        \"samples\": [\n          \"Cheque electr\\u00f3nico\"\n        ],\n        \"semantic_type\": \"\",\n        \"description\": \"\"\n      }\n    },\n    {\n      \"column\": \"cargo.mensual\",\n      \"properties\": {\n        \"dtype\": \"number\",\n        \"std\": null,\n        \"min\": 59.0,\n        \"max\": 59.0,\n        \"num_unique_values\": 1,\n        \"samples\": [\n          59.0\n        ],\n        \"semantic_type\": \"\",\n        \"description\": \"\"\n      }\n    },\n    {\n      \"column\": \"cargo.total\",\n      \"properties\": {\n        \"dtype\": \"number\",\n        \"std\": null,\n        \"min\": 3707.6,\n        \"max\": 3707.6,\n        \"num_unique_values\": 1,\n        \"samples\": [\n          3707.6\n        ],\n        \"semantic_type\": \"\",\n        \"description\": \"\"\n      }\n    }\n  ]\n}"
            }
          },
          "metadata": {},
          "execution_count": 61
        }
      ]
    },
    {
      "cell_type": "code",
      "source": [
        "Df_base.columns"
      ],
      "metadata": {
        "colab": {
          "base_uri": "https://localhost:8080/"
        },
        "id": "Br7d6Hj-n95w",
        "outputId": "d6a9809f-b562-47a5-e425-bc0ce6c94ad0"
      },
      "id": "Br7d6Hj-n95w",
      "execution_count": 62,
      "outputs": [
        {
          "output_type": "execute_result",
          "data": {
            "text/plain": [
              "Index(['abandono_cliente', 'genero', 'jubilado', 'pareja', 'dependientes',\n",
              "       'meses_antiguedad', 'servicio_telefono', 'ad.multiples_lineas',\n",
              "       'servicio_internet', 'ad.seguridad_online', 'ad.respaldo_online',\n",
              "       'ad.proteccion_dispositivo', 'ad.soporte_tecnico', 'tv.streaming',\n",
              "       'peliculas.streaming', 'contrato', 'factura_digital', 'metodo_pago',\n",
              "       'cargo.mensual', 'cargo.total'],\n",
              "      dtype='object')"
            ]
          },
          "metadata": {},
          "execution_count": 62
        }
      ]
    },
    {
      "cell_type": "markdown",
      "source": [
        "### División Train/Test (con variables categóricas)"
      ],
      "metadata": {
        "id": "AR5wXGYj89op"
      },
      "id": "AR5wXGYj89op"
    },
    {
      "cell_type": "markdown",
      "source": [
        "*   `X` se usa para modelos no lineales (árboles, random forest, etc.)\n",
        "*   `X_linear` se usa para modelos lineales (regresión logística, etc.) que requieren evitar multicolinealidad."
      ],
      "metadata": {
        "id": "DwdIdwv1SAfx"
      },
      "id": "DwdIdwv1SAfx"
    },
    {
      "cell_type": "markdown",
      "source": [
        "Modelo no lineal"
      ],
      "metadata": {
        "id": "_5hUpeD29VgQ"
      },
      "id": "_5hUpeD29VgQ"
    },
    {
      "cell_type": "markdown",
      "source": [
        "Selección de features (X) y target (y):"
      ],
      "metadata": {
        "id": "cgfu_0PxSTEo"
      },
      "id": "cgfu_0PxSTEo"
    },
    {
      "cell_type": "code",
      "source": [
        "# Dividir ANTES de transformaciones para evitar data leakage\n",
        "X = Df_base.drop(columns=['abandono_cliente'], axis=1)\n",
        "y = Df_base['abandono_cliente']"
      ],
      "metadata": {
        "id": "TvvoHD3rpzhj"
      },
      "id": "TvvoHD3rpzhj",
      "execution_count": 63,
      "outputs": []
    },
    {
      "cell_type": "code",
      "source": [
        "# Dividir datos en entrenamiento y prueba (80/20)\n",
        "X_train, X_test, y_train, y_test = train_test_split(\n",
        "    X, y,\n",
        "    test_size=0.2,\n",
        "    stratify=y,  # Mantener proporción de clases\n",
        "    random_state=42\n",
        ")"
      ],
      "metadata": {
        "id": "Zmq1Zbdt9kBo"
      },
      "id": "Zmq1Zbdt9kBo",
      "execution_count": 64,
      "outputs": []
    },
    {
      "cell_type": "code",
      "source": [
        "# Identificar tipos de columnas\n",
        "numeric_cols = X_train.select_dtypes(include=np.number).columns.tolist()\n",
        "categorical_cols = X_train.select_dtypes(exclude=np.number).columns.tolist()"
      ],
      "metadata": {
        "id": "dxXAC2X09nR4"
      },
      "id": "dxXAC2X09nR4",
      "execution_count": 65,
      "outputs": []
    },
    {
      "cell_type": "markdown",
      "source": [
        "**Explicación de manejo de categóricas:**<br>\n",
        "La división se hace con las variables categóricas originales porque:\n",
        "1.   No introduce data leakage\n",
        "2.   `train_test_split` puede manejar objetos/strings sin problemas\n",
        "3.   Las transformaciones se aplicarán después solo al training set"
      ],
      "metadata": {
        "id": "B9okxz0397Jf"
      },
      "id": "B9okxz0397Jf"
    },
    {
      "cell_type": "markdown",
      "source": [
        "Hace lo mismo solo que mas automatizado\n",
        "\n",
        "```\n",
        "  Categorias = ['genero', 'jubilado', 'pareja', 'dependientes', 'servicio_telefono',\n",
        "                'ad.multiples_lineas', 'servicio_internet', 'ad.seguridad_online',\n",
        "                'ad.respaldo_online', 'ad.proteccion_dispositivo', 'ad.soporte_tecnico',\n",
        "                'tv.streaming', 'peliculas.streaming', 'contrato', 'factura_digital', 'metodo_pago',]\n",
        "```"
      ],
      "metadata": {
        "id": "x6xytTA9xK-u"
      },
      "id": "x6xytTA9xK-u"
    },
    {
      "cell_type": "markdown",
      "source": [
        "### Encoding"
      ],
      "metadata": {
        "id": "tvS5cMBa7k0j"
      },
      "id": "tvS5cMBa7k0j"
    },
    {
      "cell_type": "markdown",
      "source": [
        "Transforma las variables categóricas a formato numérico para hacerlas compatibles con los algoritmos de _machine learning_. Utiliza un método de codificación adecuado, como **one-hot encoding**."
      ],
      "metadata": {
        "id": "8_1atqcp7sZK"
      },
      "id": "8_1atqcp7sZK"
    },
    {
      "cell_type": "markdown",
      "source": [
        "Transformadores (`make_column_transformer`)"
      ],
      "metadata": {
        "id": "X9Mgwv15Tcbe"
      },
      "id": "X9Mgwv15Tcbe"
    },
    {
      "cell_type": "code",
      "source": [
        "label_encoder = LabelEncoder()\n",
        "\n",
        "# Configurar preprocesador con make_column_transformer\n",
        "preprocesador_one_hot = make_column_transformer(\n",
        "      (OneHotEncoder(drop='if_binary'), categorical_cols),\n",
        "      # drop='if_binary' ➝ elimina una categoría si hay solo dos (evita duplicados).\n",
        "      remainder='passthrough',\n",
        "      # remainder='passthrough' ➝ las columnas numéricas se dejan como están.\n",
        "      sparse_threshold=0,\n",
        ")"
      ],
      "metadata": {
        "id": "IqphOueHGk1Q"
      },
      "id": "IqphOueHGk1Q",
      "execution_count": 66,
      "outputs": []
    },
    {
      "cell_type": "markdown",
      "source": [
        "Aplicar los transformadores:"
      ],
      "metadata": {
        "id": "PoP318i0TsUu"
      },
      "id": "PoP318i0TsUu"
    },
    {
      "cell_type": "code",
      "source": [
        "# Aplicar solo al training set\n",
        "X_train_processed = preprocesador_one_hot.fit_transform(X_train)\n",
        "X_test_processed = preprocesador_one_hot.transform(X_test)\n",
        "\n",
        "y = label_encoder.fit_transform(y)"
      ],
      "metadata": {
        "id": "uCbeYCgqGS5Y"
      },
      "id": "uCbeYCgqGS5Y",
      "execution_count": 67,
      "outputs": []
    },
    {
      "cell_type": "code",
      "source": [
        "X_test_processed"
      ],
      "metadata": {
        "colab": {
          "base_uri": "https://localhost:8080/"
        },
        "id": "U7m7cG1gInGx",
        "outputId": "6d21b01f-0d98-4d63-9626-ada13116861d"
      },
      "id": "U7m7cG1gInGx",
      "execution_count": 68,
      "outputs": [
        {
          "output_type": "execute_result",
          "data": {
            "text/plain": [
              "array([[1.0000e+00, 0.0000e+00, 0.0000e+00, ..., 1.3000e+01, 2.0400e+01,\n",
              "        2.5165e+02],\n",
              "       [0.0000e+00, 0.0000e+00, 0.0000e+00, ..., 1.0000e+00, 1.9550e+01,\n",
              "        1.9550e+01],\n",
              "       [0.0000e+00, 0.0000e+00, 1.0000e+00, ..., 3.3000e+01, 2.0050e+01,\n",
              "        6.6945e+02],\n",
              "       ...,\n",
              "       [1.0000e+00, 0.0000e+00, 0.0000e+00, ..., 5.2000e+01, 9.1250e+01,\n",
              "        4.7383e+03],\n",
              "       [0.0000e+00, 1.0000e+00, 1.0000e+00, ..., 7.0000e+01, 1.1300e+02,\n",
              "        7.9876e+03],\n",
              "       [0.0000e+00, 0.0000e+00, 1.0000e+00, ..., 4.0000e+01, 5.6600e+01,\n",
              "        2.3791e+03]])"
            ]
          },
          "metadata": {},
          "execution_count": 68
        }
      ]
    },
    {
      "cell_type": "markdown",
      "source": [
        "Obtener nombres de columnas codificadas:"
      ],
      "metadata": {
        "id": "XGIWzh6vWkYx"
      },
      "id": "XGIWzh6vWkYx"
    },
    {
      "cell_type": "code",
      "source": [
        "columnas = preprocesador_one_hot.get_feature_names_out()\n",
        "\n",
        "columnas_encoded = []\n",
        "for columna in columnas:\n",
        "    columna = columna.split('__')[1]\n",
        "    columnas_encoded.append(columna)"
      ],
      "metadata": {
        "id": "C9j3v1QbvsV0"
      },
      "execution_count": 44,
      "outputs": [],
      "id": "C9j3v1QbvsV0"
    },
    {
      "cell_type": "markdown",
      "source": [
        "Transformacion a Df"
      ],
      "metadata": {
        "id": "I8Cgk5tmXSqg"
      },
      "id": "I8Cgk5tmXSqg"
    },
    {
      "cell_type": "code",
      "source": [
        "Df_Train = pd.DataFrame(X_train_processed, columns=columnas_encoded)\n",
        "Df_Test = pd.DataFrame(X_test_processed, columns=columnas_encoded)\n",
        "Df_Encoded = pd.concat([Df_Train, Df_Test], axis=0, ignore_index=True)\n",
        "Df_Encoded.tail(1)"
      ],
      "metadata": {
        "id": "Ym-dyZojQ99B",
        "outputId": "1d245bc5-5e2f-40d8-d941-958ec7b4b714",
        "colab": {
          "base_uri": "https://localhost:8080/",
          "height": 165
        }
      },
      "id": "Ym-dyZojQ99B",
      "execution_count": 45,
      "outputs": [
        {
          "output_type": "execute_result",
          "data": {
            "text/plain": [
              "      genero_Masculino  jubilado_True  pareja_Si  dependientes_Si  \\\n",
              "7266               0.0            0.0        1.0              0.0   \n",
              "\n",
              "      servicio_telefono_Si  ad.multiples_lineas_No  ad.multiples_lineas_Si  \\\n",
              "7266                   1.0                     0.0                     1.0   \n",
              "\n",
              "      ad.multiples_lineas_Sin servicio telefónico  servicio_internet_DSL  \\\n",
              "7266                                          0.0                    1.0   \n",
              "\n",
              "      servicio_internet_Fibra óptica  ...  contrato_Mes a mes  \\\n",
              "7266                             0.0  ...                 1.0   \n",
              "\n",
              "      contrato_Un año  factura_digital_Si  metodo_pago_Cheque electrónico  \\\n",
              "7266              0.0                 0.0                             0.0   \n",
              "\n",
              "      metodo_pago_Cheque por correo  \\\n",
              "7266                            0.0   \n",
              "\n",
              "      metodo_pago_Tarjeta de crédito (automática)  \\\n",
              "7266                                          1.0   \n",
              "\n",
              "      metodo_pago_Transferencia bancaria (automática)  meses_antiguedad  \\\n",
              "7266                                              0.0              40.0   \n",
              "\n",
              "      cargo.mensual  cargo.total  \n",
              "7266           56.6       2379.1  \n",
              "\n",
              "[1 rows x 40 columns]"
            ],
            "text/html": [
              "\n",
              "  <div id=\"df-49484c1d-39c7-43bb-b9ce-89844df3a163\" class=\"colab-df-container\">\n",
              "    <div>\n",
              "<style scoped>\n",
              "    .dataframe tbody tr th:only-of-type {\n",
              "        vertical-align: middle;\n",
              "    }\n",
              "\n",
              "    .dataframe tbody tr th {\n",
              "        vertical-align: top;\n",
              "    }\n",
              "\n",
              "    .dataframe thead th {\n",
              "        text-align: right;\n",
              "    }\n",
              "</style>\n",
              "<table border=\"1\" class=\"dataframe\">\n",
              "  <thead>\n",
              "    <tr style=\"text-align: right;\">\n",
              "      <th></th>\n",
              "      <th>genero_Masculino</th>\n",
              "      <th>jubilado_True</th>\n",
              "      <th>pareja_Si</th>\n",
              "      <th>dependientes_Si</th>\n",
              "      <th>servicio_telefono_Si</th>\n",
              "      <th>ad.multiples_lineas_No</th>\n",
              "      <th>ad.multiples_lineas_Si</th>\n",
              "      <th>ad.multiples_lineas_Sin servicio telefónico</th>\n",
              "      <th>servicio_internet_DSL</th>\n",
              "      <th>servicio_internet_Fibra óptica</th>\n",
              "      <th>...</th>\n",
              "      <th>contrato_Mes a mes</th>\n",
              "      <th>contrato_Un año</th>\n",
              "      <th>factura_digital_Si</th>\n",
              "      <th>metodo_pago_Cheque electrónico</th>\n",
              "      <th>metodo_pago_Cheque por correo</th>\n",
              "      <th>metodo_pago_Tarjeta de crédito (automática)</th>\n",
              "      <th>metodo_pago_Transferencia bancaria (automática)</th>\n",
              "      <th>meses_antiguedad</th>\n",
              "      <th>cargo.mensual</th>\n",
              "      <th>cargo.total</th>\n",
              "    </tr>\n",
              "  </thead>\n",
              "  <tbody>\n",
              "    <tr>\n",
              "      <th>7266</th>\n",
              "      <td>0.0</td>\n",
              "      <td>0.0</td>\n",
              "      <td>1.0</td>\n",
              "      <td>0.0</td>\n",
              "      <td>1.0</td>\n",
              "      <td>0.0</td>\n",
              "      <td>1.0</td>\n",
              "      <td>0.0</td>\n",
              "      <td>1.0</td>\n",
              "      <td>0.0</td>\n",
              "      <td>...</td>\n",
              "      <td>1.0</td>\n",
              "      <td>0.0</td>\n",
              "      <td>0.0</td>\n",
              "      <td>0.0</td>\n",
              "      <td>0.0</td>\n",
              "      <td>1.0</td>\n",
              "      <td>0.0</td>\n",
              "      <td>40.0</td>\n",
              "      <td>56.6</td>\n",
              "      <td>2379.1</td>\n",
              "    </tr>\n",
              "  </tbody>\n",
              "</table>\n",
              "<p>1 rows × 40 columns</p>\n",
              "</div>\n",
              "    <div class=\"colab-df-buttons\">\n",
              "\n",
              "  <div class=\"colab-df-container\">\n",
              "    <button class=\"colab-df-convert\" onclick=\"convertToInteractive('df-49484c1d-39c7-43bb-b9ce-89844df3a163')\"\n",
              "            title=\"Convert this dataframe to an interactive table.\"\n",
              "            style=\"display:none;\">\n",
              "\n",
              "  <svg xmlns=\"http://www.w3.org/2000/svg\" height=\"24px\" viewBox=\"0 -960 960 960\">\n",
              "    <path d=\"M120-120v-720h720v720H120Zm60-500h600v-160H180v160Zm220 220h160v-160H400v160Zm0 220h160v-160H400v160ZM180-400h160v-160H180v160Zm440 0h160v-160H620v160ZM180-180h160v-160H180v160Zm440 0h160v-160H620v160Z\"/>\n",
              "  </svg>\n",
              "    </button>\n",
              "\n",
              "  <style>\n",
              "    .colab-df-container {\n",
              "      display:flex;\n",
              "      gap: 12px;\n",
              "    }\n",
              "\n",
              "    .colab-df-convert {\n",
              "      background-color: #E8F0FE;\n",
              "      border: none;\n",
              "      border-radius: 50%;\n",
              "      cursor: pointer;\n",
              "      display: none;\n",
              "      fill: #1967D2;\n",
              "      height: 32px;\n",
              "      padding: 0 0 0 0;\n",
              "      width: 32px;\n",
              "    }\n",
              "\n",
              "    .colab-df-convert:hover {\n",
              "      background-color: #E2EBFA;\n",
              "      box-shadow: 0px 1px 2px rgba(60, 64, 67, 0.3), 0px 1px 3px 1px rgba(60, 64, 67, 0.15);\n",
              "      fill: #174EA6;\n",
              "    }\n",
              "\n",
              "    .colab-df-buttons div {\n",
              "      margin-bottom: 4px;\n",
              "    }\n",
              "\n",
              "    [theme=dark] .colab-df-convert {\n",
              "      background-color: #3B4455;\n",
              "      fill: #D2E3FC;\n",
              "    }\n",
              "\n",
              "    [theme=dark] .colab-df-convert:hover {\n",
              "      background-color: #434B5C;\n",
              "      box-shadow: 0px 1px 3px 1px rgba(0, 0, 0, 0.15);\n",
              "      filter: drop-shadow(0px 1px 2px rgba(0, 0, 0, 0.3));\n",
              "      fill: #FFFFFF;\n",
              "    }\n",
              "  </style>\n",
              "\n",
              "    <script>\n",
              "      const buttonEl =\n",
              "        document.querySelector('#df-49484c1d-39c7-43bb-b9ce-89844df3a163 button.colab-df-convert');\n",
              "      buttonEl.style.display =\n",
              "        google.colab.kernel.accessAllowed ? 'block' : 'none';\n",
              "\n",
              "      async function convertToInteractive(key) {\n",
              "        const element = document.querySelector('#df-49484c1d-39c7-43bb-b9ce-89844df3a163');\n",
              "        const dataTable =\n",
              "          await google.colab.kernel.invokeFunction('convertToInteractive',\n",
              "                                                    [key], {});\n",
              "        if (!dataTable) return;\n",
              "\n",
              "        const docLinkHtml = 'Like what you see? Visit the ' +\n",
              "          '<a target=\"_blank\" href=https://colab.research.google.com/notebooks/data_table.ipynb>data table notebook</a>'\n",
              "          + ' to learn more about interactive tables.';\n",
              "        element.innerHTML = '';\n",
              "        dataTable['output_type'] = 'display_data';\n",
              "        await google.colab.output.renderOutput(dataTable, element);\n",
              "        const docLink = document.createElement('div');\n",
              "        docLink.innerHTML = docLinkHtml;\n",
              "        element.appendChild(docLink);\n",
              "      }\n",
              "    </script>\n",
              "  </div>\n",
              "\n",
              "\n",
              "    </div>\n",
              "  </div>\n"
            ],
            "application/vnd.google.colaboratory.intrinsic+json": {
              "type": "dataframe"
            }
          },
          "metadata": {},
          "execution_count": 45
        }
      ]
    },
    {
      "cell_type": "code",
      "source": [
        "Df_No_lineal_y = pd.DataFrame(y, columns=['abandono_cliente_si'])\n",
        "Df_No_lineal = pd.concat([Df_Encoded, Df_No_lineal_y], axis=1)\n",
        "Df_No_lineal"
      ],
      "metadata": {
        "colab": {
          "base_uri": "https://localhost:8080/",
          "height": 478
        },
        "id": "WYTf9VCevuVc",
        "outputId": "43c4c638-ace9-4b53-8360-04077a89f26a"
      },
      "execution_count": 49,
      "outputs": [
        {
          "output_type": "execute_result",
          "data": {
            "text/plain": [
              "      genero_Masculino  jubilado_True  pareja_Si  dependientes_Si  \\\n",
              "0                  0.0            1.0        0.0              0.0   \n",
              "1                  1.0            0.0        0.0              0.0   \n",
              "2                  1.0            1.0        0.0              0.0   \n",
              "3                  1.0            1.0        0.0              0.0   \n",
              "4                  1.0            0.0        1.0              1.0   \n",
              "...                ...            ...        ...              ...   \n",
              "7262               0.0            0.0        1.0              0.0   \n",
              "7263               0.0            0.0        0.0              0.0   \n",
              "7264               1.0            0.0        0.0              0.0   \n",
              "7265               0.0            1.0        1.0              0.0   \n",
              "7266               0.0            0.0        1.0              0.0   \n",
              "\n",
              "      servicio_telefono_Si  ad.multiples_lineas_No  ad.multiples_lineas_Si  \\\n",
              "0                      1.0                     0.0                     1.0   \n",
              "1                      1.0                     1.0                     0.0   \n",
              "2                      1.0                     1.0                     0.0   \n",
              "3                      1.0                     1.0                     0.0   \n",
              "4                      1.0                     0.0                     1.0   \n",
              "...                    ...                     ...                     ...   \n",
              "7262                   1.0                     0.0                     1.0   \n",
              "7263                   1.0                     1.0                     0.0   \n",
              "7264                   1.0                     1.0                     0.0   \n",
              "7265                   1.0                     0.0                     1.0   \n",
              "7266                   1.0                     0.0                     1.0   \n",
              "\n",
              "      ad.multiples_lineas_Sin servicio telefónico  servicio_internet_DSL  \\\n",
              "0                                             0.0                    0.0   \n",
              "1                                             0.0                    0.0   \n",
              "2                                             0.0                    0.0   \n",
              "3                                             0.0                    0.0   \n",
              "4                                             0.0                    1.0   \n",
              "...                                           ...                    ...   \n",
              "7262                                          0.0                    0.0   \n",
              "7263                                          0.0                    0.0   \n",
              "7264                                          0.0                    0.0   \n",
              "7265                                          0.0                    0.0   \n",
              "7266                                          0.0                    1.0   \n",
              "\n",
              "      servicio_internet_Fibra óptica  ...  contrato_Un año  \\\n",
              "0                                1.0  ...              0.0   \n",
              "1                                1.0  ...              0.0   \n",
              "2                                1.0  ...              0.0   \n",
              "3                                1.0  ...              0.0   \n",
              "4                                0.0  ...              1.0   \n",
              "...                              ...  ...              ...   \n",
              "7262                             1.0  ...              1.0   \n",
              "7263                             1.0  ...              0.0   \n",
              "7264                             1.0  ...              1.0   \n",
              "7265                             1.0  ...              0.0   \n",
              "7266                             0.0  ...              0.0   \n",
              "\n",
              "      factura_digital_Si  metodo_pago_Cheque electrónico  \\\n",
              "0                    1.0                             1.0   \n",
              "1                    1.0                             0.0   \n",
              "2                    1.0                             0.0   \n",
              "3                    0.0                             1.0   \n",
              "4                    1.0                             0.0   \n",
              "...                  ...                             ...   \n",
              "7262                 0.0                             0.0   \n",
              "7263                 1.0                             1.0   \n",
              "7264                 0.0                             1.0   \n",
              "7265                 1.0                             0.0   \n",
              "7266                 0.0                             0.0   \n",
              "\n",
              "      metodo_pago_Cheque por correo  \\\n",
              "0                               0.0   \n",
              "1                               1.0   \n",
              "2                               0.0   \n",
              "3                               0.0   \n",
              "4                               0.0   \n",
              "...                             ...   \n",
              "7262                            0.0   \n",
              "7263                            0.0   \n",
              "7264                            0.0   \n",
              "7265                            0.0   \n",
              "7266                            0.0   \n",
              "\n",
              "      metodo_pago_Tarjeta de crédito (automática)  \\\n",
              "0                                             0.0   \n",
              "1                                             0.0   \n",
              "2                                             0.0   \n",
              "3                                             0.0   \n",
              "4                                             0.0   \n",
              "...                                           ...   \n",
              "7262                                          0.0   \n",
              "7263                                          0.0   \n",
              "7264                                          0.0   \n",
              "7265                                          1.0   \n",
              "7266                                          1.0   \n",
              "\n",
              "      metodo_pago_Transferencia bancaria (automática)  meses_antiguedad  \\\n",
              "0                                                 0.0               2.0   \n",
              "1                                                 0.0               3.0   \n",
              "2                                                 1.0              21.0   \n",
              "3                                                 0.0              16.0   \n",
              "4                                                 1.0              35.0   \n",
              "...                                               ...               ...   \n",
              "7262                                              1.0              61.0   \n",
              "7263                                              0.0              12.0   \n",
              "7264                                              0.0              52.0   \n",
              "7265                                              0.0              70.0   \n",
              "7266                                              0.0              40.0   \n",
              "\n",
              "      cargo.mensual  cargo.total  abandono_cliente_si  \n",
              "0             88.55       179.25                    0  \n",
              "1             82.30       214.40                    0  \n",
              "2             96.80      2030.30                    1  \n",
              "3             69.65      1043.30                    1  \n",
              "4             73.45      2661.10                    1  \n",
              "...             ...          ...                  ...  \n",
              "7262         101.15      6383.90                    0  \n",
              "7263          89.40      1095.65                    1  \n",
              "7264          91.25      4738.30                    0  \n",
              "7265         113.00      7987.60                    0  \n",
              "7266          56.60      2379.10                    0  \n",
              "\n",
              "[7267 rows x 41 columns]"
            ],
            "text/html": [
              "\n",
              "  <div id=\"df-ff7c3109-81df-4c4b-883b-ddd85dfffe2b\" class=\"colab-df-container\">\n",
              "    <div>\n",
              "<style scoped>\n",
              "    .dataframe tbody tr th:only-of-type {\n",
              "        vertical-align: middle;\n",
              "    }\n",
              "\n",
              "    .dataframe tbody tr th {\n",
              "        vertical-align: top;\n",
              "    }\n",
              "\n",
              "    .dataframe thead th {\n",
              "        text-align: right;\n",
              "    }\n",
              "</style>\n",
              "<table border=\"1\" class=\"dataframe\">\n",
              "  <thead>\n",
              "    <tr style=\"text-align: right;\">\n",
              "      <th></th>\n",
              "      <th>genero_Masculino</th>\n",
              "      <th>jubilado_True</th>\n",
              "      <th>pareja_Si</th>\n",
              "      <th>dependientes_Si</th>\n",
              "      <th>servicio_telefono_Si</th>\n",
              "      <th>ad.multiples_lineas_No</th>\n",
              "      <th>ad.multiples_lineas_Si</th>\n",
              "      <th>ad.multiples_lineas_Sin servicio telefónico</th>\n",
              "      <th>servicio_internet_DSL</th>\n",
              "      <th>servicio_internet_Fibra óptica</th>\n",
              "      <th>...</th>\n",
              "      <th>contrato_Un año</th>\n",
              "      <th>factura_digital_Si</th>\n",
              "      <th>metodo_pago_Cheque electrónico</th>\n",
              "      <th>metodo_pago_Cheque por correo</th>\n",
              "      <th>metodo_pago_Tarjeta de crédito (automática)</th>\n",
              "      <th>metodo_pago_Transferencia bancaria (automática)</th>\n",
              "      <th>meses_antiguedad</th>\n",
              "      <th>cargo.mensual</th>\n",
              "      <th>cargo.total</th>\n",
              "      <th>abandono_cliente_si</th>\n",
              "    </tr>\n",
              "  </thead>\n",
              "  <tbody>\n",
              "    <tr>\n",
              "      <th>0</th>\n",
              "      <td>0.0</td>\n",
              "      <td>1.0</td>\n",
              "      <td>0.0</td>\n",
              "      <td>0.0</td>\n",
              "      <td>1.0</td>\n",
              "      <td>0.0</td>\n",
              "      <td>1.0</td>\n",
              "      <td>0.0</td>\n",
              "      <td>0.0</td>\n",
              "      <td>1.0</td>\n",
              "      <td>...</td>\n",
              "      <td>0.0</td>\n",
              "      <td>1.0</td>\n",
              "      <td>1.0</td>\n",
              "      <td>0.0</td>\n",
              "      <td>0.0</td>\n",
              "      <td>0.0</td>\n",
              "      <td>2.0</td>\n",
              "      <td>88.55</td>\n",
              "      <td>179.25</td>\n",
              "      <td>0</td>\n",
              "    </tr>\n",
              "    <tr>\n",
              "      <th>1</th>\n",
              "      <td>1.0</td>\n",
              "      <td>0.0</td>\n",
              "      <td>0.0</td>\n",
              "      <td>0.0</td>\n",
              "      <td>1.0</td>\n",
              "      <td>1.0</td>\n",
              "      <td>0.0</td>\n",
              "      <td>0.0</td>\n",
              "      <td>0.0</td>\n",
              "      <td>1.0</td>\n",
              "      <td>...</td>\n",
              "      <td>0.0</td>\n",
              "      <td>1.0</td>\n",
              "      <td>0.0</td>\n",
              "      <td>1.0</td>\n",
              "      <td>0.0</td>\n",
              "      <td>0.0</td>\n",
              "      <td>3.0</td>\n",
              "      <td>82.30</td>\n",
              "      <td>214.40</td>\n",
              "      <td>0</td>\n",
              "    </tr>\n",
              "    <tr>\n",
              "      <th>2</th>\n",
              "      <td>1.0</td>\n",
              "      <td>1.0</td>\n",
              "      <td>0.0</td>\n",
              "      <td>0.0</td>\n",
              "      <td>1.0</td>\n",
              "      <td>1.0</td>\n",
              "      <td>0.0</td>\n",
              "      <td>0.0</td>\n",
              "      <td>0.0</td>\n",
              "      <td>1.0</td>\n",
              "      <td>...</td>\n",
              "      <td>0.0</td>\n",
              "      <td>1.0</td>\n",
              "      <td>0.0</td>\n",
              "      <td>0.0</td>\n",
              "      <td>0.0</td>\n",
              "      <td>1.0</td>\n",
              "      <td>21.0</td>\n",
              "      <td>96.80</td>\n",
              "      <td>2030.30</td>\n",
              "      <td>1</td>\n",
              "    </tr>\n",
              "    <tr>\n",
              "      <th>3</th>\n",
              "      <td>1.0</td>\n",
              "      <td>1.0</td>\n",
              "      <td>0.0</td>\n",
              "      <td>0.0</td>\n",
              "      <td>1.0</td>\n",
              "      <td>1.0</td>\n",
              "      <td>0.0</td>\n",
              "      <td>0.0</td>\n",
              "      <td>0.0</td>\n",
              "      <td>1.0</td>\n",
              "      <td>...</td>\n",
              "      <td>0.0</td>\n",
              "      <td>0.0</td>\n",
              "      <td>1.0</td>\n",
              "      <td>0.0</td>\n",
              "      <td>0.0</td>\n",
              "      <td>0.0</td>\n",
              "      <td>16.0</td>\n",
              "      <td>69.65</td>\n",
              "      <td>1043.30</td>\n",
              "      <td>1</td>\n",
              "    </tr>\n",
              "    <tr>\n",
              "      <th>4</th>\n",
              "      <td>1.0</td>\n",
              "      <td>0.0</td>\n",
              "      <td>1.0</td>\n",
              "      <td>1.0</td>\n",
              "      <td>1.0</td>\n",
              "      <td>0.0</td>\n",
              "      <td>1.0</td>\n",
              "      <td>0.0</td>\n",
              "      <td>1.0</td>\n",
              "      <td>0.0</td>\n",
              "      <td>...</td>\n",
              "      <td>1.0</td>\n",
              "      <td>1.0</td>\n",
              "      <td>0.0</td>\n",
              "      <td>0.0</td>\n",
              "      <td>0.0</td>\n",
              "      <td>1.0</td>\n",
              "      <td>35.0</td>\n",
              "      <td>73.45</td>\n",
              "      <td>2661.10</td>\n",
              "      <td>1</td>\n",
              "    </tr>\n",
              "    <tr>\n",
              "      <th>...</th>\n",
              "      <td>...</td>\n",
              "      <td>...</td>\n",
              "      <td>...</td>\n",
              "      <td>...</td>\n",
              "      <td>...</td>\n",
              "      <td>...</td>\n",
              "      <td>...</td>\n",
              "      <td>...</td>\n",
              "      <td>...</td>\n",
              "      <td>...</td>\n",
              "      <td>...</td>\n",
              "      <td>...</td>\n",
              "      <td>...</td>\n",
              "      <td>...</td>\n",
              "      <td>...</td>\n",
              "      <td>...</td>\n",
              "      <td>...</td>\n",
              "      <td>...</td>\n",
              "      <td>...</td>\n",
              "      <td>...</td>\n",
              "      <td>...</td>\n",
              "    </tr>\n",
              "    <tr>\n",
              "      <th>7262</th>\n",
              "      <td>0.0</td>\n",
              "      <td>0.0</td>\n",
              "      <td>1.0</td>\n",
              "      <td>0.0</td>\n",
              "      <td>1.0</td>\n",
              "      <td>0.0</td>\n",
              "      <td>1.0</td>\n",
              "      <td>0.0</td>\n",
              "      <td>0.0</td>\n",
              "      <td>1.0</td>\n",
              "      <td>...</td>\n",
              "      <td>1.0</td>\n",
              "      <td>0.0</td>\n",
              "      <td>0.0</td>\n",
              "      <td>0.0</td>\n",
              "      <td>0.0</td>\n",
              "      <td>1.0</td>\n",
              "      <td>61.0</td>\n",
              "      <td>101.15</td>\n",
              "      <td>6383.90</td>\n",
              "      <td>0</td>\n",
              "    </tr>\n",
              "    <tr>\n",
              "      <th>7263</th>\n",
              "      <td>0.0</td>\n",
              "      <td>0.0</td>\n",
              "      <td>0.0</td>\n",
              "      <td>0.0</td>\n",
              "      <td>1.0</td>\n",
              "      <td>1.0</td>\n",
              "      <td>0.0</td>\n",
              "      <td>0.0</td>\n",
              "      <td>0.0</td>\n",
              "      <td>1.0</td>\n",
              "      <td>...</td>\n",
              "      <td>0.0</td>\n",
              "      <td>1.0</td>\n",
              "      <td>1.0</td>\n",
              "      <td>0.0</td>\n",
              "      <td>0.0</td>\n",
              "      <td>0.0</td>\n",
              "      <td>12.0</td>\n",
              "      <td>89.40</td>\n",
              "      <td>1095.65</td>\n",
              "      <td>1</td>\n",
              "    </tr>\n",
              "    <tr>\n",
              "      <th>7264</th>\n",
              "      <td>1.0</td>\n",
              "      <td>0.0</td>\n",
              "      <td>0.0</td>\n",
              "      <td>0.0</td>\n",
              "      <td>1.0</td>\n",
              "      <td>1.0</td>\n",
              "      <td>0.0</td>\n",
              "      <td>0.0</td>\n",
              "      <td>0.0</td>\n",
              "      <td>1.0</td>\n",
              "      <td>...</td>\n",
              "      <td>1.0</td>\n",
              "      <td>0.0</td>\n",
              "      <td>1.0</td>\n",
              "      <td>0.0</td>\n",
              "      <td>0.0</td>\n",
              "      <td>0.0</td>\n",
              "      <td>52.0</td>\n",
              "      <td>91.25</td>\n",
              "      <td>4738.30</td>\n",
              "      <td>0</td>\n",
              "    </tr>\n",
              "    <tr>\n",
              "      <th>7265</th>\n",
              "      <td>0.0</td>\n",
              "      <td>1.0</td>\n",
              "      <td>1.0</td>\n",
              "      <td>0.0</td>\n",
              "      <td>1.0</td>\n",
              "      <td>0.0</td>\n",
              "      <td>1.0</td>\n",
              "      <td>0.0</td>\n",
              "      <td>0.0</td>\n",
              "      <td>1.0</td>\n",
              "      <td>...</td>\n",
              "      <td>0.0</td>\n",
              "      <td>1.0</td>\n",
              "      <td>0.0</td>\n",
              "      <td>0.0</td>\n",
              "      <td>1.0</td>\n",
              "      <td>0.0</td>\n",
              "      <td>70.0</td>\n",
              "      <td>113.00</td>\n",
              "      <td>7987.60</td>\n",
              "      <td>0</td>\n",
              "    </tr>\n",
              "    <tr>\n",
              "      <th>7266</th>\n",
              "      <td>0.0</td>\n",
              "      <td>0.0</td>\n",
              "      <td>1.0</td>\n",
              "      <td>0.0</td>\n",
              "      <td>1.0</td>\n",
              "      <td>0.0</td>\n",
              "      <td>1.0</td>\n",
              "      <td>0.0</td>\n",
              "      <td>1.0</td>\n",
              "      <td>0.0</td>\n",
              "      <td>...</td>\n",
              "      <td>0.0</td>\n",
              "      <td>0.0</td>\n",
              "      <td>0.0</td>\n",
              "      <td>0.0</td>\n",
              "      <td>1.0</td>\n",
              "      <td>0.0</td>\n",
              "      <td>40.0</td>\n",
              "      <td>56.60</td>\n",
              "      <td>2379.10</td>\n",
              "      <td>0</td>\n",
              "    </tr>\n",
              "  </tbody>\n",
              "</table>\n",
              "<p>7267 rows × 41 columns</p>\n",
              "</div>\n",
              "    <div class=\"colab-df-buttons\">\n",
              "\n",
              "  <div class=\"colab-df-container\">\n",
              "    <button class=\"colab-df-convert\" onclick=\"convertToInteractive('df-ff7c3109-81df-4c4b-883b-ddd85dfffe2b')\"\n",
              "            title=\"Convert this dataframe to an interactive table.\"\n",
              "            style=\"display:none;\">\n",
              "\n",
              "  <svg xmlns=\"http://www.w3.org/2000/svg\" height=\"24px\" viewBox=\"0 -960 960 960\">\n",
              "    <path d=\"M120-120v-720h720v720H120Zm60-500h600v-160H180v160Zm220 220h160v-160H400v160Zm0 220h160v-160H400v160ZM180-400h160v-160H180v160Zm440 0h160v-160H620v160ZM180-180h160v-160H180v160Zm440 0h160v-160H620v160Z\"/>\n",
              "  </svg>\n",
              "    </button>\n",
              "\n",
              "  <style>\n",
              "    .colab-df-container {\n",
              "      display:flex;\n",
              "      gap: 12px;\n",
              "    }\n",
              "\n",
              "    .colab-df-convert {\n",
              "      background-color: #E8F0FE;\n",
              "      border: none;\n",
              "      border-radius: 50%;\n",
              "      cursor: pointer;\n",
              "      display: none;\n",
              "      fill: #1967D2;\n",
              "      height: 32px;\n",
              "      padding: 0 0 0 0;\n",
              "      width: 32px;\n",
              "    }\n",
              "\n",
              "    .colab-df-convert:hover {\n",
              "      background-color: #E2EBFA;\n",
              "      box-shadow: 0px 1px 2px rgba(60, 64, 67, 0.3), 0px 1px 3px 1px rgba(60, 64, 67, 0.15);\n",
              "      fill: #174EA6;\n",
              "    }\n",
              "\n",
              "    .colab-df-buttons div {\n",
              "      margin-bottom: 4px;\n",
              "    }\n",
              "\n",
              "    [theme=dark] .colab-df-convert {\n",
              "      background-color: #3B4455;\n",
              "      fill: #D2E3FC;\n",
              "    }\n",
              "\n",
              "    [theme=dark] .colab-df-convert:hover {\n",
              "      background-color: #434B5C;\n",
              "      box-shadow: 0px 1px 3px 1px rgba(0, 0, 0, 0.15);\n",
              "      filter: drop-shadow(0px 1px 2px rgba(0, 0, 0, 0.3));\n",
              "      fill: #FFFFFF;\n",
              "    }\n",
              "  </style>\n",
              "\n",
              "    <script>\n",
              "      const buttonEl =\n",
              "        document.querySelector('#df-ff7c3109-81df-4c4b-883b-ddd85dfffe2b button.colab-df-convert');\n",
              "      buttonEl.style.display =\n",
              "        google.colab.kernel.accessAllowed ? 'block' : 'none';\n",
              "\n",
              "      async function convertToInteractive(key) {\n",
              "        const element = document.querySelector('#df-ff7c3109-81df-4c4b-883b-ddd85dfffe2b');\n",
              "        const dataTable =\n",
              "          await google.colab.kernel.invokeFunction('convertToInteractive',\n",
              "                                                    [key], {});\n",
              "        if (!dataTable) return;\n",
              "\n",
              "        const docLinkHtml = 'Like what you see? Visit the ' +\n",
              "          '<a target=\"_blank\" href=https://colab.research.google.com/notebooks/data_table.ipynb>data table notebook</a>'\n",
              "          + ' to learn more about interactive tables.';\n",
              "        element.innerHTML = '';\n",
              "        dataTable['output_type'] = 'display_data';\n",
              "        await google.colab.output.renderOutput(dataTable, element);\n",
              "        const docLink = document.createElement('div');\n",
              "        docLink.innerHTML = docLinkHtml;\n",
              "        element.appendChild(docLink);\n",
              "      }\n",
              "    </script>\n",
              "  </div>\n",
              "\n",
              "\n",
              "    <div id=\"df-48ac07d8-437f-4b41-a49a-9dbc06211ec8\">\n",
              "      <button class=\"colab-df-quickchart\" onclick=\"quickchart('df-48ac07d8-437f-4b41-a49a-9dbc06211ec8')\"\n",
              "                title=\"Suggest charts\"\n",
              "                style=\"display:none;\">\n",
              "\n",
              "<svg xmlns=\"http://www.w3.org/2000/svg\" height=\"24px\"viewBox=\"0 0 24 24\"\n",
              "     width=\"24px\">\n",
              "    <g>\n",
              "        <path d=\"M19 3H5c-1.1 0-2 .9-2 2v14c0 1.1.9 2 2 2h14c1.1 0 2-.9 2-2V5c0-1.1-.9-2-2-2zM9 17H7v-7h2v7zm4 0h-2V7h2v10zm4 0h-2v-4h2v4z\"/>\n",
              "    </g>\n",
              "</svg>\n",
              "      </button>\n",
              "\n",
              "<style>\n",
              "  .colab-df-quickchart {\n",
              "      --bg-color: #E8F0FE;\n",
              "      --fill-color: #1967D2;\n",
              "      --hover-bg-color: #E2EBFA;\n",
              "      --hover-fill-color: #174EA6;\n",
              "      --disabled-fill-color: #AAA;\n",
              "      --disabled-bg-color: #DDD;\n",
              "  }\n",
              "\n",
              "  [theme=dark] .colab-df-quickchart {\n",
              "      --bg-color: #3B4455;\n",
              "      --fill-color: #D2E3FC;\n",
              "      --hover-bg-color: #434B5C;\n",
              "      --hover-fill-color: #FFFFFF;\n",
              "      --disabled-bg-color: #3B4455;\n",
              "      --disabled-fill-color: #666;\n",
              "  }\n",
              "\n",
              "  .colab-df-quickchart {\n",
              "    background-color: var(--bg-color);\n",
              "    border: none;\n",
              "    border-radius: 50%;\n",
              "    cursor: pointer;\n",
              "    display: none;\n",
              "    fill: var(--fill-color);\n",
              "    height: 32px;\n",
              "    padding: 0;\n",
              "    width: 32px;\n",
              "  }\n",
              "\n",
              "  .colab-df-quickchart:hover {\n",
              "    background-color: var(--hover-bg-color);\n",
              "    box-shadow: 0 1px 2px rgba(60, 64, 67, 0.3), 0 1px 3px 1px rgba(60, 64, 67, 0.15);\n",
              "    fill: var(--button-hover-fill-color);\n",
              "  }\n",
              "\n",
              "  .colab-df-quickchart-complete:disabled,\n",
              "  .colab-df-quickchart-complete:disabled:hover {\n",
              "    background-color: var(--disabled-bg-color);\n",
              "    fill: var(--disabled-fill-color);\n",
              "    box-shadow: none;\n",
              "  }\n",
              "\n",
              "  .colab-df-spinner {\n",
              "    border: 2px solid var(--fill-color);\n",
              "    border-color: transparent;\n",
              "    border-bottom-color: var(--fill-color);\n",
              "    animation:\n",
              "      spin 1s steps(1) infinite;\n",
              "  }\n",
              "\n",
              "  @keyframes spin {\n",
              "    0% {\n",
              "      border-color: transparent;\n",
              "      border-bottom-color: var(--fill-color);\n",
              "      border-left-color: var(--fill-color);\n",
              "    }\n",
              "    20% {\n",
              "      border-color: transparent;\n",
              "      border-left-color: var(--fill-color);\n",
              "      border-top-color: var(--fill-color);\n",
              "    }\n",
              "    30% {\n",
              "      border-color: transparent;\n",
              "      border-left-color: var(--fill-color);\n",
              "      border-top-color: var(--fill-color);\n",
              "      border-right-color: var(--fill-color);\n",
              "    }\n",
              "    40% {\n",
              "      border-color: transparent;\n",
              "      border-right-color: var(--fill-color);\n",
              "      border-top-color: var(--fill-color);\n",
              "    }\n",
              "    60% {\n",
              "      border-color: transparent;\n",
              "      border-right-color: var(--fill-color);\n",
              "    }\n",
              "    80% {\n",
              "      border-color: transparent;\n",
              "      border-right-color: var(--fill-color);\n",
              "      border-bottom-color: var(--fill-color);\n",
              "    }\n",
              "    90% {\n",
              "      border-color: transparent;\n",
              "      border-bottom-color: var(--fill-color);\n",
              "    }\n",
              "  }\n",
              "</style>\n",
              "\n",
              "      <script>\n",
              "        async function quickchart(key) {\n",
              "          const quickchartButtonEl =\n",
              "            document.querySelector('#' + key + ' button');\n",
              "          quickchartButtonEl.disabled = true;  // To prevent multiple clicks.\n",
              "          quickchartButtonEl.classList.add('colab-df-spinner');\n",
              "          try {\n",
              "            const charts = await google.colab.kernel.invokeFunction(\n",
              "                'suggestCharts', [key], {});\n",
              "          } catch (error) {\n",
              "            console.error('Error during call to suggestCharts:', error);\n",
              "          }\n",
              "          quickchartButtonEl.classList.remove('colab-df-spinner');\n",
              "          quickchartButtonEl.classList.add('colab-df-quickchart-complete');\n",
              "        }\n",
              "        (() => {\n",
              "          let quickchartButtonEl =\n",
              "            document.querySelector('#df-48ac07d8-437f-4b41-a49a-9dbc06211ec8 button');\n",
              "          quickchartButtonEl.style.display =\n",
              "            google.colab.kernel.accessAllowed ? 'block' : 'none';\n",
              "        })();\n",
              "      </script>\n",
              "    </div>\n",
              "\n",
              "  <div id=\"id_beef1c6b-b341-483e-9194-d2b4bf3a602e\">\n",
              "    <style>\n",
              "      .colab-df-generate {\n",
              "        background-color: #E8F0FE;\n",
              "        border: none;\n",
              "        border-radius: 50%;\n",
              "        cursor: pointer;\n",
              "        display: none;\n",
              "        fill: #1967D2;\n",
              "        height: 32px;\n",
              "        padding: 0 0 0 0;\n",
              "        width: 32px;\n",
              "      }\n",
              "\n",
              "      .colab-df-generate:hover {\n",
              "        background-color: #E2EBFA;\n",
              "        box-shadow: 0px 1px 2px rgba(60, 64, 67, 0.3), 0px 1px 3px 1px rgba(60, 64, 67, 0.15);\n",
              "        fill: #174EA6;\n",
              "      }\n",
              "\n",
              "      [theme=dark] .colab-df-generate {\n",
              "        background-color: #3B4455;\n",
              "        fill: #D2E3FC;\n",
              "      }\n",
              "\n",
              "      [theme=dark] .colab-df-generate:hover {\n",
              "        background-color: #434B5C;\n",
              "        box-shadow: 0px 1px 3px 1px rgba(0, 0, 0, 0.15);\n",
              "        filter: drop-shadow(0px 1px 2px rgba(0, 0, 0, 0.3));\n",
              "        fill: #FFFFFF;\n",
              "      }\n",
              "    </style>\n",
              "    <button class=\"colab-df-generate\" onclick=\"generateWithVariable('Df_No_lineal')\"\n",
              "            title=\"Generate code using this dataframe.\"\n",
              "            style=\"display:none;\">\n",
              "\n",
              "  <svg xmlns=\"http://www.w3.org/2000/svg\" height=\"24px\"viewBox=\"0 0 24 24\"\n",
              "       width=\"24px\">\n",
              "    <path d=\"M7,19H8.4L18.45,9,17,7.55,7,17.6ZM5,21V16.75L18.45,3.32a2,2,0,0,1,2.83,0l1.4,1.43a1.91,1.91,0,0,1,.58,1.4,1.91,1.91,0,0,1-.58,1.4L9.25,21ZM18.45,9,17,7.55Zm-12,3A5.31,5.31,0,0,0,4.9,8.1,5.31,5.31,0,0,0,1,6.5,5.31,5.31,0,0,0,4.9,4.9,5.31,5.31,0,0,0,6.5,1,5.31,5.31,0,0,0,8.1,4.9,5.31,5.31,0,0,0,12,6.5,5.46,5.46,0,0,0,6.5,12Z\"/>\n",
              "  </svg>\n",
              "    </button>\n",
              "    <script>\n",
              "      (() => {\n",
              "      const buttonEl =\n",
              "        document.querySelector('#id_beef1c6b-b341-483e-9194-d2b4bf3a602e button.colab-df-generate');\n",
              "      buttonEl.style.display =\n",
              "        google.colab.kernel.accessAllowed ? 'block' : 'none';\n",
              "\n",
              "      buttonEl.onclick = () => {\n",
              "        google.colab.notebook.generateWithVariable('Df_No_lineal');\n",
              "      }\n",
              "      })();\n",
              "    </script>\n",
              "  </div>\n",
              "\n",
              "    </div>\n",
              "  </div>\n"
            ],
            "application/vnd.google.colaboratory.intrinsic+json": {
              "type": "dataframe",
              "variable_name": "Df_No_lineal"
            }
          },
          "metadata": {},
          "execution_count": 49
        }
      ],
      "id": "WYTf9VCevuVc"
    },
    {
      "cell_type": "markdown",
      "source": [
        "### Balanceo de Clases (opcional)"
      ],
      "metadata": {
        "id": "7RztOfSVJ6Ox"
      },
      "id": "7RztOfSVJ6Ox"
    },
    {
      "cell_type": "markdown",
      "source": [
        "Si deseas profundizar en el análisis, aplica técnicas de balanceo como **undersampling** o **oversampling**. En situaciones de fuerte desbalanceo, herramientas como **SMOTE** pueden ser útiles para generar ejemplos sintéticos de la clase minoritaria."
      ],
      "metadata": {
        "id": "P2PMxrmgMOYK"
      },
      "id": "P2PMxrmgMOYK"
    },
    {
      "cell_type": "markdown",
      "source": [
        "Utilizamos (SMOTE)"
      ],
      "metadata": {
        "id": "mMXN-LIl-yaG"
      },
      "id": "mMXN-LIl-yaG"
    },
    {
      "cell_type": "code",
      "source": [
        "# Aplicar SMOTE solo al conjunto de entrenamiento\n",
        "sm = SMOTE(random_state=42)\n",
        "X_train_bal, y_train_bal = sm.fit_resample(X_train_processed, y_train)\n",
        "\n",
        "print(\"\\nDistribución después de balanceo:\")\n",
        "print(pd.Series(y_train_bal).value_counts())"
      ],
      "metadata": {
        "id": "H6stc-Pn-zuA",
        "outputId": "40bc9d42-7a13-4898-92e0-e1861fd444b9",
        "colab": {
          "base_uri": "https://localhost:8080/"
        }
      },
      "id": "H6stc-Pn-zuA",
      "execution_count": 290,
      "outputs": [
        {
          "output_type": "stream",
          "name": "stdout",
          "text": [
            "\n",
            "Distribución después de balanceo:\n",
            "abandono_cliente\n",
            "1    4271\n",
            "0    4271\n",
            "Name: count, dtype: int64\n"
          ]
        }
      ]
    },
    {
      "cell_type": "markdown",
      "metadata": {
        "id": "j9KbkE_9JUBi"
      },
      "source": [
        "## 🎯 Correlación y Selección de Variables\n",
        "\n"
      ],
      "id": "j9KbkE_9JUBi"
    },
    {
      "cell_type": "markdown",
      "source": [
        "### Análisis de Correlación"
      ],
      "metadata": {
        "id": "Fm9zVXSiJ7sJ"
      },
      "id": "Fm9zVXSiJ7sJ"
    },
    {
      "cell_type": "markdown",
      "source": [
        "Visualiza la matriz de correlación para identificar relaciones entre las variables numéricas. Presta especial **atención a las variables que muestran una mayor correlación con la cancelación**, ya que estas pueden ser fuertes candidatas para el modelo predictivo."
      ],
      "metadata": {
        "id": "S_3MoCYYMAL7"
      },
      "id": "S_3MoCYYMAL7"
    },
    {
      "cell_type": "markdown",
      "source": [
        "### Análisis Dirigido"
      ],
      "metadata": {
        "id": "NazijI3uJ9Gx"
      },
      "id": "NazijI3uJ9Gx"
    },
    {
      "cell_type": "markdown",
      "source": [
        "Investiga cómo variables específicas se relacionan con la cancelación, tales como:\n",
        "\n",
        "- **Tiempo de contrato × Cancelación**\n",
        "- **Gasto total × Cancelación**\n",
        "\n",
        "Utiliza gráficos como **boxplots** o **scatter plots** para visualizar patrones y posibles tendencias."
      ],
      "metadata": {
        "id": "8sHs6k9kL7YD"
      },
      "id": "8sHs6k9kL7YD"
    },
    {
      "cell_type": "markdown",
      "source": [
        "### Análisis de Correlación (Post-balanceo)"
      ],
      "metadata": {
        "id": "UK4r11WX-3s-"
      },
      "id": "UK4r11WX-3s-"
    },
    {
      "cell_type": "markdown",
      "source": [
        "### Normalización o Estandarización (si es necesario)"
      ],
      "metadata": {
        "id": "dWwzr-nwJ6TB"
      },
      "id": "dWwzr-nwJ6TB"
    },
    {
      "cell_type": "markdown",
      "source": [
        "Evalúa la necesidad de normalizar o estandarizar los datos, según los modelos que se aplicarán. Modelos basados en distancia, como **KNN**, **SVM**, **Regresión Logística** y **Redes Neuronales**, requieren este preprocesamiento. Por otro lado, modelos basados en árboles, como **Decision Tree**, **Random Forest** y **XGBoost**, no son sensibles a la escala de los datos."
      ],
      "metadata": {
        "id": "Jot9-uK5MIiD"
      },
      "id": "Jot9-uK5MIiD"
    },
    {
      "cell_type": "markdown",
      "metadata": {
        "id": "yJYBRfJ-JY_q"
      },
      "source": [
        "## 🤖 Modelado Predictivo\n",
        "\n"
      ],
      "id": "yJYBRfJ-JY_q"
    },
    {
      "cell_type": "markdown",
      "source": [
        "### Separación de Datos"
      ],
      "metadata": {
        "id": "4lnE012kJ-Sp"
      },
      "id": "4lnE012kJ-Sp"
    },
    {
      "cell_type": "markdown",
      "source": [
        "Crea al menos dos modelos diferentes para predecir la cancelación de clientes.\n",
        "\n",
        "- Un modelo puede requerir normalización, como **Regresión Logística** o **KNN**.\n",
        "- El otro modelo puede no requerir normalización, como **Árbol de Decisión** o **Random Forest**.\n",
        "\n",
        "💡 La decisión de aplicar o no la normalización depende de los modelos seleccionados. Ambos modelos pueden ser creados sin normalización, pero también es una opción combinar modelos con y sin normalización.\n",
        "\n",
        "**Justificación:**\n",
        "\n",
        "- **Regresión Logística / KNN:** Estos modelos son sensibles a la escala de los datos, por lo que la normalización es importante para que los coeficientes o las distancias se calculen correctamente.\n",
        "- **Árbol de Decisión / Random Forest:** Estos modelos no dependen de la escala de los datos, por lo que no es necesario aplicar normalización.\n",
        "\n",
        "Si decides normalizar los datos, deberías explicar cómo esta etapa asegura que los modelos basados en distancia o en optimización de parámetros no se vean sesgados por la magnitud de las variables."
      ],
      "metadata": {
        "id": "YawmPO0eL2xz"
      },
      "id": "YawmPO0eL2xz"
    },
    {
      "cell_type": "markdown",
      "source": [
        "### Creación de Modelos"
      ],
      "metadata": {
        "id": "JoHdJKRZJ-WZ"
      },
      "id": "JoHdJKRZJ-WZ"
    },
    {
      "cell_type": "markdown",
      "source": [
        "Crea al menos dos modelos diferentes para predecir la cancelación de clientes.\n",
        "\n",
        "- Un modelo puede requerir normalización, como **Regresión Logística** o **KNN**.\n",
        "- El otro modelo puede no requerir normalización, como **Árbol de Decisión** o **Random Forest**.\n",
        "\n",
        "💡 La decisión de aplicar o no la normalización depende de los modelos seleccionados. Ambos modelos pueden ser creados sin normalización, pero también es una opción combinar modelos con y sin normalización.\n",
        "\n",
        "**Justificación:**\n",
        "\n",
        "- **Regresión Logística / KNN:** Estos modelos son sensibles a la escala de los datos, por lo que la normalización es importante para que los coeficientes o las distancias se calculen correctamente.\n",
        "- **Árbol de Decisión / Random Forest:** Estos modelos no dependen de la escala de los datos, por lo que no es necesario aplicar normalización.\n",
        "\n",
        "Si decides normalizar los datos, deberías explicar cómo esta etapa asegura que los modelos basados en distancia o en optimización de parámetros no se vean sesgados por la magnitud de las variables."
      ],
      "metadata": {
        "id": "J6uduIgpLzUs"
      },
      "id": "J6uduIgpLzUs"
    },
    {
      "cell_type": "markdown",
      "source": [
        "### Evaluación de los Modelos"
      ],
      "metadata": {
        "id": "HWurxmXIJ-dB"
      },
      "id": "HWurxmXIJ-dB"
    },
    {
      "cell_type": "markdown",
      "source": [
        "Evalúa cada modelo utilizando las siguientes métricas:\n",
        "\n",
        "- **Exactitud (Acurácia)**\n",
        "- **Precisión**\n",
        "- **Recall**\n",
        "- **F1-score**\n",
        "- **Matriz de confusión**\n",
        "\n",
        "Después, realiza un análisis crítico y compara los modelos:\n",
        "\n",
        "- ¿Cuál modelo tuvo el mejor desempeño?\n",
        "- ¿Algún modelo presentó **overfitting** o **underfitting**? Si es así, considera las posibles causas y ajustes:\n",
        "  - **Overfitting**: Cuando el modelo aprende demasiado sobre los datos de entrenamiento, perdiendo la capacidad de generalizar a nuevos datos. Considera reducir la complejidad del modelo o aumentar los datos de entrenamiento.\n",
        "  - **Underfitting**: Cuando el modelo no captura bien las tendencias de los datos, lo que indica que es demasiado simple. Intenta aumentar la complejidad del modelo o ajustar sus parámetros."
      ],
      "metadata": {
        "id": "GNlRXiIwLtJL"
      },
      "id": "GNlRXiIwLtJL"
    },
    {
      "cell_type": "markdown",
      "source": [
        "### Modelado y Evaluación"
      ],
      "metadata": {
        "id": "p-rSTUQO_D11"
      },
      "id": "p-rSTUQO_D11"
    },
    {
      "cell_type": "code",
      "source": [
        "# Entrenar modelo con datos balanceados\n",
        "model = RandomForestClassifier(n_estimators=100, random_state=42)\n",
        "model.fit(X_train_bal, y_train_bal)\n",
        "\n",
        "# Evaluar con test set original (sin balancear)\n",
        "y_pred = model.predict(X_test_processed)\n",
        "y_proba = model.predict_proba(X_test_processed)[:, 1]\n",
        "\n",
        "print(\"\\nReporte de Clasificación:\")\n",
        "print(classification_report(y_test, y_pred))\n",
        "\n",
        "print(f\"\\nAUC-ROC: {roc_auc_score(y_test, y_proba):.4f}\")"
      ],
      "metadata": {
        "id": "O0lpIk6k-_fe",
        "outputId": "a6d7bc09-a18f-453f-bd1f-edf641702708",
        "colab": {
          "base_uri": "https://localhost:8080/"
        }
      },
      "execution_count": null,
      "outputs": [
        {
          "output_type": "stream",
          "name": "stdout",
          "text": [
            "\n",
            "Reporte de Clasificación:\n",
            "              precision    recall  f1-score   support\n",
            "\n",
            "           0       0.82      0.88      0.85      1068\n",
            "           1       0.59      0.48      0.53       386\n",
            "\n",
            "    accuracy                           0.78      1454\n",
            "   macro avg       0.71      0.68      0.69      1454\n",
            "weighted avg       0.76      0.78      0.77      1454\n",
            "\n",
            "\n",
            "AUC-ROC: 0.8238\n"
          ]
        }
      ],
      "id": "O0lpIk6k-_fe"
    },
    {
      "cell_type": "markdown",
      "metadata": {
        "id": "2pm0FGN7JUJj"
      },
      "source": [
        "## 📋 Interpretación y Conclusiones Datos\n",
        "\n"
      ],
      "id": "2pm0FGN7JUJj"
    },
    {
      "cell_type": "markdown",
      "source": [
        "### Análisis de la Importancia de las Variables"
      ],
      "metadata": {
        "id": "66Ybw6VeJ_dZ"
      },
      "id": "66Ybw6VeJ_dZ"
    },
    {
      "cell_type": "markdown",
      "source": [
        "Después de elegir los modelos, realiza el análisis de las variables más relevantes para la predicción de la cancelación:\n",
        "\n",
        "* Regresión Logística: Investiga los coeficientes de las variables, que muestran su contribución a la predicción de cancelación.\n",
        "\n",
        "* KNN (K-Nearest Neighbors): Observa cómo los vecinos más cercanos influyen en la decisión de clasificación. Las variables más impactantes pueden ser aquellas que más contribuyen a la proximidad entre los puntos de datos.\n",
        "\n",
        "* Random Forest: Utiliza la importancia de las variables proporcionada por el modelo. Random Forest calcula la importancia basándose en cómo cada variable contribuye a la reducción de la impureza durante las divisiones de los árboles.\n",
        "\n",
        "* SVM (Support Vector Machine): En el SVM, las variables más relevantes son aquellas que influyen en la frontera de decisión entre las clases. Puedes analizar los coeficientes de los vectores de soporte para entender qué variables tienen mayor impacto.\n",
        "\n",
        "* Otros Modelos: Dependiendo del modelo elegido, considera el análisis de métricas específicas para comprender la relevancia de las variables. Por ejemplo, coeficientes en modelos lineales, pesos en redes neuronales, o la importancia relativa en técnicas de boosting (como XGBoost)."
      ],
      "metadata": {
        "id": "aCquNIWbLcaM"
      },
      "id": "aCquNIWbLcaM"
    },
    {
      "cell_type": "markdown",
      "source": [
        "### Conclusión"
      ],
      "metadata": {
        "id": "WSY-FrfcJ_gB"
      },
      "id": "WSY-FrfcJ_gB"
    },
    {
      "cell_type": "markdown",
      "source": [
        "Elaboren un informe detallado, destacando los factores que más influyen en la cancelación, basándose en las variables seleccionadas y en el rendimiento de cada modelo.\n",
        "\n",
        "Identifiquen los principales factores que afectan la cancelación de clientes y propongan estrategias de retención basadas en los resultados obtenidos."
      ],
      "metadata": {
        "id": "jbtBOS8jLTd9"
      },
      "id": "jbtBOS8jLTd9"
    }
  ],
  "metadata": {
    "language_info": {
      "name": "python"
    },
    "colab": {
      "provenance": [],
      "include_colab_link": true
    },
    "kernelspec": {
      "name": "python3",
      "display_name": "Python 3"
    }
  },
  "nbformat": 4,
  "nbformat_minor": 5
}