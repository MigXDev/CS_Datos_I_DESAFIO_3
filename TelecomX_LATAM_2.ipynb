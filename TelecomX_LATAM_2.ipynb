{
 "cells": [
  {
   "cell_type": "markdown",
   "id": "7b5bf62c",
   "metadata": {},
   "source": [
    "# Challengue Alura - TelecomX"
   ]
  },
  {
   "cell_type": "markdown",
   "id": "cc7a378c",
   "metadata": {},
   "source": []
  },
  {
   "cell_type": "markdown",
   "id": "67a2e0df",
   "metadata": {},
   "source": []
  },
  {
   "cell_type": "markdown",
   "id": "09851ff8",
   "metadata": {},
   "source": []
  },
  {
   "cell_type": "markdown",
   "id": "265fafcd",
   "metadata": {},
   "source": []
  }
 ],
 "metadata": {
  "language_info": {
   "name": "python"
  }
 },
 "nbformat": 4,
 "nbformat_minor": 5
}
