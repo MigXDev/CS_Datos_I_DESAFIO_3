{
  "cells": [
    {
      "cell_type": "markdown",
      "metadata": {
        "id": "view-in-github",
        "colab_type": "text"
      },
      "source": [
        "<a href=\"https://colab.research.google.com/github/MigXDev/CS_Datos_I_DESAFIO_3/blob/main/TelecomX_LATAM_2.ipynb\" target=\"_parent\"><img src=\"https://colab.research.google.com/assets/colab-badge.svg\" alt=\"Open In Colab\"/></a>"
      ]
    },
    {
      "cell_type": "markdown",
      "id": "7b5bf62c",
      "metadata": {
        "id": "7b5bf62c"
      },
      "source": [
        "# Challengue Alura - TelecomX"
      ]
    },
    {
      "cell_type": "markdown",
      "source": [
        "## Acerca del Desafio"
      ],
      "metadata": {
        "id": "L_9FqYUcMylZ"
      },
      "id": "L_9FqYUcMylZ"
    },
    {
      "cell_type": "markdown",
      "source": [
        "**Telecom X – Parte 2: Predicción de Cancelación (Churn)**\n",
        "\n",
        "📣 **Historia del Desafío**\n",
        "\n",
        "¡Felicidades! 🎉 Has sido promovido después de tu excelente desempeño en el análisis exploratorio de la cancelación de clientes en Telecom X. Tu dedicación, claridad al comunicar los datos y visión estratégica marcaron la diferencia.\n",
        "\n",
        "Ahora, ¡has sido invitado oficialmente a formar parte del equipo de Machine Learning de la empresa!"
      ],
      "metadata": {
        "id": "CnAB1W6xhUWv"
      },
      "id": "CnAB1W6xhUWv"
    },
    {
      "cell_type": "markdown",
      "source": [
        "🎯 **Misión**\n",
        "\n",
        "Tu nueva misión es desarrollar modelos predictivos capaces de prever qué clientes tienen mayor probabilidad de cancelar sus servicios.\n",
        "\n",
        "La empresa quiere anticiparse al problema de la cancelación, y te corresponde a ti construir un pipeline robusto para esta etapa inicial de modelado."
      ],
      "metadata": {
        "id": "kRvNYrgwhXhu"
      },
      "id": "kRvNYrgwhXhu"
    },
    {
      "cell_type": "markdown",
      "source": [
        "🧠 **Objetivos del Desafío**\n",
        "\n",
        "- Preparar los datos para el modelado (tratamiento, codificación, normalización).\n",
        "- Realizar análisis de correlación y selección de variables.\n",
        "- Entrenar dos o más modelos de clasificación.\n",
        "- Evaluar el rendimiento de los modelos con métricas.\n",
        "- Interpretar los resultados, incluyendo la importancia de las variables.\n",
        "- Crear una conclusión estratégica señalando los principales factores que influyen en la cancelación."
      ],
      "metadata": {
        "id": "_G7GHT64haQd"
      },
      "id": "_G7GHT64haQd"
    },
    {
      "cell_type": "markdown",
      "source": [
        "🧰 **Lo que vas a practicar**\n",
        "\n",
        "✅ Preprocesamiento de datos para Machine Learning\n",
        "✅ Construcción y evaluación de modelos predictivos\n",
        "✅ Interpretación de resultados y entrega de insights\n",
        "✅ Comunicación técnica con enfoque estratégico"
      ],
      "metadata": {
        "id": "tiGqICVHiFgE"
      },
      "id": "tiGqICVHiFgE"
    },
    {
      "cell_type": "markdown",
      "source": [
        "🚀 **Ahora eres: Analista Junior de Machine Learning**\n",
        "\n",
        "Telecom X confía en tu entrega para dar los próximos pasos hacia una solución de inteligencia predictiva eficaz. ¡Buena suerte!"
      ],
      "metadata": {
        "id": "Y4kBJpwWMv-5"
      },
      "id": "Y4kBJpwWMv-5"
    },
    {
      "cell_type": "markdown",
      "id": "cc7a378c",
      "metadata": {
        "id": "cc7a378c"
      },
      "source": [
        "## 🛠️ Preparación de los Datos\n",
        "\n"
      ]
    },
    {
      "cell_type": "markdown",
      "source": [
        "### Importacion de Bibliotecas"
      ],
      "metadata": {
        "id": "txHIr9bLs0NU"
      },
      "id": "txHIr9bLs0NU"
    },
    {
      "cell_type": "code",
      "source": [
        "# Manipulación de datos\n",
        "import pandas as pd\n",
        "import numpy as np\n",
        "\n",
        "# Visualización de Datos\n",
        "import matplotlib.pyplot as plt\n",
        "import seaborn as sns\n",
        "\n",
        "# Manejo de advertencias\n",
        "import warnings\n",
        "\n",
        "# Guardar y cargar modelos\n",
        "import pickle\n",
        "\n",
        "# Manejo de datos desbalanceados\n",
        "import imblearn\n",
        "from imblearn.under_sampling import NearMiss # Técnica de undersampling\n",
        "from imblearn.over_sampling import SMOTENC # Técnica de oversampling para datos con columnas categóricas y numéricas\n",
        "\n",
        "# Modelado y evaluación\n",
        "from sklearn.model_selection import train_test_split # Separación de datos\n",
        "from sklearn.model_selection import StratifiedKFold, cross_validate, GridSearchCV # Validación cruzada y búsqueda de hiperparámetros\n",
        "from sklearn.metrics import accuracy_score, precision_score, recall_score, f1_score, classification_report # Métricas de evaluación de clasificación\n",
        "from sklearn.metrics import confusion_matrix, ConfusionMatrixDisplay, roc_auc_score, RocCurveDisplay, precision_recall_curve # Métricas y visualizaciones de evaluación\n",
        "from sklearn.preprocessing import OneHotEncoder, LabelEncoder, MinMaxScaler, StandardScaler, RobustScaler # Técnicas de preprocesamiento\n",
        "from sklearn.compose import make_column_transformer # Para aplicar transformaciones a columnas específicas\n",
        "from sklearn.tree import DecisionTreeClassifier # Modelo de árbol de decisión\n",
        "from sklearn.ensemble import RandomForestClassifier # Modelo de bosque aleatorio\n",
        "from sklearn.linear_model import LogisticRegression # Modelo de regresión logística\n",
        "from sklearn.neighbors import KNeighborsClassifier as knn # Modelo K-vecinos más cercanos\n",
        "from sklearn.svm import SVC # Modelo de máquinas de vectores de soporte\n",
        "from sklearn.inspection import permutation_importance # Para calcular la importancia de las variables"
      ],
      "metadata": {
        "id": "lhe7RDCms9bD"
      },
      "id": "lhe7RDCms9bD",
      "execution_count": 115,
      "outputs": []
    },
    {
      "cell_type": "markdown",
      "source": [
        "### Extracción del Archivo Tratado"
      ],
      "metadata": {
        "id": "KxH6-OAgJsEh"
      },
      "id": "KxH6-OAgJsEh"
    },
    {
      "cell_type": "markdown",
      "source": [
        "Carga el archivo CSV que contiene los datos tratados anteriormente.<br>\n",
        "📂 Atención: Utiliza el mismo archivo que limpiaste y organizaste en la Parte 1 del desafío Telecom X. Debe contener solo las columnas relevantes, ya con los datos corregidos y estandarizados."
      ],
      "metadata": {
        "id": "_iQq51w9KFjI"
      },
      "id": "_iQq51w9KFjI"
    },
    {
      "cell_type": "code",
      "source": [
        "Datos_1 = '/content/TelecomX_Data_Base.csv'\n",
        "Datos_2 = '/content/TelecomX_Data_Base_Bool.csv'"
      ],
      "metadata": {
        "id": "FCy_p075ZOgZ"
      },
      "id": "FCy_p075ZOgZ",
      "execution_count": 116,
      "outputs": []
    },
    {
      "cell_type": "code",
      "source": [
        "Df_base = pd.read_csv(Datos_1, sep=';')\n",
        "Df_base_bool = pd.read_csv(Datos_2)"
      ],
      "metadata": {
        "id": "0vtbgK9WWi5u"
      },
      "id": "0vtbgK9WWi5u",
      "execution_count": 117,
      "outputs": []
    },
    {
      "cell_type": "code",
      "source": [
        "Df_base.head(1)"
      ],
      "metadata": {
        "id": "szl-vF5DcHia",
        "outputId": "c0af33c0-1103-49c0-908e-7331b289bf21",
        "colab": {
          "base_uri": "https://localhost:8080/",
          "height": 147
        }
      },
      "id": "szl-vF5DcHia",
      "execution_count": 118,
      "outputs": [
        {
          "output_type": "execute_result",
          "data": {
            "text/plain": [
              "   id_cliente abandono_cliente    genero  jubilado pareja dependientes  \\\n",
              "0  0002-ORFBO               No  Femenino     False     Si           Si   \n",
              "\n",
              "   meses_antiguedad servicio_telefono ad.multiples_lineas servicio_internet  \\\n",
              "0                 9                Si                  No               DSL   \n",
              "\n",
              "   ... ad.proteccion_dispositivo ad.soporte_tecnico tv.streaming  \\\n",
              "0  ...                        No                 Si           Si   \n",
              "\n",
              "  peliculas.streaming contrato factura_digital        metodo_pago  \\\n",
              "0                  No   Un año              Si  Cheque por correo   \n",
              "\n",
              "  cargo.diario cargo.mensual  cargo.total  \n",
              "0         2.16          65.6        593.3  \n",
              "\n",
              "[1 rows x 22 columns]"
            ],
            "text/html": [
              "\n",
              "  <div id=\"df-a27122d8-277b-4fad-9bdf-bf03ae065630\" class=\"colab-df-container\">\n",
              "    <div>\n",
              "<style scoped>\n",
              "    .dataframe tbody tr th:only-of-type {\n",
              "        vertical-align: middle;\n",
              "    }\n",
              "\n",
              "    .dataframe tbody tr th {\n",
              "        vertical-align: top;\n",
              "    }\n",
              "\n",
              "    .dataframe thead th {\n",
              "        text-align: right;\n",
              "    }\n",
              "</style>\n",
              "<table border=\"1\" class=\"dataframe\">\n",
              "  <thead>\n",
              "    <tr style=\"text-align: right;\">\n",
              "      <th></th>\n",
              "      <th>id_cliente</th>\n",
              "      <th>abandono_cliente</th>\n",
              "      <th>genero</th>\n",
              "      <th>jubilado</th>\n",
              "      <th>pareja</th>\n",
              "      <th>dependientes</th>\n",
              "      <th>meses_antiguedad</th>\n",
              "      <th>servicio_telefono</th>\n",
              "      <th>ad.multiples_lineas</th>\n",
              "      <th>servicio_internet</th>\n",
              "      <th>...</th>\n",
              "      <th>ad.proteccion_dispositivo</th>\n",
              "      <th>ad.soporte_tecnico</th>\n",
              "      <th>tv.streaming</th>\n",
              "      <th>peliculas.streaming</th>\n",
              "      <th>contrato</th>\n",
              "      <th>factura_digital</th>\n",
              "      <th>metodo_pago</th>\n",
              "      <th>cargo.diario</th>\n",
              "      <th>cargo.mensual</th>\n",
              "      <th>cargo.total</th>\n",
              "    </tr>\n",
              "  </thead>\n",
              "  <tbody>\n",
              "    <tr>\n",
              "      <th>0</th>\n",
              "      <td>0002-ORFBO</td>\n",
              "      <td>No</td>\n",
              "      <td>Femenino</td>\n",
              "      <td>False</td>\n",
              "      <td>Si</td>\n",
              "      <td>Si</td>\n",
              "      <td>9</td>\n",
              "      <td>Si</td>\n",
              "      <td>No</td>\n",
              "      <td>DSL</td>\n",
              "      <td>...</td>\n",
              "      <td>No</td>\n",
              "      <td>Si</td>\n",
              "      <td>Si</td>\n",
              "      <td>No</td>\n",
              "      <td>Un año</td>\n",
              "      <td>Si</td>\n",
              "      <td>Cheque por correo</td>\n",
              "      <td>2.16</td>\n",
              "      <td>65.6</td>\n",
              "      <td>593.3</td>\n",
              "    </tr>\n",
              "  </tbody>\n",
              "</table>\n",
              "<p>1 rows × 22 columns</p>\n",
              "</div>\n",
              "    <div class=\"colab-df-buttons\">\n",
              "\n",
              "  <div class=\"colab-df-container\">\n",
              "    <button class=\"colab-df-convert\" onclick=\"convertToInteractive('df-a27122d8-277b-4fad-9bdf-bf03ae065630')\"\n",
              "            title=\"Convert this dataframe to an interactive table.\"\n",
              "            style=\"display:none;\">\n",
              "\n",
              "  <svg xmlns=\"http://www.w3.org/2000/svg\" height=\"24px\" viewBox=\"0 -960 960 960\">\n",
              "    <path d=\"M120-120v-720h720v720H120Zm60-500h600v-160H180v160Zm220 220h160v-160H400v160Zm0 220h160v-160H400v160ZM180-400h160v-160H180v160Zm440 0h160v-160H620v160ZM180-180h160v-160H180v160Zm440 0h160v-160H620v160Z\"/>\n",
              "  </svg>\n",
              "    </button>\n",
              "\n",
              "  <style>\n",
              "    .colab-df-container {\n",
              "      display:flex;\n",
              "      gap: 12px;\n",
              "    }\n",
              "\n",
              "    .colab-df-convert {\n",
              "      background-color: #E8F0FE;\n",
              "      border: none;\n",
              "      border-radius: 50%;\n",
              "      cursor: pointer;\n",
              "      display: none;\n",
              "      fill: #1967D2;\n",
              "      height: 32px;\n",
              "      padding: 0 0 0 0;\n",
              "      width: 32px;\n",
              "    }\n",
              "\n",
              "    .colab-df-convert:hover {\n",
              "      background-color: #E2EBFA;\n",
              "      box-shadow: 0px 1px 2px rgba(60, 64, 67, 0.3), 0px 1px 3px 1px rgba(60, 64, 67, 0.15);\n",
              "      fill: #174EA6;\n",
              "    }\n",
              "\n",
              "    .colab-df-buttons div {\n",
              "      margin-bottom: 4px;\n",
              "    }\n",
              "\n",
              "    [theme=dark] .colab-df-convert {\n",
              "      background-color: #3B4455;\n",
              "      fill: #D2E3FC;\n",
              "    }\n",
              "\n",
              "    [theme=dark] .colab-df-convert:hover {\n",
              "      background-color: #434B5C;\n",
              "      box-shadow: 0px 1px 3px 1px rgba(0, 0, 0, 0.15);\n",
              "      filter: drop-shadow(0px 1px 2px rgba(0, 0, 0, 0.3));\n",
              "      fill: #FFFFFF;\n",
              "    }\n",
              "  </style>\n",
              "\n",
              "    <script>\n",
              "      const buttonEl =\n",
              "        document.querySelector('#df-a27122d8-277b-4fad-9bdf-bf03ae065630 button.colab-df-convert');\n",
              "      buttonEl.style.display =\n",
              "        google.colab.kernel.accessAllowed ? 'block' : 'none';\n",
              "\n",
              "      async function convertToInteractive(key) {\n",
              "        const element = document.querySelector('#df-a27122d8-277b-4fad-9bdf-bf03ae065630');\n",
              "        const dataTable =\n",
              "          await google.colab.kernel.invokeFunction('convertToInteractive',\n",
              "                                                    [key], {});\n",
              "        if (!dataTable) return;\n",
              "\n",
              "        const docLinkHtml = 'Like what you see? Visit the ' +\n",
              "          '<a target=\"_blank\" href=https://colab.research.google.com/notebooks/data_table.ipynb>data table notebook</a>'\n",
              "          + ' to learn more about interactive tables.';\n",
              "        element.innerHTML = '';\n",
              "        dataTable['output_type'] = 'display_data';\n",
              "        await google.colab.output.renderOutput(dataTable, element);\n",
              "        const docLink = document.createElement('div');\n",
              "        docLink.innerHTML = docLinkHtml;\n",
              "        element.appendChild(docLink);\n",
              "      }\n",
              "    </script>\n",
              "  </div>\n",
              "\n",
              "\n",
              "    </div>\n",
              "  </div>\n"
            ],
            "application/vnd.google.colaboratory.intrinsic+json": {
              "type": "dataframe",
              "variable_name": "Df_base"
            }
          },
          "metadata": {},
          "execution_count": 118
        }
      ]
    },
    {
      "cell_type": "code",
      "source": [
        "Df_base.info()"
      ],
      "metadata": {
        "id": "2R7_3rvscdby",
        "outputId": "edbf35cb-2717-4f3d-b480-15c65106396e",
        "colab": {
          "base_uri": "https://localhost:8080/"
        }
      },
      "id": "2R7_3rvscdby",
      "execution_count": 119,
      "outputs": [
        {
          "output_type": "stream",
          "name": "stdout",
          "text": [
            "<class 'pandas.core.frame.DataFrame'>\n",
            "RangeIndex: 7267 entries, 0 to 7266\n",
            "Data columns (total 22 columns):\n",
            " #   Column                     Non-Null Count  Dtype  \n",
            "---  ------                     --------------  -----  \n",
            " 0   id_cliente                 7267 non-null   object \n",
            " 1   abandono_cliente           7267 non-null   object \n",
            " 2   genero                     7267 non-null   object \n",
            " 3   jubilado                   7267 non-null   bool   \n",
            " 4   pareja                     7267 non-null   object \n",
            " 5   dependientes               7267 non-null   object \n",
            " 6   meses_antiguedad           7267 non-null   int64  \n",
            " 7   servicio_telefono          7267 non-null   object \n",
            " 8   ad.multiples_lineas        7267 non-null   object \n",
            " 9   servicio_internet          7267 non-null   object \n",
            " 10  ad.seguridad_online        7267 non-null   object \n",
            " 11  ad.respaldo_online         7267 non-null   object \n",
            " 12  ad.proteccion_dispositivo  7267 non-null   object \n",
            " 13  ad.soporte_tecnico         7267 non-null   object \n",
            " 14  tv.streaming               7267 non-null   object \n",
            " 15  peliculas.streaming        7267 non-null   object \n",
            " 16  contrato                   7267 non-null   object \n",
            " 17  factura_digital            7267 non-null   object \n",
            " 18  metodo_pago                7267 non-null   object \n",
            " 19  cargo.diario               7267 non-null   float64\n",
            " 20  cargo.mensual              7267 non-null   float64\n",
            " 21  cargo.total                7267 non-null   float64\n",
            "dtypes: bool(1), float64(3), int64(1), object(17)\n",
            "memory usage: 1.2+ MB\n"
          ]
        }
      ]
    },
    {
      "cell_type": "markdown",
      "source": [
        "### Eliminación de Columnas Irrelevantes"
      ],
      "metadata": {
        "id": "X_YUXHbBJ41p"
      },
      "id": "X_YUXHbBJ41p"
    },
    {
      "cell_type": "markdown",
      "source": [
        "Elimina columnas que **no aportan valor al análisis** o a **los modelos predictivos**, como identificadores únicos (por ejemplo, el ID del cliente). Estas columnas no ayudan en la predicción de la cancelación y pueden incluso perjudicar el desempeño de los modelos."
      ],
      "metadata": {
        "id": "BPBd-Ac3McVC"
      },
      "id": "BPBd-Ac3McVC"
    },
    {
      "cell_type": "code",
      "source": [
        "Df_base.drop(columns=['id_cliente', 'cargo.diario'],inplace=True)"
      ],
      "metadata": {
        "id": "CY-KLz-MlpNG"
      },
      "id": "CY-KLz-MlpNG",
      "execution_count": 120,
      "outputs": []
    },
    {
      "cell_type": "code",
      "source": [
        "Df_base.head(1)"
      ],
      "metadata": {
        "id": "MLt5U0q2ly6d",
        "outputId": "1ec93cb8-f47c-462e-944c-c62f4100ff05",
        "colab": {
          "base_uri": "https://localhost:8080/",
          "height": 118
        }
      },
      "id": "MLt5U0q2ly6d",
      "execution_count": 121,
      "outputs": [
        {
          "output_type": "execute_result",
          "data": {
            "text/plain": [
              "  abandono_cliente    genero  jubilado pareja dependientes  meses_antiguedad  \\\n",
              "0               No  Femenino     False     Si           Si                 9   \n",
              "\n",
              "  servicio_telefono ad.multiples_lineas servicio_internet ad.seguridad_online  \\\n",
              "0                Si                  No               DSL                  No   \n",
              "\n",
              "  ad.respaldo_online ad.proteccion_dispositivo ad.soporte_tecnico  \\\n",
              "0                 Si                        No                 Si   \n",
              "\n",
              "  tv.streaming peliculas.streaming contrato factura_digital  \\\n",
              "0           Si                  No   Un año              Si   \n",
              "\n",
              "         metodo_pago  cargo.mensual  cargo.total  \n",
              "0  Cheque por correo           65.6        593.3  "
            ],
            "text/html": [
              "\n",
              "  <div id=\"df-3aa7e7c8-605d-4db9-a37c-acd564226474\" class=\"colab-df-container\">\n",
              "    <div>\n",
              "<style scoped>\n",
              "    .dataframe tbody tr th:only-of-type {\n",
              "        vertical-align: middle;\n",
              "    }\n",
              "\n",
              "    .dataframe tbody tr th {\n",
              "        vertical-align: top;\n",
              "    }\n",
              "\n",
              "    .dataframe thead th {\n",
              "        text-align: right;\n",
              "    }\n",
              "</style>\n",
              "<table border=\"1\" class=\"dataframe\">\n",
              "  <thead>\n",
              "    <tr style=\"text-align: right;\">\n",
              "      <th></th>\n",
              "      <th>abandono_cliente</th>\n",
              "      <th>genero</th>\n",
              "      <th>jubilado</th>\n",
              "      <th>pareja</th>\n",
              "      <th>dependientes</th>\n",
              "      <th>meses_antiguedad</th>\n",
              "      <th>servicio_telefono</th>\n",
              "      <th>ad.multiples_lineas</th>\n",
              "      <th>servicio_internet</th>\n",
              "      <th>ad.seguridad_online</th>\n",
              "      <th>ad.respaldo_online</th>\n",
              "      <th>ad.proteccion_dispositivo</th>\n",
              "      <th>ad.soporte_tecnico</th>\n",
              "      <th>tv.streaming</th>\n",
              "      <th>peliculas.streaming</th>\n",
              "      <th>contrato</th>\n",
              "      <th>factura_digital</th>\n",
              "      <th>metodo_pago</th>\n",
              "      <th>cargo.mensual</th>\n",
              "      <th>cargo.total</th>\n",
              "    </tr>\n",
              "  </thead>\n",
              "  <tbody>\n",
              "    <tr>\n",
              "      <th>0</th>\n",
              "      <td>No</td>\n",
              "      <td>Femenino</td>\n",
              "      <td>False</td>\n",
              "      <td>Si</td>\n",
              "      <td>Si</td>\n",
              "      <td>9</td>\n",
              "      <td>Si</td>\n",
              "      <td>No</td>\n",
              "      <td>DSL</td>\n",
              "      <td>No</td>\n",
              "      <td>Si</td>\n",
              "      <td>No</td>\n",
              "      <td>Si</td>\n",
              "      <td>Si</td>\n",
              "      <td>No</td>\n",
              "      <td>Un año</td>\n",
              "      <td>Si</td>\n",
              "      <td>Cheque por correo</td>\n",
              "      <td>65.6</td>\n",
              "      <td>593.3</td>\n",
              "    </tr>\n",
              "  </tbody>\n",
              "</table>\n",
              "</div>\n",
              "    <div class=\"colab-df-buttons\">\n",
              "\n",
              "  <div class=\"colab-df-container\">\n",
              "    <button class=\"colab-df-convert\" onclick=\"convertToInteractive('df-3aa7e7c8-605d-4db9-a37c-acd564226474')\"\n",
              "            title=\"Convert this dataframe to an interactive table.\"\n",
              "            style=\"display:none;\">\n",
              "\n",
              "  <svg xmlns=\"http://www.w3.org/2000/svg\" height=\"24px\" viewBox=\"0 -960 960 960\">\n",
              "    <path d=\"M120-120v-720h720v720H120Zm60-500h600v-160H180v160Zm220 220h160v-160H400v160Zm0 220h160v-160H400v160ZM180-400h160v-160H180v160Zm440 0h160v-160H620v160ZM180-180h160v-160H180v160Zm440 0h160v-160H620v160Z\"/>\n",
              "  </svg>\n",
              "    </button>\n",
              "\n",
              "  <style>\n",
              "    .colab-df-container {\n",
              "      display:flex;\n",
              "      gap: 12px;\n",
              "    }\n",
              "\n",
              "    .colab-df-convert {\n",
              "      background-color: #E8F0FE;\n",
              "      border: none;\n",
              "      border-radius: 50%;\n",
              "      cursor: pointer;\n",
              "      display: none;\n",
              "      fill: #1967D2;\n",
              "      height: 32px;\n",
              "      padding: 0 0 0 0;\n",
              "      width: 32px;\n",
              "    }\n",
              "\n",
              "    .colab-df-convert:hover {\n",
              "      background-color: #E2EBFA;\n",
              "      box-shadow: 0px 1px 2px rgba(60, 64, 67, 0.3), 0px 1px 3px 1px rgba(60, 64, 67, 0.15);\n",
              "      fill: #174EA6;\n",
              "    }\n",
              "\n",
              "    .colab-df-buttons div {\n",
              "      margin-bottom: 4px;\n",
              "    }\n",
              "\n",
              "    [theme=dark] .colab-df-convert {\n",
              "      background-color: #3B4455;\n",
              "      fill: #D2E3FC;\n",
              "    }\n",
              "\n",
              "    [theme=dark] .colab-df-convert:hover {\n",
              "      background-color: #434B5C;\n",
              "      box-shadow: 0px 1px 3px 1px rgba(0, 0, 0, 0.15);\n",
              "      filter: drop-shadow(0px 1px 2px rgba(0, 0, 0, 0.3));\n",
              "      fill: #FFFFFF;\n",
              "    }\n",
              "  </style>\n",
              "\n",
              "    <script>\n",
              "      const buttonEl =\n",
              "        document.querySelector('#df-3aa7e7c8-605d-4db9-a37c-acd564226474 button.colab-df-convert');\n",
              "      buttonEl.style.display =\n",
              "        google.colab.kernel.accessAllowed ? 'block' : 'none';\n",
              "\n",
              "      async function convertToInteractive(key) {\n",
              "        const element = document.querySelector('#df-3aa7e7c8-605d-4db9-a37c-acd564226474');\n",
              "        const dataTable =\n",
              "          await google.colab.kernel.invokeFunction('convertToInteractive',\n",
              "                                                    [key], {});\n",
              "        if (!dataTable) return;\n",
              "\n",
              "        const docLinkHtml = 'Like what you see? Visit the ' +\n",
              "          '<a target=\"_blank\" href=https://colab.research.google.com/notebooks/data_table.ipynb>data table notebook</a>'\n",
              "          + ' to learn more about interactive tables.';\n",
              "        element.innerHTML = '';\n",
              "        dataTable['output_type'] = 'display_data';\n",
              "        await google.colab.output.renderOutput(dataTable, element);\n",
              "        const docLink = document.createElement('div');\n",
              "        docLink.innerHTML = docLinkHtml;\n",
              "        element.appendChild(docLink);\n",
              "      }\n",
              "    </script>\n",
              "  </div>\n",
              "\n",
              "\n",
              "    </div>\n",
              "  </div>\n"
            ],
            "application/vnd.google.colaboratory.intrinsic+json": {
              "type": "dataframe",
              "variable_name": "Df_base",
              "summary": "{\n  \"name\": \"Df_base\",\n  \"rows\": 7267,\n  \"fields\": [\n    {\n      \"column\": \"abandono_cliente\",\n      \"properties\": {\n        \"dtype\": \"category\",\n        \"num_unique_values\": 2,\n        \"samples\": [\n          \"Si\",\n          \"No\"\n        ],\n        \"semantic_type\": \"\",\n        \"description\": \"\"\n      }\n    },\n    {\n      \"column\": \"genero\",\n      \"properties\": {\n        \"dtype\": \"category\",\n        \"num_unique_values\": 2,\n        \"samples\": [\n          \"Masculino\",\n          \"Femenino\"\n        ],\n        \"semantic_type\": \"\",\n        \"description\": \"\"\n      }\n    },\n    {\n      \"column\": \"jubilado\",\n      \"properties\": {\n        \"dtype\": \"boolean\",\n        \"num_unique_values\": 2,\n        \"samples\": [\n          true,\n          false\n        ],\n        \"semantic_type\": \"\",\n        \"description\": \"\"\n      }\n    },\n    {\n      \"column\": \"pareja\",\n      \"properties\": {\n        \"dtype\": \"category\",\n        \"num_unique_values\": 2,\n        \"samples\": [\n          \"No\",\n          \"Si\"\n        ],\n        \"semantic_type\": \"\",\n        \"description\": \"\"\n      }\n    },\n    {\n      \"column\": \"dependientes\",\n      \"properties\": {\n        \"dtype\": \"category\",\n        \"num_unique_values\": 2,\n        \"samples\": [\n          \"No\",\n          \"Si\"\n        ],\n        \"semantic_type\": \"\",\n        \"description\": \"\"\n      }\n    },\n    {\n      \"column\": \"meses_antiguedad\",\n      \"properties\": {\n        \"dtype\": \"number\",\n        \"std\": 24,\n        \"min\": 0,\n        \"max\": 72,\n        \"num_unique_values\": 73,\n        \"samples\": [\n          71,\n          53\n        ],\n        \"semantic_type\": \"\",\n        \"description\": \"\"\n      }\n    },\n    {\n      \"column\": \"servicio_telefono\",\n      \"properties\": {\n        \"dtype\": \"category\",\n        \"num_unique_values\": 2,\n        \"samples\": [\n          \"No\",\n          \"Si\"\n        ],\n        \"semantic_type\": \"\",\n        \"description\": \"\"\n      }\n    },\n    {\n      \"column\": \"ad.multiples_lineas\",\n      \"properties\": {\n        \"dtype\": \"category\",\n        \"num_unique_values\": 3,\n        \"samples\": [\n          \"No\",\n          \"Si\"\n        ],\n        \"semantic_type\": \"\",\n        \"description\": \"\"\n      }\n    },\n    {\n      \"column\": \"servicio_internet\",\n      \"properties\": {\n        \"dtype\": \"category\",\n        \"num_unique_values\": 3,\n        \"samples\": [\n          \"DSL\",\n          \"Fibra \\u00f3ptica\"\n        ],\n        \"semantic_type\": \"\",\n        \"description\": \"\"\n      }\n    },\n    {\n      \"column\": \"ad.seguridad_online\",\n      \"properties\": {\n        \"dtype\": \"category\",\n        \"num_unique_values\": 3,\n        \"samples\": [\n          \"No\",\n          \"Si\"\n        ],\n        \"semantic_type\": \"\",\n        \"description\": \"\"\n      }\n    },\n    {\n      \"column\": \"ad.respaldo_online\",\n      \"properties\": {\n        \"dtype\": \"category\",\n        \"num_unique_values\": 3,\n        \"samples\": [\n          \"Si\",\n          \"No\"\n        ],\n        \"semantic_type\": \"\",\n        \"description\": \"\"\n      }\n    },\n    {\n      \"column\": \"ad.proteccion_dispositivo\",\n      \"properties\": {\n        \"dtype\": \"category\",\n        \"num_unique_values\": 3,\n        \"samples\": [\n          \"No\",\n          \"Si\"\n        ],\n        \"semantic_type\": \"\",\n        \"description\": \"\"\n      }\n    },\n    {\n      \"column\": \"ad.soporte_tecnico\",\n      \"properties\": {\n        \"dtype\": \"category\",\n        \"num_unique_values\": 3,\n        \"samples\": [\n          \"Si\",\n          \"No\"\n        ],\n        \"semantic_type\": \"\",\n        \"description\": \"\"\n      }\n    },\n    {\n      \"column\": \"tv.streaming\",\n      \"properties\": {\n        \"dtype\": \"category\",\n        \"num_unique_values\": 3,\n        \"samples\": [\n          \"Si\",\n          \"No\"\n        ],\n        \"semantic_type\": \"\",\n        \"description\": \"\"\n      }\n    },\n    {\n      \"column\": \"peliculas.streaming\",\n      \"properties\": {\n        \"dtype\": \"category\",\n        \"num_unique_values\": 3,\n        \"samples\": [\n          \"No\",\n          \"Si\"\n        ],\n        \"semantic_type\": \"\",\n        \"description\": \"\"\n      }\n    },\n    {\n      \"column\": \"contrato\",\n      \"properties\": {\n        \"dtype\": \"category\",\n        \"num_unique_values\": 3,\n        \"samples\": [\n          \"Un a\\u00f1o\",\n          \"Mes a mes\"\n        ],\n        \"semantic_type\": \"\",\n        \"description\": \"\"\n      }\n    },\n    {\n      \"column\": \"factura_digital\",\n      \"properties\": {\n        \"dtype\": \"category\",\n        \"num_unique_values\": 2,\n        \"samples\": [\n          \"No\",\n          \"Si\"\n        ],\n        \"semantic_type\": \"\",\n        \"description\": \"\"\n      }\n    },\n    {\n      \"column\": \"metodo_pago\",\n      \"properties\": {\n        \"dtype\": \"category\",\n        \"num_unique_values\": 4,\n        \"samples\": [\n          \"Cheque electr\\u00f3nico\",\n          \"Transferencia bancaria (autom\\u00e1tica)\"\n        ],\n        \"semantic_type\": \"\",\n        \"description\": \"\"\n      }\n    },\n    {\n      \"column\": \"cargo.mensual\",\n      \"properties\": {\n        \"dtype\": \"number\",\n        \"std\": 30.12957188566699,\n        \"min\": 18.25,\n        \"max\": 118.75,\n        \"num_unique_values\": 1585,\n        \"samples\": [\n          100.85,\n          91.8\n        ],\n        \"semantic_type\": \"\",\n        \"description\": \"\"\n      }\n    },\n    {\n      \"column\": \"cargo.total\",\n      \"properties\": {\n        \"dtype\": \"number\",\n        \"std\": 2268.648586624864,\n        \"min\": 0.0,\n        \"max\": 8684.8,\n        \"num_unique_values\": 6531,\n        \"samples\": [\n          1994.3,\n          600.0\n        ],\n        \"semantic_type\": \"\",\n        \"description\": \"\"\n      }\n    }\n  ]\n}"
            }
          },
          "metadata": {},
          "execution_count": 121
        }
      ]
    },
    {
      "cell_type": "markdown",
      "source": [
        "### Encoding"
      ],
      "metadata": {
        "id": "NpOc0nmBJ5AR"
      },
      "id": "NpOc0nmBJ5AR"
    },
    {
      "cell_type": "markdown",
      "source": [
        "Transforma las variables categóricas a formato numérico para hacerlas compatibles con los algoritmos de _machine learning_. Utiliza un método de codificación adecuado, como **one-hot encoding**."
      ],
      "metadata": {
        "id": "LWskRkI2MUjS"
      },
      "id": "LWskRkI2MUjS"
    },
    {
      "cell_type": "code",
      "source": [
        "Df_base.columns"
      ],
      "metadata": {
        "colab": {
          "base_uri": "https://localhost:8080/"
        },
        "id": "Br7d6Hj-n95w",
        "outputId": "0d28bc6d-ee0f-4563-84f9-260a5724801b"
      },
      "id": "Br7d6Hj-n95w",
      "execution_count": 122,
      "outputs": [
        {
          "output_type": "execute_result",
          "data": {
            "text/plain": [
              "Index(['abandono_cliente', 'genero', 'jubilado', 'pareja', 'dependientes',\n",
              "       'meses_antiguedad', 'servicio_telefono', 'ad.multiples_lineas',\n",
              "       'servicio_internet', 'ad.seguridad_online', 'ad.respaldo_online',\n",
              "       'ad.proteccion_dispositivo', 'ad.soporte_tecnico', 'tv.streaming',\n",
              "       'peliculas.streaming', 'contrato', 'factura_digital', 'metodo_pago',\n",
              "       'cargo.mensual', 'cargo.total'],\n",
              "      dtype='object')"
            ]
          },
          "metadata": {},
          "execution_count": 122
        }
      ]
    },
    {
      "cell_type": "code",
      "source": [
        "X = Df_base.drop(columns=['abandono_cliente'], axis=1)\n",
        "y = Df_base['abandono_cliente']"
      ],
      "metadata": {
        "id": "TvvoHD3rpzhj"
      },
      "id": "TvvoHD3rpzhj",
      "execution_count": 123,
      "outputs": []
    },
    {
      "cell_type": "code",
      "source": [
        "X_linear = X.copy()\n",
        "y_linear = y.copy()"
      ],
      "metadata": {
        "id": "VZwPs2WNsONL"
      },
      "id": "VZwPs2WNsONL",
      "execution_count": 124,
      "outputs": []
    },
    {
      "cell_type": "code",
      "source": [
        "X.columns"
      ],
      "metadata": {
        "colab": {
          "base_uri": "https://localhost:8080/"
        },
        "id": "a4RKyonWsjJ0",
        "outputId": "1edb853b-1e4d-4631-9019-ab684e6e0b8e"
      },
      "id": "a4RKyonWsjJ0",
      "execution_count": 125,
      "outputs": [
        {
          "output_type": "execute_result",
          "data": {
            "text/plain": [
              "Index(['genero', 'jubilado', 'pareja', 'dependientes', 'meses_antiguedad',\n",
              "       'servicio_telefono', 'ad.multiples_lineas', 'servicio_internet',\n",
              "       'ad.seguridad_online', 'ad.respaldo_online',\n",
              "       'ad.proteccion_dispositivo', 'ad.soporte_tecnico', 'tv.streaming',\n",
              "       'peliculas.streaming', 'contrato', 'factura_digital', 'metodo_pago',\n",
              "       'cargo.mensual', 'cargo.total'],\n",
              "      dtype='object')"
            ]
          },
          "metadata": {},
          "execution_count": 125
        }
      ]
    },
    {
      "cell_type": "code",
      "source": [
        "Categorias = ['genero', 'jubilado', 'pareja', 'dependientes', 'servicio_telefono',\n",
        "              'ad.multiples_lineas', 'servicio_internet',\n",
        "              'ad.seguridad_online', 'ad.respaldo_online',\n",
        "              'ad.proteccion_dispositivo', 'ad.soporte_tecnico', 'tv.streaming',\n",
        "              'peliculas.streaming', 'contrato', 'factura_digital', 'metodo_pago',]"
      ],
      "metadata": {
        "id": "G7su68ocvJfG"
      },
      "id": "G7su68ocvJfG",
      "execution_count": 126,
      "outputs": []
    },
    {
      "cell_type": "code",
      "source": [
        "one_hot = make_column_transformer(\n",
        "                    (OneHotEncoder(drop='if_binary'), Categorias),\n",
        "                    remainder='passthrough',\n",
        "                    sparse_threshold=0,\n",
        "                    force_int_remainder_cols=False\n",
        ")"
      ],
      "metadata": {
        "id": "NAeP8DSevoNN"
      },
      "id": "NAeP8DSevoNN",
      "execution_count": 127,
      "outputs": []
    },
    {
      "cell_type": "code",
      "source": [
        "one_hot_linear = make_column_transformer(\n",
        "                    (OneHotEncoder(drop='first'), Categorias),\n",
        "                    remainder='passthrough',\n",
        "                    sparse_threshold=0,\n",
        "                    force_int_remainder_cols=False\n",
        ")\n",
        "\n",
        "label_encoder = LabelEncoder()"
      ],
      "metadata": {
        "id": "kQZZsHSzz8gJ"
      },
      "id": "kQZZsHSzz8gJ",
      "execution_count": 128,
      "outputs": []
    },
    {
      "cell_type": "code",
      "source": [
        "X = one_hot.fit_transform(X)\n",
        "X_linear = one_hot_linear.fit_transform(X_linear)\n",
        "\n",
        "y = label_encoder.fit_transform(y)\n",
        "y_linear = label_encoder.fit_transform(y_linear)"
      ],
      "metadata": {
        "id": "ZCMODdvcvo9s"
      },
      "id": "ZCMODdvcvo9s",
      "execution_count": 129,
      "outputs": []
    },
    {
      "cell_type": "code",
      "source": [
        "columnas = one_hot.get_feature_names_out()\n",
        "\n",
        "columnas_encoded = []\n",
        "for columna in columnas:\n",
        "    columna = columna.split('__')[1]\n",
        "    columnas_encoded.append(columna)"
      ],
      "metadata": {
        "id": "C9j3v1QbvsV0"
      },
      "id": "C9j3v1QbvsV0",
      "execution_count": 113,
      "outputs": []
    },
    {
      "cell_type": "code",
      "source": [
        "df = pd.DataFrame(X, columns=columnas_encoded)\n",
        "df_y = pd.DataFrame(y, columns=['abandono_cliente'])\n",
        "df = pd.concat([df, df_y], axis=1)\n",
        "df.head()"
      ],
      "metadata": {
        "colab": {
          "base_uri": "https://localhost:8080/",
          "height": 290
        },
        "id": "WYTf9VCevuVc",
        "outputId": "96911a48-c9a9-4e67-f0be-91da78717f5f"
      },
      "id": "WYTf9VCevuVc",
      "execution_count": 130,
      "outputs": [
        {
          "output_type": "execute_result",
          "data": {
            "text/plain": [
              "   genero_Masculino  jubilado_True  pareja_Si  dependientes_Si  \\\n",
              "0               0.0            0.0        1.0              1.0   \n",
              "1               1.0            0.0        0.0              0.0   \n",
              "2               1.0            0.0        0.0              0.0   \n",
              "3               1.0            1.0        1.0              0.0   \n",
              "4               0.0            1.0        1.0              0.0   \n",
              "\n",
              "   servicio_telefono_Si  ad.multiples_lineas_No  ad.multiples_lineas_Si  \\\n",
              "0                   1.0                     1.0                     0.0   \n",
              "1                   1.0                     0.0                     1.0   \n",
              "2                   1.0                     1.0                     0.0   \n",
              "3                   1.0                     1.0                     0.0   \n",
              "4                   1.0                     1.0                     0.0   \n",
              "\n",
              "   ad.multiples_lineas_Sin servicio telefónico  servicio_internet_DSL  \\\n",
              "0                                          0.0                    1.0   \n",
              "1                                          0.0                    1.0   \n",
              "2                                          0.0                    0.0   \n",
              "3                                          0.0                    0.0   \n",
              "4                                          0.0                    0.0   \n",
              "\n",
              "   servicio_internet_Fibra óptica  ...  contrato_Un año  factura_digital_Si  \\\n",
              "0                             0.0  ...              1.0                 1.0   \n",
              "1                             0.0  ...              0.0                 0.0   \n",
              "2                             1.0  ...              0.0                 1.0   \n",
              "3                             1.0  ...              0.0                 1.0   \n",
              "4                             1.0  ...              0.0                 1.0   \n",
              "\n",
              "   metodo_pago_Cheque electrónico  metodo_pago_Cheque por correo  \\\n",
              "0                             0.0                            1.0   \n",
              "1                             0.0                            1.0   \n",
              "2                             1.0                            0.0   \n",
              "3                             1.0                            0.0   \n",
              "4                             0.0                            1.0   \n",
              "\n",
              "   metodo_pago_Tarjeta de crédito (automática)  \\\n",
              "0                                          0.0   \n",
              "1                                          0.0   \n",
              "2                                          0.0   \n",
              "3                                          0.0   \n",
              "4                                          0.0   \n",
              "\n",
              "   metodo_pago_Transferencia bancaria (automática)  meses_antiguedad  \\\n",
              "0                                              0.0               9.0   \n",
              "1                                              0.0               9.0   \n",
              "2                                              0.0               4.0   \n",
              "3                                              0.0              13.0   \n",
              "4                                              0.0               3.0   \n",
              "\n",
              "   cargo.mensual  cargo.total  abandono_cliente  \n",
              "0           65.6       593.30                 0  \n",
              "1           59.9       542.40                 0  \n",
              "2           73.9       280.85                 1  \n",
              "3           98.0      1237.85                 1  \n",
              "4           83.9       267.40                 1  \n",
              "\n",
              "[5 rows x 41 columns]"
            ],
            "text/html": [
              "\n",
              "  <div id=\"df-7e3fea28-1fbd-40b9-a81e-1a719d499e64\" class=\"colab-df-container\">\n",
              "    <div>\n",
              "<style scoped>\n",
              "    .dataframe tbody tr th:only-of-type {\n",
              "        vertical-align: middle;\n",
              "    }\n",
              "\n",
              "    .dataframe tbody tr th {\n",
              "        vertical-align: top;\n",
              "    }\n",
              "\n",
              "    .dataframe thead th {\n",
              "        text-align: right;\n",
              "    }\n",
              "</style>\n",
              "<table border=\"1\" class=\"dataframe\">\n",
              "  <thead>\n",
              "    <tr style=\"text-align: right;\">\n",
              "      <th></th>\n",
              "      <th>genero_Masculino</th>\n",
              "      <th>jubilado_True</th>\n",
              "      <th>pareja_Si</th>\n",
              "      <th>dependientes_Si</th>\n",
              "      <th>servicio_telefono_Si</th>\n",
              "      <th>ad.multiples_lineas_No</th>\n",
              "      <th>ad.multiples_lineas_Si</th>\n",
              "      <th>ad.multiples_lineas_Sin servicio telefónico</th>\n",
              "      <th>servicio_internet_DSL</th>\n",
              "      <th>servicio_internet_Fibra óptica</th>\n",
              "      <th>...</th>\n",
              "      <th>contrato_Un año</th>\n",
              "      <th>factura_digital_Si</th>\n",
              "      <th>metodo_pago_Cheque electrónico</th>\n",
              "      <th>metodo_pago_Cheque por correo</th>\n",
              "      <th>metodo_pago_Tarjeta de crédito (automática)</th>\n",
              "      <th>metodo_pago_Transferencia bancaria (automática)</th>\n",
              "      <th>meses_antiguedad</th>\n",
              "      <th>cargo.mensual</th>\n",
              "      <th>cargo.total</th>\n",
              "      <th>abandono_cliente</th>\n",
              "    </tr>\n",
              "  </thead>\n",
              "  <tbody>\n",
              "    <tr>\n",
              "      <th>0</th>\n",
              "      <td>0.0</td>\n",
              "      <td>0.0</td>\n",
              "      <td>1.0</td>\n",
              "      <td>1.0</td>\n",
              "      <td>1.0</td>\n",
              "      <td>1.0</td>\n",
              "      <td>0.0</td>\n",
              "      <td>0.0</td>\n",
              "      <td>1.0</td>\n",
              "      <td>0.0</td>\n",
              "      <td>...</td>\n",
              "      <td>1.0</td>\n",
              "      <td>1.0</td>\n",
              "      <td>0.0</td>\n",
              "      <td>1.0</td>\n",
              "      <td>0.0</td>\n",
              "      <td>0.0</td>\n",
              "      <td>9.0</td>\n",
              "      <td>65.6</td>\n",
              "      <td>593.30</td>\n",
              "      <td>0</td>\n",
              "    </tr>\n",
              "    <tr>\n",
              "      <th>1</th>\n",
              "      <td>1.0</td>\n",
              "      <td>0.0</td>\n",
              "      <td>0.0</td>\n",
              "      <td>0.0</td>\n",
              "      <td>1.0</td>\n",
              "      <td>0.0</td>\n",
              "      <td>1.0</td>\n",
              "      <td>0.0</td>\n",
              "      <td>1.0</td>\n",
              "      <td>0.0</td>\n",
              "      <td>...</td>\n",
              "      <td>0.0</td>\n",
              "      <td>0.0</td>\n",
              "      <td>0.0</td>\n",
              "      <td>1.0</td>\n",
              "      <td>0.0</td>\n",
              "      <td>0.0</td>\n",
              "      <td>9.0</td>\n",
              "      <td>59.9</td>\n",
              "      <td>542.40</td>\n",
              "      <td>0</td>\n",
              "    </tr>\n",
              "    <tr>\n",
              "      <th>2</th>\n",
              "      <td>1.0</td>\n",
              "      <td>0.0</td>\n",
              "      <td>0.0</td>\n",
              "      <td>0.0</td>\n",
              "      <td>1.0</td>\n",
              "      <td>1.0</td>\n",
              "      <td>0.0</td>\n",
              "      <td>0.0</td>\n",
              "      <td>0.0</td>\n",
              "      <td>1.0</td>\n",
              "      <td>...</td>\n",
              "      <td>0.0</td>\n",
              "      <td>1.0</td>\n",
              "      <td>1.0</td>\n",
              "      <td>0.0</td>\n",
              "      <td>0.0</td>\n",
              "      <td>0.0</td>\n",
              "      <td>4.0</td>\n",
              "      <td>73.9</td>\n",
              "      <td>280.85</td>\n",
              "      <td>1</td>\n",
              "    </tr>\n",
              "    <tr>\n",
              "      <th>3</th>\n",
              "      <td>1.0</td>\n",
              "      <td>1.0</td>\n",
              "      <td>1.0</td>\n",
              "      <td>0.0</td>\n",
              "      <td>1.0</td>\n",
              "      <td>1.0</td>\n",
              "      <td>0.0</td>\n",
              "      <td>0.0</td>\n",
              "      <td>0.0</td>\n",
              "      <td>1.0</td>\n",
              "      <td>...</td>\n",
              "      <td>0.0</td>\n",
              "      <td>1.0</td>\n",
              "      <td>1.0</td>\n",
              "      <td>0.0</td>\n",
              "      <td>0.0</td>\n",
              "      <td>0.0</td>\n",
              "      <td>13.0</td>\n",
              "      <td>98.0</td>\n",
              "      <td>1237.85</td>\n",
              "      <td>1</td>\n",
              "    </tr>\n",
              "    <tr>\n",
              "      <th>4</th>\n",
              "      <td>0.0</td>\n",
              "      <td>1.0</td>\n",
              "      <td>1.0</td>\n",
              "      <td>0.0</td>\n",
              "      <td>1.0</td>\n",
              "      <td>1.0</td>\n",
              "      <td>0.0</td>\n",
              "      <td>0.0</td>\n",
              "      <td>0.0</td>\n",
              "      <td>1.0</td>\n",
              "      <td>...</td>\n",
              "      <td>0.0</td>\n",
              "      <td>1.0</td>\n",
              "      <td>0.0</td>\n",
              "      <td>1.0</td>\n",
              "      <td>0.0</td>\n",
              "      <td>0.0</td>\n",
              "      <td>3.0</td>\n",
              "      <td>83.9</td>\n",
              "      <td>267.40</td>\n",
              "      <td>1</td>\n",
              "    </tr>\n",
              "  </tbody>\n",
              "</table>\n",
              "<p>5 rows × 41 columns</p>\n",
              "</div>\n",
              "    <div class=\"colab-df-buttons\">\n",
              "\n",
              "  <div class=\"colab-df-container\">\n",
              "    <button class=\"colab-df-convert\" onclick=\"convertToInteractive('df-7e3fea28-1fbd-40b9-a81e-1a719d499e64')\"\n",
              "            title=\"Convert this dataframe to an interactive table.\"\n",
              "            style=\"display:none;\">\n",
              "\n",
              "  <svg xmlns=\"http://www.w3.org/2000/svg\" height=\"24px\" viewBox=\"0 -960 960 960\">\n",
              "    <path d=\"M120-120v-720h720v720H120Zm60-500h600v-160H180v160Zm220 220h160v-160H400v160Zm0 220h160v-160H400v160ZM180-400h160v-160H180v160Zm440 0h160v-160H620v160ZM180-180h160v-160H180v160Zm440 0h160v-160H620v160Z\"/>\n",
              "  </svg>\n",
              "    </button>\n",
              "\n",
              "  <style>\n",
              "    .colab-df-container {\n",
              "      display:flex;\n",
              "      gap: 12px;\n",
              "    }\n",
              "\n",
              "    .colab-df-convert {\n",
              "      background-color: #E8F0FE;\n",
              "      border: none;\n",
              "      border-radius: 50%;\n",
              "      cursor: pointer;\n",
              "      display: none;\n",
              "      fill: #1967D2;\n",
              "      height: 32px;\n",
              "      padding: 0 0 0 0;\n",
              "      width: 32px;\n",
              "    }\n",
              "\n",
              "    .colab-df-convert:hover {\n",
              "      background-color: #E2EBFA;\n",
              "      box-shadow: 0px 1px 2px rgba(60, 64, 67, 0.3), 0px 1px 3px 1px rgba(60, 64, 67, 0.15);\n",
              "      fill: #174EA6;\n",
              "    }\n",
              "\n",
              "    .colab-df-buttons div {\n",
              "      margin-bottom: 4px;\n",
              "    }\n",
              "\n",
              "    [theme=dark] .colab-df-convert {\n",
              "      background-color: #3B4455;\n",
              "      fill: #D2E3FC;\n",
              "    }\n",
              "\n",
              "    [theme=dark] .colab-df-convert:hover {\n",
              "      background-color: #434B5C;\n",
              "      box-shadow: 0px 1px 3px 1px rgba(0, 0, 0, 0.15);\n",
              "      filter: drop-shadow(0px 1px 2px rgba(0, 0, 0, 0.3));\n",
              "      fill: #FFFFFF;\n",
              "    }\n",
              "  </style>\n",
              "\n",
              "    <script>\n",
              "      const buttonEl =\n",
              "        document.querySelector('#df-7e3fea28-1fbd-40b9-a81e-1a719d499e64 button.colab-df-convert');\n",
              "      buttonEl.style.display =\n",
              "        google.colab.kernel.accessAllowed ? 'block' : 'none';\n",
              "\n",
              "      async function convertToInteractive(key) {\n",
              "        const element = document.querySelector('#df-7e3fea28-1fbd-40b9-a81e-1a719d499e64');\n",
              "        const dataTable =\n",
              "          await google.colab.kernel.invokeFunction('convertToInteractive',\n",
              "                                                    [key], {});\n",
              "        if (!dataTable) return;\n",
              "\n",
              "        const docLinkHtml = 'Like what you see? Visit the ' +\n",
              "          '<a target=\"_blank\" href=https://colab.research.google.com/notebooks/data_table.ipynb>data table notebook</a>'\n",
              "          + ' to learn more about interactive tables.';\n",
              "        element.innerHTML = '';\n",
              "        dataTable['output_type'] = 'display_data';\n",
              "        await google.colab.output.renderOutput(dataTable, element);\n",
              "        const docLink = document.createElement('div');\n",
              "        docLink.innerHTML = docLinkHtml;\n",
              "        element.appendChild(docLink);\n",
              "      }\n",
              "    </script>\n",
              "  </div>\n",
              "\n",
              "\n",
              "    <div id=\"df-4f8411b7-045c-4e85-b278-0557c55422ac\">\n",
              "      <button class=\"colab-df-quickchart\" onclick=\"quickchart('df-4f8411b7-045c-4e85-b278-0557c55422ac')\"\n",
              "                title=\"Suggest charts\"\n",
              "                style=\"display:none;\">\n",
              "\n",
              "<svg xmlns=\"http://www.w3.org/2000/svg\" height=\"24px\"viewBox=\"0 0 24 24\"\n",
              "     width=\"24px\">\n",
              "    <g>\n",
              "        <path d=\"M19 3H5c-1.1 0-2 .9-2 2v14c0 1.1.9 2 2 2h14c1.1 0 2-.9 2-2V5c0-1.1-.9-2-2-2zM9 17H7v-7h2v7zm4 0h-2V7h2v10zm4 0h-2v-4h2v4z\"/>\n",
              "    </g>\n",
              "</svg>\n",
              "      </button>\n",
              "\n",
              "<style>\n",
              "  .colab-df-quickchart {\n",
              "      --bg-color: #E8F0FE;\n",
              "      --fill-color: #1967D2;\n",
              "      --hover-bg-color: #E2EBFA;\n",
              "      --hover-fill-color: #174EA6;\n",
              "      --disabled-fill-color: #AAA;\n",
              "      --disabled-bg-color: #DDD;\n",
              "  }\n",
              "\n",
              "  [theme=dark] .colab-df-quickchart {\n",
              "      --bg-color: #3B4455;\n",
              "      --fill-color: #D2E3FC;\n",
              "      --hover-bg-color: #434B5C;\n",
              "      --hover-fill-color: #FFFFFF;\n",
              "      --disabled-bg-color: #3B4455;\n",
              "      --disabled-fill-color: #666;\n",
              "  }\n",
              "\n",
              "  .colab-df-quickchart {\n",
              "    background-color: var(--bg-color);\n",
              "    border: none;\n",
              "    border-radius: 50%;\n",
              "    cursor: pointer;\n",
              "    display: none;\n",
              "    fill: var(--fill-color);\n",
              "    height: 32px;\n",
              "    padding: 0;\n",
              "    width: 32px;\n",
              "  }\n",
              "\n",
              "  .colab-df-quickchart:hover {\n",
              "    background-color: var(--hover-bg-color);\n",
              "    box-shadow: 0 1px 2px rgba(60, 64, 67, 0.3), 0 1px 3px 1px rgba(60, 64, 67, 0.15);\n",
              "    fill: var(--button-hover-fill-color);\n",
              "  }\n",
              "\n",
              "  .colab-df-quickchart-complete:disabled,\n",
              "  .colab-df-quickchart-complete:disabled:hover {\n",
              "    background-color: var(--disabled-bg-color);\n",
              "    fill: var(--disabled-fill-color);\n",
              "    box-shadow: none;\n",
              "  }\n",
              "\n",
              "  .colab-df-spinner {\n",
              "    border: 2px solid var(--fill-color);\n",
              "    border-color: transparent;\n",
              "    border-bottom-color: var(--fill-color);\n",
              "    animation:\n",
              "      spin 1s steps(1) infinite;\n",
              "  }\n",
              "\n",
              "  @keyframes spin {\n",
              "    0% {\n",
              "      border-color: transparent;\n",
              "      border-bottom-color: var(--fill-color);\n",
              "      border-left-color: var(--fill-color);\n",
              "    }\n",
              "    20% {\n",
              "      border-color: transparent;\n",
              "      border-left-color: var(--fill-color);\n",
              "      border-top-color: var(--fill-color);\n",
              "    }\n",
              "    30% {\n",
              "      border-color: transparent;\n",
              "      border-left-color: var(--fill-color);\n",
              "      border-top-color: var(--fill-color);\n",
              "      border-right-color: var(--fill-color);\n",
              "    }\n",
              "    40% {\n",
              "      border-color: transparent;\n",
              "      border-right-color: var(--fill-color);\n",
              "      border-top-color: var(--fill-color);\n",
              "    }\n",
              "    60% {\n",
              "      border-color: transparent;\n",
              "      border-right-color: var(--fill-color);\n",
              "    }\n",
              "    80% {\n",
              "      border-color: transparent;\n",
              "      border-right-color: var(--fill-color);\n",
              "      border-bottom-color: var(--fill-color);\n",
              "    }\n",
              "    90% {\n",
              "      border-color: transparent;\n",
              "      border-bottom-color: var(--fill-color);\n",
              "    }\n",
              "  }\n",
              "</style>\n",
              "\n",
              "      <script>\n",
              "        async function quickchart(key) {\n",
              "          const quickchartButtonEl =\n",
              "            document.querySelector('#' + key + ' button');\n",
              "          quickchartButtonEl.disabled = true;  // To prevent multiple clicks.\n",
              "          quickchartButtonEl.classList.add('colab-df-spinner');\n",
              "          try {\n",
              "            const charts = await google.colab.kernel.invokeFunction(\n",
              "                'suggestCharts', [key], {});\n",
              "          } catch (error) {\n",
              "            console.error('Error during call to suggestCharts:', error);\n",
              "          }\n",
              "          quickchartButtonEl.classList.remove('colab-df-spinner');\n",
              "          quickchartButtonEl.classList.add('colab-df-quickchart-complete');\n",
              "        }\n",
              "        (() => {\n",
              "          let quickchartButtonEl =\n",
              "            document.querySelector('#df-4f8411b7-045c-4e85-b278-0557c55422ac button');\n",
              "          quickchartButtonEl.style.display =\n",
              "            google.colab.kernel.accessAllowed ? 'block' : 'none';\n",
              "        })();\n",
              "      </script>\n",
              "    </div>\n",
              "\n",
              "    </div>\n",
              "  </div>\n"
            ],
            "application/vnd.google.colaboratory.intrinsic+json": {
              "type": "dataframe",
              "variable_name": "df"
            }
          },
          "metadata": {},
          "execution_count": 130
        }
      ]
    },
    {
      "cell_type": "code",
      "source": [
        "columnas = one_hot_linear.get_feature_names_out()\n",
        "\n",
        "columnas_encoded = []\n",
        "for columna in columnas:\n",
        "    columna = columna.split('__')[1]\n",
        "    columnas_encoded.append(columna)"
      ],
      "metadata": {
        "id": "TNwXYoh7vxKM"
      },
      "id": "TNwXYoh7vxKM",
      "execution_count": 131,
      "outputs": []
    },
    {
      "cell_type": "code",
      "source": [
        "df_linear = pd.DataFrame(X_linear, columns=columnas_encoded)\n",
        "df_y_linear = pd.DataFrame(y_linear, columns=['abandono_cliente'])\n",
        "df_linear = pd.concat([df_linear, df_y_linear], axis=1)\n",
        "df_linear.head()"
      ],
      "metadata": {
        "colab": {
          "base_uri": "https://localhost:8080/",
          "height": 290
        },
        "id": "HTJxXkdTvy58",
        "outputId": "c16cf185-51b8-4d72-a7af-3f9b898cba7b"
      },
      "id": "HTJxXkdTvy58",
      "execution_count": 132,
      "outputs": [
        {
          "output_type": "execute_result",
          "data": {
            "text/plain": [
              "   genero_Masculino  jubilado_True  pareja_Si  dependientes_Si  \\\n",
              "0               0.0            0.0        1.0              1.0   \n",
              "1               1.0            0.0        0.0              0.0   \n",
              "2               1.0            0.0        0.0              0.0   \n",
              "3               1.0            1.0        1.0              0.0   \n",
              "4               0.0            1.0        1.0              0.0   \n",
              "\n",
              "   servicio_telefono_Si  ad.multiples_lineas_Si  \\\n",
              "0                   1.0                     0.0   \n",
              "1                   1.0                     1.0   \n",
              "2                   1.0                     0.0   \n",
              "3                   1.0                     0.0   \n",
              "4                   1.0                     0.0   \n",
              "\n",
              "   ad.multiples_lineas_Sin servicio telefónico  \\\n",
              "0                                          0.0   \n",
              "1                                          0.0   \n",
              "2                                          0.0   \n",
              "3                                          0.0   \n",
              "4                                          0.0   \n",
              "\n",
              "   servicio_internet_Fibra óptica  servicio_internet_No  \\\n",
              "0                             0.0                   0.0   \n",
              "1                             0.0                   0.0   \n",
              "2                             1.0                   0.0   \n",
              "3                             1.0                   0.0   \n",
              "4                             1.0                   0.0   \n",
              "\n",
              "   ad.seguridad_online_Si  ...  contrato_Mes a mes  contrato_Un año  \\\n",
              "0                     0.0  ...                 0.0              1.0   \n",
              "1                     0.0  ...                 1.0              0.0   \n",
              "2                     0.0  ...                 1.0              0.0   \n",
              "3                     0.0  ...                 1.0              0.0   \n",
              "4                     0.0  ...                 1.0              0.0   \n",
              "\n",
              "   factura_digital_Si  metodo_pago_Cheque por correo  \\\n",
              "0                 1.0                            1.0   \n",
              "1                 0.0                            1.0   \n",
              "2                 1.0                            0.0   \n",
              "3                 1.0                            0.0   \n",
              "4                 1.0                            1.0   \n",
              "\n",
              "   metodo_pago_Tarjeta de crédito (automática)  \\\n",
              "0                                          0.0   \n",
              "1                                          0.0   \n",
              "2                                          0.0   \n",
              "3                                          0.0   \n",
              "4                                          0.0   \n",
              "\n",
              "   metodo_pago_Transferencia bancaria (automática)  meses_antiguedad  \\\n",
              "0                                              0.0               9.0   \n",
              "1                                              0.0               9.0   \n",
              "2                                              0.0               4.0   \n",
              "3                                              0.0              13.0   \n",
              "4                                              0.0               3.0   \n",
              "\n",
              "   cargo.mensual  cargo.total  abandono_cliente  \n",
              "0           65.6       593.30                 0  \n",
              "1           59.9       542.40                 0  \n",
              "2           73.9       280.85                 1  \n",
              "3           98.0      1237.85                 1  \n",
              "4           83.9       267.40                 1  \n",
              "\n",
              "[5 rows x 31 columns]"
            ],
            "text/html": [
              "\n",
              "  <div id=\"df-88b4fd52-9fa3-4fe7-8f97-6500e59f9bc8\" class=\"colab-df-container\">\n",
              "    <div>\n",
              "<style scoped>\n",
              "    .dataframe tbody tr th:only-of-type {\n",
              "        vertical-align: middle;\n",
              "    }\n",
              "\n",
              "    .dataframe tbody tr th {\n",
              "        vertical-align: top;\n",
              "    }\n",
              "\n",
              "    .dataframe thead th {\n",
              "        text-align: right;\n",
              "    }\n",
              "</style>\n",
              "<table border=\"1\" class=\"dataframe\">\n",
              "  <thead>\n",
              "    <tr style=\"text-align: right;\">\n",
              "      <th></th>\n",
              "      <th>genero_Masculino</th>\n",
              "      <th>jubilado_True</th>\n",
              "      <th>pareja_Si</th>\n",
              "      <th>dependientes_Si</th>\n",
              "      <th>servicio_telefono_Si</th>\n",
              "      <th>ad.multiples_lineas_Si</th>\n",
              "      <th>ad.multiples_lineas_Sin servicio telefónico</th>\n",
              "      <th>servicio_internet_Fibra óptica</th>\n",
              "      <th>servicio_internet_No</th>\n",
              "      <th>ad.seguridad_online_Si</th>\n",
              "      <th>...</th>\n",
              "      <th>contrato_Mes a mes</th>\n",
              "      <th>contrato_Un año</th>\n",
              "      <th>factura_digital_Si</th>\n",
              "      <th>metodo_pago_Cheque por correo</th>\n",
              "      <th>metodo_pago_Tarjeta de crédito (automática)</th>\n",
              "      <th>metodo_pago_Transferencia bancaria (automática)</th>\n",
              "      <th>meses_antiguedad</th>\n",
              "      <th>cargo.mensual</th>\n",
              "      <th>cargo.total</th>\n",
              "      <th>abandono_cliente</th>\n",
              "    </tr>\n",
              "  </thead>\n",
              "  <tbody>\n",
              "    <tr>\n",
              "      <th>0</th>\n",
              "      <td>0.0</td>\n",
              "      <td>0.0</td>\n",
              "      <td>1.0</td>\n",
              "      <td>1.0</td>\n",
              "      <td>1.0</td>\n",
              "      <td>0.0</td>\n",
              "      <td>0.0</td>\n",
              "      <td>0.0</td>\n",
              "      <td>0.0</td>\n",
              "      <td>0.0</td>\n",
              "      <td>...</td>\n",
              "      <td>0.0</td>\n",
              "      <td>1.0</td>\n",
              "      <td>1.0</td>\n",
              "      <td>1.0</td>\n",
              "      <td>0.0</td>\n",
              "      <td>0.0</td>\n",
              "      <td>9.0</td>\n",
              "      <td>65.6</td>\n",
              "      <td>593.30</td>\n",
              "      <td>0</td>\n",
              "    </tr>\n",
              "    <tr>\n",
              "      <th>1</th>\n",
              "      <td>1.0</td>\n",
              "      <td>0.0</td>\n",
              "      <td>0.0</td>\n",
              "      <td>0.0</td>\n",
              "      <td>1.0</td>\n",
              "      <td>1.0</td>\n",
              "      <td>0.0</td>\n",
              "      <td>0.0</td>\n",
              "      <td>0.0</td>\n",
              "      <td>0.0</td>\n",
              "      <td>...</td>\n",
              "      <td>1.0</td>\n",
              "      <td>0.0</td>\n",
              "      <td>0.0</td>\n",
              "      <td>1.0</td>\n",
              "      <td>0.0</td>\n",
              "      <td>0.0</td>\n",
              "      <td>9.0</td>\n",
              "      <td>59.9</td>\n",
              "      <td>542.40</td>\n",
              "      <td>0</td>\n",
              "    </tr>\n",
              "    <tr>\n",
              "      <th>2</th>\n",
              "      <td>1.0</td>\n",
              "      <td>0.0</td>\n",
              "      <td>0.0</td>\n",
              "      <td>0.0</td>\n",
              "      <td>1.0</td>\n",
              "      <td>0.0</td>\n",
              "      <td>0.0</td>\n",
              "      <td>1.0</td>\n",
              "      <td>0.0</td>\n",
              "      <td>0.0</td>\n",
              "      <td>...</td>\n",
              "      <td>1.0</td>\n",
              "      <td>0.0</td>\n",
              "      <td>1.0</td>\n",
              "      <td>0.0</td>\n",
              "      <td>0.0</td>\n",
              "      <td>0.0</td>\n",
              "      <td>4.0</td>\n",
              "      <td>73.9</td>\n",
              "      <td>280.85</td>\n",
              "      <td>1</td>\n",
              "    </tr>\n",
              "    <tr>\n",
              "      <th>3</th>\n",
              "      <td>1.0</td>\n",
              "      <td>1.0</td>\n",
              "      <td>1.0</td>\n",
              "      <td>0.0</td>\n",
              "      <td>1.0</td>\n",
              "      <td>0.0</td>\n",
              "      <td>0.0</td>\n",
              "      <td>1.0</td>\n",
              "      <td>0.0</td>\n",
              "      <td>0.0</td>\n",
              "      <td>...</td>\n",
              "      <td>1.0</td>\n",
              "      <td>0.0</td>\n",
              "      <td>1.0</td>\n",
              "      <td>0.0</td>\n",
              "      <td>0.0</td>\n",
              "      <td>0.0</td>\n",
              "      <td>13.0</td>\n",
              "      <td>98.0</td>\n",
              "      <td>1237.85</td>\n",
              "      <td>1</td>\n",
              "    </tr>\n",
              "    <tr>\n",
              "      <th>4</th>\n",
              "      <td>0.0</td>\n",
              "      <td>1.0</td>\n",
              "      <td>1.0</td>\n",
              "      <td>0.0</td>\n",
              "      <td>1.0</td>\n",
              "      <td>0.0</td>\n",
              "      <td>0.0</td>\n",
              "      <td>1.0</td>\n",
              "      <td>0.0</td>\n",
              "      <td>0.0</td>\n",
              "      <td>...</td>\n",
              "      <td>1.0</td>\n",
              "      <td>0.0</td>\n",
              "      <td>1.0</td>\n",
              "      <td>1.0</td>\n",
              "      <td>0.0</td>\n",
              "      <td>0.0</td>\n",
              "      <td>3.0</td>\n",
              "      <td>83.9</td>\n",
              "      <td>267.40</td>\n",
              "      <td>1</td>\n",
              "    </tr>\n",
              "  </tbody>\n",
              "</table>\n",
              "<p>5 rows × 31 columns</p>\n",
              "</div>\n",
              "    <div class=\"colab-df-buttons\">\n",
              "\n",
              "  <div class=\"colab-df-container\">\n",
              "    <button class=\"colab-df-convert\" onclick=\"convertToInteractive('df-88b4fd52-9fa3-4fe7-8f97-6500e59f9bc8')\"\n",
              "            title=\"Convert this dataframe to an interactive table.\"\n",
              "            style=\"display:none;\">\n",
              "\n",
              "  <svg xmlns=\"http://www.w3.org/2000/svg\" height=\"24px\" viewBox=\"0 -960 960 960\">\n",
              "    <path d=\"M120-120v-720h720v720H120Zm60-500h600v-160H180v160Zm220 220h160v-160H400v160Zm0 220h160v-160H400v160ZM180-400h160v-160H180v160Zm440 0h160v-160H620v160ZM180-180h160v-160H180v160Zm440 0h160v-160H620v160Z\"/>\n",
              "  </svg>\n",
              "    </button>\n",
              "\n",
              "  <style>\n",
              "    .colab-df-container {\n",
              "      display:flex;\n",
              "      gap: 12px;\n",
              "    }\n",
              "\n",
              "    .colab-df-convert {\n",
              "      background-color: #E8F0FE;\n",
              "      border: none;\n",
              "      border-radius: 50%;\n",
              "      cursor: pointer;\n",
              "      display: none;\n",
              "      fill: #1967D2;\n",
              "      height: 32px;\n",
              "      padding: 0 0 0 0;\n",
              "      width: 32px;\n",
              "    }\n",
              "\n",
              "    .colab-df-convert:hover {\n",
              "      background-color: #E2EBFA;\n",
              "      box-shadow: 0px 1px 2px rgba(60, 64, 67, 0.3), 0px 1px 3px 1px rgba(60, 64, 67, 0.15);\n",
              "      fill: #174EA6;\n",
              "    }\n",
              "\n",
              "    .colab-df-buttons div {\n",
              "      margin-bottom: 4px;\n",
              "    }\n",
              "\n",
              "    [theme=dark] .colab-df-convert {\n",
              "      background-color: #3B4455;\n",
              "      fill: #D2E3FC;\n",
              "    }\n",
              "\n",
              "    [theme=dark] .colab-df-convert:hover {\n",
              "      background-color: #434B5C;\n",
              "      box-shadow: 0px 1px 3px 1px rgba(0, 0, 0, 0.15);\n",
              "      filter: drop-shadow(0px 1px 2px rgba(0, 0, 0, 0.3));\n",
              "      fill: #FFFFFF;\n",
              "    }\n",
              "  </style>\n",
              "\n",
              "    <script>\n",
              "      const buttonEl =\n",
              "        document.querySelector('#df-88b4fd52-9fa3-4fe7-8f97-6500e59f9bc8 button.colab-df-convert');\n",
              "      buttonEl.style.display =\n",
              "        google.colab.kernel.accessAllowed ? 'block' : 'none';\n",
              "\n",
              "      async function convertToInteractive(key) {\n",
              "        const element = document.querySelector('#df-88b4fd52-9fa3-4fe7-8f97-6500e59f9bc8');\n",
              "        const dataTable =\n",
              "          await google.colab.kernel.invokeFunction('convertToInteractive',\n",
              "                                                    [key], {});\n",
              "        if (!dataTable) return;\n",
              "\n",
              "        const docLinkHtml = 'Like what you see? Visit the ' +\n",
              "          '<a target=\"_blank\" href=https://colab.research.google.com/notebooks/data_table.ipynb>data table notebook</a>'\n",
              "          + ' to learn more about interactive tables.';\n",
              "        element.innerHTML = '';\n",
              "        dataTable['output_type'] = 'display_data';\n",
              "        await google.colab.output.renderOutput(dataTable, element);\n",
              "        const docLink = document.createElement('div');\n",
              "        docLink.innerHTML = docLinkHtml;\n",
              "        element.appendChild(docLink);\n",
              "      }\n",
              "    </script>\n",
              "  </div>\n",
              "\n",
              "\n",
              "    <div id=\"df-535508a3-4ca8-445b-88c8-009d88c354f3\">\n",
              "      <button class=\"colab-df-quickchart\" onclick=\"quickchart('df-535508a3-4ca8-445b-88c8-009d88c354f3')\"\n",
              "                title=\"Suggest charts\"\n",
              "                style=\"display:none;\">\n",
              "\n",
              "<svg xmlns=\"http://www.w3.org/2000/svg\" height=\"24px\"viewBox=\"0 0 24 24\"\n",
              "     width=\"24px\">\n",
              "    <g>\n",
              "        <path d=\"M19 3H5c-1.1 0-2 .9-2 2v14c0 1.1.9 2 2 2h14c1.1 0 2-.9 2-2V5c0-1.1-.9-2-2-2zM9 17H7v-7h2v7zm4 0h-2V7h2v10zm4 0h-2v-4h2v4z\"/>\n",
              "    </g>\n",
              "</svg>\n",
              "      </button>\n",
              "\n",
              "<style>\n",
              "  .colab-df-quickchart {\n",
              "      --bg-color: #E8F0FE;\n",
              "      --fill-color: #1967D2;\n",
              "      --hover-bg-color: #E2EBFA;\n",
              "      --hover-fill-color: #174EA6;\n",
              "      --disabled-fill-color: #AAA;\n",
              "      --disabled-bg-color: #DDD;\n",
              "  }\n",
              "\n",
              "  [theme=dark] .colab-df-quickchart {\n",
              "      --bg-color: #3B4455;\n",
              "      --fill-color: #D2E3FC;\n",
              "      --hover-bg-color: #434B5C;\n",
              "      --hover-fill-color: #FFFFFF;\n",
              "      --disabled-bg-color: #3B4455;\n",
              "      --disabled-fill-color: #666;\n",
              "  }\n",
              "\n",
              "  .colab-df-quickchart {\n",
              "    background-color: var(--bg-color);\n",
              "    border: none;\n",
              "    border-radius: 50%;\n",
              "    cursor: pointer;\n",
              "    display: none;\n",
              "    fill: var(--fill-color);\n",
              "    height: 32px;\n",
              "    padding: 0;\n",
              "    width: 32px;\n",
              "  }\n",
              "\n",
              "  .colab-df-quickchart:hover {\n",
              "    background-color: var(--hover-bg-color);\n",
              "    box-shadow: 0 1px 2px rgba(60, 64, 67, 0.3), 0 1px 3px 1px rgba(60, 64, 67, 0.15);\n",
              "    fill: var(--button-hover-fill-color);\n",
              "  }\n",
              "\n",
              "  .colab-df-quickchart-complete:disabled,\n",
              "  .colab-df-quickchart-complete:disabled:hover {\n",
              "    background-color: var(--disabled-bg-color);\n",
              "    fill: var(--disabled-fill-color);\n",
              "    box-shadow: none;\n",
              "  }\n",
              "\n",
              "  .colab-df-spinner {\n",
              "    border: 2px solid var(--fill-color);\n",
              "    border-color: transparent;\n",
              "    border-bottom-color: var(--fill-color);\n",
              "    animation:\n",
              "      spin 1s steps(1) infinite;\n",
              "  }\n",
              "\n",
              "  @keyframes spin {\n",
              "    0% {\n",
              "      border-color: transparent;\n",
              "      border-bottom-color: var(--fill-color);\n",
              "      border-left-color: var(--fill-color);\n",
              "    }\n",
              "    20% {\n",
              "      border-color: transparent;\n",
              "      border-left-color: var(--fill-color);\n",
              "      border-top-color: var(--fill-color);\n",
              "    }\n",
              "    30% {\n",
              "      border-color: transparent;\n",
              "      border-left-color: var(--fill-color);\n",
              "      border-top-color: var(--fill-color);\n",
              "      border-right-color: var(--fill-color);\n",
              "    }\n",
              "    40% {\n",
              "      border-color: transparent;\n",
              "      border-right-color: var(--fill-color);\n",
              "      border-top-color: var(--fill-color);\n",
              "    }\n",
              "    60% {\n",
              "      border-color: transparent;\n",
              "      border-right-color: var(--fill-color);\n",
              "    }\n",
              "    80% {\n",
              "      border-color: transparent;\n",
              "      border-right-color: var(--fill-color);\n",
              "      border-bottom-color: var(--fill-color);\n",
              "    }\n",
              "    90% {\n",
              "      border-color: transparent;\n",
              "      border-bottom-color: var(--fill-color);\n",
              "    }\n",
              "  }\n",
              "</style>\n",
              "\n",
              "      <script>\n",
              "        async function quickchart(key) {\n",
              "          const quickchartButtonEl =\n",
              "            document.querySelector('#' + key + ' button');\n",
              "          quickchartButtonEl.disabled = true;  // To prevent multiple clicks.\n",
              "          quickchartButtonEl.classList.add('colab-df-spinner');\n",
              "          try {\n",
              "            const charts = await google.colab.kernel.invokeFunction(\n",
              "                'suggestCharts', [key], {});\n",
              "          } catch (error) {\n",
              "            console.error('Error during call to suggestCharts:', error);\n",
              "          }\n",
              "          quickchartButtonEl.classList.remove('colab-df-spinner');\n",
              "          quickchartButtonEl.classList.add('colab-df-quickchart-complete');\n",
              "        }\n",
              "        (() => {\n",
              "          let quickchartButtonEl =\n",
              "            document.querySelector('#df-535508a3-4ca8-445b-88c8-009d88c354f3 button');\n",
              "          quickchartButtonEl.style.display =\n",
              "            google.colab.kernel.accessAllowed ? 'block' : 'none';\n",
              "        })();\n",
              "      </script>\n",
              "    </div>\n",
              "\n",
              "    </div>\n",
              "  </div>\n"
            ],
            "application/vnd.google.colaboratory.intrinsic+json": {
              "type": "dataframe",
              "variable_name": "df_linear"
            }
          },
          "metadata": {},
          "execution_count": 132
        }
      ]
    },
    {
      "cell_type": "code",
      "source": [
        "df.rename(columns={'InternetService_No': 'NoInternetService'}, inplace=True)\n",
        "df_linear.rename(columns={'InternetService_No': 'NoInternetService'}, inplace=True)"
      ],
      "metadata": {
        "id": "GbzXOJinv43T"
      },
      "id": "GbzXOJinv43T",
      "execution_count": 96,
      "outputs": []
    },
    {
      "cell_type": "code",
      "source": [
        "df_scale = df.copy()"
      ],
      "metadata": {
        "id": "FPCNXQykv7f0"
      },
      "id": "FPCNXQykv7f0",
      "execution_count": 97,
      "outputs": []
    },
    {
      "cell_type": "markdown",
      "source": [
        "### Verificación de la Proporción de Cancelación (Churn)"
      ],
      "metadata": {
        "id": "Am3JQ8eTJ5Fy"
      },
      "id": "Am3JQ8eTJ5Fy"
    },
    {
      "cell_type": "markdown",
      "source": [
        "Si deseas profundizar en el análisis, aplica técnicas de balanceo como **undersampling** o **oversampling**. En situaciones de fuerte desbalanceo, herramientas como **SMOTE** pueden ser útiles para generar ejemplos sintéticos de la clase minoritaria."
      ],
      "metadata": {
        "id": "Mw9E2fNZMRly"
      },
      "id": "Mw9E2fNZMRly"
    },
    {
      "cell_type": "markdown",
      "source": [
        "### Balanceo de Clases (opcional)"
      ],
      "metadata": {
        "id": "7RztOfSVJ6Ox"
      },
      "id": "7RztOfSVJ6Ox"
    },
    {
      "cell_type": "markdown",
      "source": [
        "Si deseas profundizar en el análisis, aplica técnicas de balanceo como **undersampling** o **oversampling**. En situaciones de fuerte desbalanceo, herramientas como **SMOTE** pueden ser útiles para generar ejemplos sintéticos de la clase minoritaria."
      ],
      "metadata": {
        "id": "P2PMxrmgMOYK"
      },
      "id": "P2PMxrmgMOYK"
    },
    {
      "cell_type": "markdown",
      "source": [
        "### Normalización o Estandarización (si es necesario)"
      ],
      "metadata": {
        "id": "dWwzr-nwJ6TB"
      },
      "id": "dWwzr-nwJ6TB"
    },
    {
      "cell_type": "markdown",
      "source": [
        "Evalúa la necesidad de normalizar o estandarizar los datos, según los modelos que se aplicarán. Modelos basados en distancia, como **KNN**, **SVM**, **Regresión Logística** y **Redes Neuronales**, requieren este preprocesamiento. Por otro lado, modelos basados en árboles, como **Decision Tree**, **Random Forest** y **XGBoost**, no son sensibles a la escala de los datos."
      ],
      "metadata": {
        "id": "Jot9-uK5MIiD"
      },
      "id": "Jot9-uK5MIiD"
    },
    {
      "cell_type": "markdown",
      "metadata": {
        "id": "j9KbkE_9JUBi"
      },
      "source": [
        "## 🎯 Correlación y Selección de Variables\n",
        "\n"
      ],
      "id": "j9KbkE_9JUBi"
    },
    {
      "cell_type": "markdown",
      "source": [
        "### Análisis de Correlación"
      ],
      "metadata": {
        "id": "Fm9zVXSiJ7sJ"
      },
      "id": "Fm9zVXSiJ7sJ"
    },
    {
      "cell_type": "markdown",
      "source": [
        "Visualiza la matriz de correlación para identificar relaciones entre las variables numéricas. Presta especial **atención a las variables que muestran una mayor correlación con la cancelación**, ya que estas pueden ser fuertes candidatas para el modelo predictivo."
      ],
      "metadata": {
        "id": "S_3MoCYYMAL7"
      },
      "id": "S_3MoCYYMAL7"
    },
    {
      "cell_type": "markdown",
      "source": [
        "### Análisis Dirigido"
      ],
      "metadata": {
        "id": "NazijI3uJ9Gx"
      },
      "id": "NazijI3uJ9Gx"
    },
    {
      "cell_type": "markdown",
      "source": [
        "Investiga cómo variables específicas se relacionan con la cancelación, tales como:\n",
        "\n",
        "- **Tiempo de contrato × Cancelación**\n",
        "- **Gasto total × Cancelación**\n",
        "\n",
        "Utiliza gráficos como **boxplots** o **scatter plots** para visualizar patrones y posibles tendencias."
      ],
      "metadata": {
        "id": "8sHs6k9kL7YD"
      },
      "id": "8sHs6k9kL7YD"
    },
    {
      "cell_type": "markdown",
      "metadata": {
        "id": "yJYBRfJ-JY_q"
      },
      "source": [
        "## 🤖 Modelado Predictivo\n",
        "\n"
      ],
      "id": "yJYBRfJ-JY_q"
    },
    {
      "cell_type": "markdown",
      "source": [
        "### Separación de Datos"
      ],
      "metadata": {
        "id": "4lnE012kJ-Sp"
      },
      "id": "4lnE012kJ-Sp"
    },
    {
      "cell_type": "markdown",
      "source": [
        "Crea al menos dos modelos diferentes para predecir la cancelación de clientes.\n",
        "\n",
        "- Un modelo puede requerir normalización, como **Regresión Logística** o **KNN**.\n",
        "- El otro modelo puede no requerir normalización, como **Árbol de Decisión** o **Random Forest**.\n",
        "\n",
        "💡 La decisión de aplicar o no la normalización depende de los modelos seleccionados. Ambos modelos pueden ser creados sin normalización, pero también es una opción combinar modelos con y sin normalización.\n",
        "\n",
        "**Justificación:**\n",
        "\n",
        "- **Regresión Logística / KNN:** Estos modelos son sensibles a la escala de los datos, por lo que la normalización es importante para que los coeficientes o las distancias se calculen correctamente.\n",
        "- **Árbol de Decisión / Random Forest:** Estos modelos no dependen de la escala de los datos, por lo que no es necesario aplicar normalización.\n",
        "\n",
        "Si decides normalizar los datos, deberías explicar cómo esta etapa asegura que los modelos basados en distancia o en optimización de parámetros no se vean sesgados por la magnitud de las variables."
      ],
      "metadata": {
        "id": "YawmPO0eL2xz"
      },
      "id": "YawmPO0eL2xz"
    },
    {
      "cell_type": "markdown",
      "source": [
        "### Creación de Modelos"
      ],
      "metadata": {
        "id": "JoHdJKRZJ-WZ"
      },
      "id": "JoHdJKRZJ-WZ"
    },
    {
      "cell_type": "markdown",
      "source": [
        "Crea al menos dos modelos diferentes para predecir la cancelación de clientes.\n",
        "\n",
        "- Un modelo puede requerir normalización, como **Regresión Logística** o **KNN**.\n",
        "- El otro modelo puede no requerir normalización, como **Árbol de Decisión** o **Random Forest**.\n",
        "\n",
        "💡 La decisión de aplicar o no la normalización depende de los modelos seleccionados. Ambos modelos pueden ser creados sin normalización, pero también es una opción combinar modelos con y sin normalización.\n",
        "\n",
        "**Justificación:**\n",
        "\n",
        "- **Regresión Logística / KNN:** Estos modelos son sensibles a la escala de los datos, por lo que la normalización es importante para que los coeficientes o las distancias se calculen correctamente.\n",
        "- **Árbol de Decisión / Random Forest:** Estos modelos no dependen de la escala de los datos, por lo que no es necesario aplicar normalización.\n",
        "\n",
        "Si decides normalizar los datos, deberías explicar cómo esta etapa asegura que los modelos basados en distancia o en optimización de parámetros no se vean sesgados por la magnitud de las variables."
      ],
      "metadata": {
        "id": "J6uduIgpLzUs"
      },
      "id": "J6uduIgpLzUs"
    },
    {
      "cell_type": "markdown",
      "source": [
        "### Evaluación de los Modelos"
      ],
      "metadata": {
        "id": "HWurxmXIJ-dB"
      },
      "id": "HWurxmXIJ-dB"
    },
    {
      "cell_type": "markdown",
      "source": [
        "Evalúa cada modelo utilizando las siguientes métricas:\n",
        "\n",
        "- **Exactitud (Acurácia)**\n",
        "- **Precisión**\n",
        "- **Recall**\n",
        "- **F1-score**\n",
        "- **Matriz de confusión**\n",
        "\n",
        "Después, realiza un análisis crítico y compara los modelos:\n",
        "\n",
        "- ¿Cuál modelo tuvo el mejor desempeño?\n",
        "- ¿Algún modelo presentó **overfitting** o **underfitting**? Si es así, considera las posibles causas y ajustes:\n",
        "  - **Overfitting**: Cuando el modelo aprende demasiado sobre los datos de entrenamiento, perdiendo la capacidad de generalizar a nuevos datos. Considera reducir la complejidad del modelo o aumentar los datos de entrenamiento.\n",
        "  - **Underfitting**: Cuando el modelo no captura bien las tendencias de los datos, lo que indica que es demasiado simple. Intenta aumentar la complejidad del modelo o ajustar sus parámetros."
      ],
      "metadata": {
        "id": "GNlRXiIwLtJL"
      },
      "id": "GNlRXiIwLtJL"
    },
    {
      "cell_type": "markdown",
      "metadata": {
        "id": "2pm0FGN7JUJj"
      },
      "source": [
        "## 📋 Interpretación y Conclusiones Datos\n",
        "\n"
      ],
      "id": "2pm0FGN7JUJj"
    },
    {
      "cell_type": "markdown",
      "source": [
        "### Análisis de la Importancia de las Variables"
      ],
      "metadata": {
        "id": "66Ybw6VeJ_dZ"
      },
      "id": "66Ybw6VeJ_dZ"
    },
    {
      "cell_type": "markdown",
      "source": [
        "Después de elegir los modelos, realiza el análisis de las variables más relevantes para la predicción de la cancelación:\n",
        "\n",
        "* Regresión Logística: Investiga los coeficientes de las variables, que muestran su contribución a la predicción de cancelación.\n",
        "\n",
        "* KNN (K-Nearest Neighbors): Observa cómo los vecinos más cercanos influyen en la decisión de clasificación. Las variables más impactantes pueden ser aquellas que más contribuyen a la proximidad entre los puntos de datos.\n",
        "\n",
        "* Random Forest: Utiliza la importancia de las variables proporcionada por el modelo. Random Forest calcula la importancia basándose en cómo cada variable contribuye a la reducción de la impureza durante las divisiones de los árboles.\n",
        "\n",
        "* SVM (Support Vector Machine): En el SVM, las variables más relevantes son aquellas que influyen en la frontera de decisión entre las clases. Puedes analizar los coeficientes de los vectores de soporte para entender qué variables tienen mayor impacto.\n",
        "\n",
        "* Otros Modelos: Dependiendo del modelo elegido, considera el análisis de métricas específicas para comprender la relevancia de las variables. Por ejemplo, coeficientes en modelos lineales, pesos en redes neuronales, o la importancia relativa en técnicas de boosting (como XGBoost)."
      ],
      "metadata": {
        "id": "aCquNIWbLcaM"
      },
      "id": "aCquNIWbLcaM"
    },
    {
      "cell_type": "markdown",
      "source": [
        "### Conclusión"
      ],
      "metadata": {
        "id": "WSY-FrfcJ_gB"
      },
      "id": "WSY-FrfcJ_gB"
    },
    {
      "cell_type": "markdown",
      "source": [
        "Elaboren un informe detallado, destacando los factores que más influyen en la cancelación, basándose en las variables seleccionadas y en el rendimiento de cada modelo.\n",
        "\n",
        "Identifiquen los principales factores que afectan la cancelación de clientes y propongan estrategias de retención basadas en los resultados obtenidos."
      ],
      "metadata": {
        "id": "jbtBOS8jLTd9"
      },
      "id": "jbtBOS8jLTd9"
    }
  ],
  "metadata": {
    "language_info": {
      "name": "python"
    },
    "colab": {
      "provenance": [],
      "include_colab_link": true
    },
    "kernelspec": {
      "name": "python3",
      "display_name": "Python 3"
    }
  },
  "nbformat": 4,
  "nbformat_minor": 5
}