{
  "cells": [
    {
      "cell_type": "markdown",
      "metadata": {
        "id": "view-in-github",
        "colab_type": "text"
      },
      "source": [
        "<a href=\"https://colab.research.google.com/github/MigXDev/CS_Datos_I_DESAFIO_3/blob/main/TelecomX_LATAM_2.ipynb\" target=\"_parent\"><img src=\"https://colab.research.google.com/assets/colab-badge.svg\" alt=\"Open In Colab\"/></a>"
      ]
    },
    {
      "cell_type": "markdown",
      "id": "7b5bf62c",
      "metadata": {
        "id": "7b5bf62c"
      },
      "source": [
        "# Challengue Alura - TelecomX"
      ]
    },
    {
      "cell_type": "markdown",
      "source": [
        "## Acerca del Desafio"
      ],
      "metadata": {
        "id": "L_9FqYUcMylZ"
      },
      "id": "L_9FqYUcMylZ"
    },
    {
      "cell_type": "markdown",
      "source": [
        "**Telecom X – Parte 2: Predicción de Cancelación (Churn)**\n",
        "\n",
        "📣 **Historia del Desafío**\n",
        "\n",
        "¡Felicidades! 🎉 Has sido promovido después de tu excelente desempeño en el análisis exploratorio de la cancelación de clientes en Telecom X. Tu dedicación, claridad al comunicar los datos y visión estratégica marcaron la diferencia.\n",
        "\n",
        "Ahora, ¡has sido invitado oficialmente a formar parte del equipo de Machine Learning de la empresa!\n",
        "\n",
        "---\n",
        "\n",
        "🎯 **Misión**\n",
        "\n",
        "Tu nueva misión es desarrollar modelos predictivos capaces de prever qué clientes tienen mayor probabilidad de cancelar sus servicios.\n",
        "\n",
        "La empresa quiere anticiparse al problema de la cancelación, y te corresponde a ti construir un pipeline robusto para esta etapa inicial de modelado.\n",
        "\n",
        "---\n",
        "\n",
        "🧠 **Objetivos del Desafío**\n",
        "\n",
        "- Preparar los datos para el modelado (tratamiento, codificación, normalización).\n",
        "- Realizar análisis de correlación y selección de variables.\n",
        "- Entrenar dos o más modelos de clasificación.\n",
        "- Evaluar el rendimiento de los modelos con métricas.\n",
        "- Interpretar los resultados, incluyendo la importancia de las variables.\n",
        "- Crear una conclusión estratégica señalando los principales factores que influyen en la cancelación.\n",
        "\n",
        "---\n",
        "\n",
        "🧰 **Lo que vas a practicar**\n",
        "\n",
        "✅ Preprocesamiento de datos para Machine Learning\n",
        "✅ Construcción y evaluación de modelos predictivos\n",
        "✅ Interpretación de resultados y entrega de insights\n",
        "✅ Comunicación técnica con enfoque estratégico\n",
        "\n",
        "---\n",
        "\n",
        "🚀 **Ahora eres: Analista Junior de Machine Learning**\n",
        "\n",
        "Telecom X confía en tu entrega para dar los próximos pasos hacia una solución de inteligencia predictiva eficaz. ¡Buena suerte!"
      ],
      "metadata": {
        "id": "Y4kBJpwWMv-5"
      },
      "id": "Y4kBJpwWMv-5"
    },
    {
      "cell_type": "markdown",
      "id": "cc7a378c",
      "metadata": {
        "id": "cc7a378c"
      },
      "source": [
        "## 🛠️ Preparación de los Datos\n",
        "\n"
      ]
    },
    {
      "cell_type": "markdown",
      "source": [
        "### Extracción del Archivo Tratado"
      ],
      "metadata": {
        "id": "KxH6-OAgJsEh"
      },
      "id": "KxH6-OAgJsEh"
    },
    {
      "cell_type": "markdown",
      "source": [
        "Carga el archivo CSV que contiene los datos tratados anteriormente.<br>\n",
        "📂 Atención: Utiliza el mismo archivo que limpiaste y organizaste en la Parte 1 del desafío Telecom X. Debe contener solo las columnas relevantes, ya con los datos corregidos y estandarizados."
      ],
      "metadata": {
        "id": "_iQq51w9KFjI"
      },
      "id": "_iQq51w9KFjI"
    },
    {
      "cell_type": "markdown",
      "source": [
        "### Eliminación de Columnas Irrelevantes"
      ],
      "metadata": {
        "id": "X_YUXHbBJ41p"
      },
      "id": "X_YUXHbBJ41p"
    },
    {
      "cell_type": "markdown",
      "source": [
        "Elimina columnas que **no aportan valor al análisis** o a **los modelos predictivos**, como identificadores únicos (por ejemplo, el ID del cliente). Estas columnas no ayudan en la predicción de la cancelación y pueden incluso perjudicar el desempeño de los modelos."
      ],
      "metadata": {
        "id": "BPBd-Ac3McVC"
      },
      "id": "BPBd-Ac3McVC"
    },
    {
      "cell_type": "markdown",
      "source": [
        "### Encoding"
      ],
      "metadata": {
        "id": "NpOc0nmBJ5AR"
      },
      "id": "NpOc0nmBJ5AR"
    },
    {
      "cell_type": "markdown",
      "source": [
        "Transforma las variables categóricas a formato numérico para hacerlas compatibles con los algoritmos de _machine learning_. Utiliza un método de codificación adecuado, como **one-hot encoding**.\n",
        "\n",
        "🔎 **Sugerencia:**\n",
        "Puedes consultar este artículo para entender mejor cuándo usar `get_dummies` o `OneHotEncoder`:\n",
        "[Artículo en Alura sobre codificación categórica](http://falta-link.com \"‌\")"
      ],
      "metadata": {
        "id": "LWskRkI2MUjS"
      },
      "id": "LWskRkI2MUjS"
    },
    {
      "cell_type": "markdown",
      "source": [
        "### Verificación de la Proporción de Cancelación (Churn)"
      ],
      "metadata": {
        "id": "Am3JQ8eTJ5Fy"
      },
      "id": "Am3JQ8eTJ5Fy"
    },
    {
      "cell_type": "markdown",
      "source": [
        "Si deseas profundizar en el análisis, aplica técnicas de balanceo como **undersampling** o **oversampling**. En situaciones de fuerte desbalanceo, herramientas como **SMOTE** pueden ser útiles para generar ejemplos sintéticos de la clase minoritaria.\n",
        "\n",
        "🔎 **Sugerencia:**\n",
        "Puedes leer más sobre cómo manejar el desbalanceo de clases en este artículo:\n",
        "[Artículo en Alura sobre desbalanceo de datos](https://www.alura.com.br/artigos/lidando-com-desbalanceamento-dados?srsltid=AfmBOopTgyC_tpujwkC778gYjcLituqgxknih2Cr4vD72_OFHSB4v35M \"‌\")"
      ],
      "metadata": {
        "id": "Mw9E2fNZMRly"
      },
      "id": "Mw9E2fNZMRly"
    },
    {
      "cell_type": "markdown",
      "source": [
        "### Balanceo de Clases (opcional)"
      ],
      "metadata": {
        "id": "7RztOfSVJ6Ox"
      },
      "id": "7RztOfSVJ6Ox"
    },
    {
      "cell_type": "markdown",
      "source": [
        "Si deseas profundizar en el análisis, aplica técnicas de balanceo como **undersampling** o **oversampling**. En situaciones de fuerte desbalanceo, herramientas como **SMOTE** pueden ser útiles para generar ejemplos sintéticos de la clase minoritaria.\n",
        "\n",
        "🔎 **Sugerencia:**\n",
        "Puedes leer más sobre cómo manejar el desbalanceo de clases en este artículo:\n",
        "[Artículo en Alura sobre desbalanceo de datos](https://www.alura.com.br/artigos/lidando-com-desbalanceamento-dados?srsltid=AfmBOopTgyC_tpujwkC778gYjcLituqgxknih2Cr4vD72_OFHSB4v35M \"‌\")"
      ],
      "metadata": {
        "id": "P2PMxrmgMOYK"
      },
      "id": "P2PMxrmgMOYK"
    },
    {
      "cell_type": "markdown",
      "source": [
        "### Normalización o Estandarización (si es necesario)"
      ],
      "metadata": {
        "id": "dWwzr-nwJ6TB"
      },
      "id": "dWwzr-nwJ6TB"
    },
    {
      "cell_type": "markdown",
      "source": [
        "Evalúa la necesidad de normalizar o estandarizar los datos, según los modelos que se aplicarán. Modelos basados en distancia, como **KNN**, **SVM**, **Regresión Logística** y **Redes Neuronales**, requieren este preprocesamiento. Por otro lado, modelos basados en árboles, como **Decision Tree**, **Random Forest** y **XGBoost**, no son sensibles a la escala de los datos.\n",
        "\n",
        "🔎 **Sugerencia:**\n",
        "Puedes leer más sobre normalización y estandarización de datos en este artículo:\n",
        "[Artículo en Medium sobre normalización y estandarización en Machine Learning](https://medium.com/ipnet-growth-partner/padronizacao-normalizacao-dados-machine-learning-f8f29246c12 \"‌\")"
      ],
      "metadata": {
        "id": "Jot9-uK5MIiD"
      },
      "id": "Jot9-uK5MIiD"
    },
    {
      "cell_type": "markdown",
      "metadata": {
        "id": "j9KbkE_9JUBi"
      },
      "source": [
        "## 🎯 Correlación y Selección de Variables\n",
        "\n"
      ],
      "id": "j9KbkE_9JUBi"
    },
    {
      "cell_type": "markdown",
      "source": [
        "### Análisis de Correlación"
      ],
      "metadata": {
        "id": "Fm9zVXSiJ7sJ"
      },
      "id": "Fm9zVXSiJ7sJ"
    },
    {
      "cell_type": "markdown",
      "source": [
        "Visualiza la matriz de correlación para identificar relaciones entre las variables numéricas. Presta especial **atención a las variables que muestran una mayor correlación con la cancelación**, ya que estas pueden ser fuertes candidatas para el modelo predictivo."
      ],
      "metadata": {
        "id": "S_3MoCYYMAL7"
      },
      "id": "S_3MoCYYMAL7"
    },
    {
      "cell_type": "markdown",
      "source": [
        "### Análisis Dirigido"
      ],
      "metadata": {
        "id": "NazijI3uJ9Gx"
      },
      "id": "NazijI3uJ9Gx"
    },
    {
      "cell_type": "markdown",
      "source": [
        "Investiga cómo variables específicas se relacionan con la cancelación, tales como:\n",
        "\n",
        "- **Tiempo de contrato × Cancelación**\n",
        "- **Gasto total × Cancelación**\n",
        "\n",
        "Utiliza gráficos como **boxplots** o **scatter plots** para visualizar patrones y posibles tendencias."
      ],
      "metadata": {
        "id": "8sHs6k9kL7YD"
      },
      "id": "8sHs6k9kL7YD"
    },
    {
      "cell_type": "markdown",
      "metadata": {
        "id": "yJYBRfJ-JY_q"
      },
      "source": [
        "## 🤖 Modelado Predictivo\n",
        "\n"
      ],
      "id": "yJYBRfJ-JY_q"
    },
    {
      "cell_type": "markdown",
      "source": [
        "### Separación de Datos"
      ],
      "metadata": {
        "id": "4lnE012kJ-Sp"
      },
      "id": "4lnE012kJ-Sp"
    },
    {
      "cell_type": "markdown",
      "source": [
        "Crea al menos dos modelos diferentes para predecir la cancelación de clientes.\n",
        "\n",
        "- Un modelo puede requerir normalización, como **Regresión Logística** o **KNN**.\n",
        "- El otro modelo puede no requerir normalización, como **Árbol de Decisión** o **Random Forest**.\n",
        "\n",
        "💡 La decisión de aplicar o no la normalización depende de los modelos seleccionados. Ambos modelos pueden ser creados sin normalización, pero también es una opción combinar modelos con y sin normalización.\n",
        "\n",
        "**Justificación:**\n",
        "\n",
        "- **Regresión Logística / KNN:** Estos modelos son sensibles a la escala de los datos, por lo que la normalización es importante para que los coeficientes o las distancias se calculen correctamente.\n",
        "- **Árbol de Decisión / Random Forest:** Estos modelos no dependen de la escala de los datos, por lo que no es necesario aplicar normalización.\n",
        "\n",
        "Si decides normalizar los datos, deberías explicar cómo esta etapa asegura que los modelos basados en distancia o en optimización de parámetros no se vean sesgados por la magnitud de las variables."
      ],
      "metadata": {
        "id": "YawmPO0eL2xz"
      },
      "id": "YawmPO0eL2xz"
    },
    {
      "cell_type": "markdown",
      "source": [
        "### Creación de Modelos"
      ],
      "metadata": {
        "id": "JoHdJKRZJ-WZ"
      },
      "id": "JoHdJKRZJ-WZ"
    },
    {
      "cell_type": "markdown",
      "source": [
        "Crea al menos dos modelos diferentes para predecir la cancelación de clientes.\n",
        "\n",
        "- Un modelo puede requerir normalización, como **Regresión Logística** o **KNN**.\n",
        "- El otro modelo puede no requerir normalización, como **Árbol de Decisión** o **Random Forest**.\n",
        "\n",
        "💡 La decisión de aplicar o no la normalización depende de los modelos seleccionados. Ambos modelos pueden ser creados sin normalización, pero también es una opción combinar modelos con y sin normalización.\n",
        "\n",
        "**Justificación:**\n",
        "\n",
        "- **Regresión Logística / KNN:** Estos modelos son sensibles a la escala de los datos, por lo que la normalización es importante para que los coeficientes o las distancias se calculen correctamente.\n",
        "- **Árbol de Decisión / Random Forest:** Estos modelos no dependen de la escala de los datos, por lo que no es necesario aplicar normalización.\n",
        "\n",
        "Si decides normalizar los datos, deberías explicar cómo esta etapa asegura que los modelos basados en distancia o en optimización de parámetros no se vean sesgados por la magnitud de las variables."
      ],
      "metadata": {
        "id": "J6uduIgpLzUs"
      },
      "id": "J6uduIgpLzUs"
    },
    {
      "cell_type": "markdown",
      "source": [
        "### Evaluación de los Modelos"
      ],
      "metadata": {
        "id": "HWurxmXIJ-dB"
      },
      "id": "HWurxmXIJ-dB"
    },
    {
      "cell_type": "markdown",
      "source": [
        "Evalúa cada modelo utilizando las siguientes métricas:\n",
        "\n",
        "- **Exactitud (Acurácia)**\n",
        "- **Precisión**\n",
        "- **Recall**\n",
        "- **F1-score**\n",
        "- **Matriz de confusión**\n",
        "\n",
        "Después, realiza un análisis crítico y compara los modelos:\n",
        "\n",
        "- ¿Cuál modelo tuvo el mejor desempeño?\n",
        "- ¿Algún modelo presentó **overfitting** o **underfitting**? Si es así, considera las posibles causas y ajustes:\n",
        "  - **Overfitting**: Cuando el modelo aprende demasiado sobre los datos de entrenamiento, perdiendo la capacidad de generalizar a nuevos datos. Considera reducir la complejidad del modelo o aumentar los datos de entrenamiento.\n",
        "  - **Underfitting**: Cuando el modelo no captura bien las tendencias de los datos, lo que indica que es demasiado simple. Intenta aumentar la complejidad del modelo o ajustar sus parámetros."
      ],
      "metadata": {
        "id": "GNlRXiIwLtJL"
      },
      "id": "GNlRXiIwLtJL"
    },
    {
      "cell_type": "markdown",
      "metadata": {
        "id": "2pm0FGN7JUJj"
      },
      "source": [
        "## 📋 Interpretación y Conclusiones Datos\n",
        "\n"
      ],
      "id": "2pm0FGN7JUJj"
    },
    {
      "cell_type": "markdown",
      "source": [
        "### Análisis de la Importancia de las Variables"
      ],
      "metadata": {
        "id": "66Ybw6VeJ_dZ"
      },
      "id": "66Ybw6VeJ_dZ"
    },
    {
      "cell_type": "markdown",
      "source": [
        "Después de elegir los modelos, realiza el análisis de las variables más relevantes para la predicción de la cancelación:\n",
        "\n",
        "* Regresión Logística: Investiga los coeficientes de las variables, que muestran su contribución a la predicción de cancelación.\n",
        "\n",
        "* KNN (K-Nearest Neighbors): Observa cómo los vecinos más cercanos influyen en la decisión de clasificación. Las variables más impactantes pueden ser aquellas que más contribuyen a la proximidad entre los puntos de datos.\n",
        "\n",
        "* Random Forest: Utiliza la importancia de las variables proporcionada por el modelo. Random Forest calcula la importancia basándose en cómo cada variable contribuye a la reducción de la impureza durante las divisiones de los árboles.\n",
        "\n",
        "* SVM (Support Vector Machine): En el SVM, las variables más relevantes son aquellas que influyen en la frontera de decisión entre las clases. Puedes analizar los coeficientes de los vectores de soporte para entender qué variables tienen mayor impacto.\n",
        "\n",
        "* Otros Modelos: Dependiendo del modelo elegido, considera el análisis de métricas específicas para comprender la relevancia de las variables. Por ejemplo, coeficientes en modelos lineales, pesos en redes neuronales, o la importancia relativa en técnicas de boosting (como XGBoost)."
      ],
      "metadata": {
        "id": "aCquNIWbLcaM"
      },
      "id": "aCquNIWbLcaM"
    },
    {
      "cell_type": "markdown",
      "source": [
        "### Conclusión"
      ],
      "metadata": {
        "id": "WSY-FrfcJ_gB"
      },
      "id": "WSY-FrfcJ_gB"
    },
    {
      "cell_type": "markdown",
      "source": [
        "Elaboren un informe detallado, destacando los factores que más influyen en la cancelación, basándose en las variables seleccionadas y en el rendimiento de cada modelo.\n",
        "\n",
        "Identifiquen los principales factores que afectan la cancelación de clientes y propongan estrategias de retención basadas en los resultados obtenidos."
      ],
      "metadata": {
        "id": "jbtBOS8jLTd9"
      },
      "id": "jbtBOS8jLTd9"
    }
  ],
  "metadata": {
    "language_info": {
      "name": "python"
    },
    "colab": {
      "provenance": [],
      "include_colab_link": true
    }
  },
  "nbformat": 4,
  "nbformat_minor": 5
}