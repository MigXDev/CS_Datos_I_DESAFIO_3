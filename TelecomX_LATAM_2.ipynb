{
  "cells": [
    {
      "cell_type": "markdown",
      "metadata": {
        "id": "view-in-github",
        "colab_type": "text"
      },
      "source": [
        "<a href=\"https://colab.research.google.com/github/MigXDev/CS_Datos_I_DESAFIO_3/blob/main/TelecomX_LATAM_2.ipynb\" target=\"_parent\"><img src=\"https://colab.research.google.com/assets/colab-badge.svg\" alt=\"Open In Colab\"/></a>"
      ]
    },
    {
      "cell_type": "markdown",
      "id": "7b5bf62c",
      "metadata": {
        "id": "7b5bf62c"
      },
      "source": [
        "# Challengue Alura - TelecomX"
      ]
    },
    {
      "cell_type": "markdown",
      "source": [
        "## Acerca del Desafio"
      ],
      "metadata": {
        "id": "L_9FqYUcMylZ"
      },
      "id": "L_9FqYUcMylZ"
    },
    {
      "cell_type": "markdown",
      "source": [
        "**Telecom X – Parte 2: Predicción de Cancelación (Churn)**\n",
        "\n",
        "📣 **Historia del Desafío**\n",
        "\n",
        "¡Felicidades! 🎉 Has sido promovido después de tu excelente desempeño en el análisis exploratorio de la cancelación de clientes en Telecom X. Tu dedicación, claridad al comunicar los datos y visión estratégica marcaron la diferencia.\n",
        "\n",
        "Ahora, ¡has sido invitado oficialmente a formar parte del equipo de Machine Learning de la empresa!"
      ],
      "metadata": {
        "id": "CnAB1W6xhUWv"
      },
      "id": "CnAB1W6xhUWv"
    },
    {
      "cell_type": "markdown",
      "source": [
        "🎯 **Misión**\n",
        "\n",
        "Tu nueva misión es desarrollar modelos predictivos capaces de prever qué clientes tienen mayor probabilidad de cancelar sus servicios.\n",
        "\n",
        "La empresa quiere anticiparse al problema de la cancelación, y te corresponde a ti construir un pipeline robusto para esta etapa inicial de modelado."
      ],
      "metadata": {
        "id": "kRvNYrgwhXhu"
      },
      "id": "kRvNYrgwhXhu"
    },
    {
      "cell_type": "markdown",
      "source": [
        "🧠 **Objetivos del Desafío**\n",
        "\n",
        "- Preparar los datos para el modelado (tratamiento, codificación, normalización).\n",
        "- Realizar análisis de correlación y selección de variables.\n",
        "- Entrenar dos o más modelos de clasificación.\n",
        "- Evaluar el rendimiento de los modelos con métricas.\n",
        "- Interpretar los resultados, incluyendo la importancia de las variables.\n",
        "- Crear una conclusión estratégica señalando los principales factores que influyen en la cancelación."
      ],
      "metadata": {
        "id": "_G7GHT64haQd"
      },
      "id": "_G7GHT64haQd"
    },
    {
      "cell_type": "markdown",
      "source": [
        "🧰 **Lo que vas a practicar**\n",
        "\n",
        "✅ Preprocesamiento de datos para Machine Learning\n",
        "✅ Construcción y evaluación de modelos predictivos\n",
        "✅ Interpretación de resultados y entrega de insights\n",
        "✅ Comunicación técnica con enfoque estratégico"
      ],
      "metadata": {
        "id": "tiGqICVHiFgE"
      },
      "id": "tiGqICVHiFgE"
    },
    {
      "cell_type": "markdown",
      "source": [
        "🚀 **Ahora eres: Analista Junior de Machine Learning**\n",
        "\n",
        "Telecom X confía en tu entrega para dar los próximos pasos hacia una solución de inteligencia predictiva eficaz. ¡Buena suerte!"
      ],
      "metadata": {
        "id": "Y4kBJpwWMv-5"
      },
      "id": "Y4kBJpwWMv-5"
    },
    {
      "cell_type": "markdown",
      "id": "cc7a378c",
      "metadata": {
        "id": "cc7a378c"
      },
      "source": [
        "## 🛠️ Preparación de los Datos\n",
        "\n"
      ]
    },
    {
      "cell_type": "markdown",
      "source": [
        "### Importacion de Bibliotecas"
      ],
      "metadata": {
        "id": "txHIr9bLs0NU"
      },
      "id": "txHIr9bLs0NU"
    },
    {
      "cell_type": "code",
      "source": [
        "# Importación de librerías esenciales\n",
        "import pandas as pd # Manipulación de datos\n",
        "import numpy as np # Manipulación de datos\n",
        "\n",
        "import matplotlib.pyplot as plt # Visualización de Datos\n",
        "import seaborn as sns # Visualización de Datos\n",
        "\n",
        "# Para preprocesamiento y modelado\n",
        "from sklearn.model_selection import train_test_split\n",
        "from sklearn.preprocessing import OneHotEncoder, StandardScaler\n",
        "from sklearn.compose import ColumnTransformer, make_column_transformer\n",
        "from sklearn.metrics import (\n",
        "    accuracy_score, precision_score, recall_score, f1_score,\n",
        "    confusion_matrix, ConfusionMatrixDisplay\n",
        ")\n",
        "\n",
        "# Modelos que se utilizarán más adelante\n",
        "from sklearn.linear_model import LogisticRegression\n",
        "from sklearn.ensemble import RandomForestClassifier\n",
        "from sklearn.metrics import classification_report, roc_auc_score\n",
        "from imblearn.over_sampling import SMOTE\n",
        "\n",
        "# Advertencias (para limpiar outputs si es necesario)\n",
        "import warnings\n",
        "warnings.filterwarnings(\"ignore\")"
      ],
      "metadata": {
        "id": "ELUce6Vnlrwt"
      },
      "id": "ELUce6Vnlrwt",
      "execution_count": 61,
      "outputs": []
    },
    {
      "cell_type": "markdown",
      "source": [
        "### Extracción del Archivo Tratado"
      ],
      "metadata": {
        "id": "KxH6-OAgJsEh"
      },
      "id": "KxH6-OAgJsEh"
    },
    {
      "cell_type": "markdown",
      "source": [
        "Carga el archivo CSV que contiene los datos tratados anteriormente.<br>\n",
        "\n",
        "*   📂 Atención: Utiliza el mismo archivo que limpiaste y organizaste en la Parte 1 del desafío Telecom X. Debe contener solo las columnas relevantes, ya con los datos corregidos y estandarizados."
      ],
      "metadata": {
        "id": "_iQq51w9KFjI"
      },
      "id": "_iQq51w9KFjI"
    },
    {
      "cell_type": "markdown",
      "source": [
        "#### 🧾 Carga y exploración del dataset"
      ],
      "metadata": {
        "id": "qHBJN_EXmDtd"
      },
      "id": "qHBJN_EXmDtd"
    },
    {
      "cell_type": "markdown",
      "source": [
        "Comenzamos cargando la base de datos ya tratada. Se trata de un dataset de clientes de una empresa de telecomunicaciones. El objetivo será predecir si un cliente abandonará el servicio (`abandono_cliente`) en base a sus características.\n",
        "\n",
        "A continuación se realiza una primera inspección.\n"
      ],
      "metadata": {
        "id": "760UgWmDnEJV"
      },
      "id": "760UgWmDnEJV"
    },
    {
      "cell_type": "code",
      "source": [
        "Datos = '/content/TelecomX_Data_Base.csv'"
      ],
      "metadata": {
        "id": "FCy_p075ZOgZ"
      },
      "id": "FCy_p075ZOgZ",
      "execution_count": 62,
      "outputs": []
    },
    {
      "cell_type": "code",
      "source": [
        "# Cargamos el archivo CSV procesado\n",
        "Df_base = pd.read_csv('/content/TelecomX_Data_Base.csv', sep=';')"
      ],
      "metadata": {
        "id": "0vtbgK9WWi5u"
      },
      "id": "0vtbgK9WWi5u",
      "execution_count": 63,
      "outputs": []
    },
    {
      "cell_type": "code",
      "source": [
        "# Visualizamos las primera fila\n",
        "Df_base.head(1)"
      ],
      "metadata": {
        "id": "szl-vF5DcHia",
        "outputId": "30624c4b-b742-4c99-a07b-808fc205b12c",
        "colab": {
          "base_uri": "https://localhost:8080/",
          "height": 147
        }
      },
      "id": "szl-vF5DcHia",
      "execution_count": 64,
      "outputs": [
        {
          "output_type": "execute_result",
          "data": {
            "text/plain": [
              "   id_cliente abandono_cliente    genero  jubilado pareja dependientes  \\\n",
              "0  0002-ORFBO               No  Femenino     False     Si           Si   \n",
              "\n",
              "   meses_antiguedad servicio_telefono ad.multiples_lineas servicio_internet  \\\n",
              "0                 9                Si                  No               DSL   \n",
              "\n",
              "   ... ad.proteccion_dispositivo ad.soporte_tecnico tv.streaming  \\\n",
              "0  ...                        No                 Si           Si   \n",
              "\n",
              "  peliculas.streaming contrato factura_digital        metodo_pago  \\\n",
              "0                  No   Un año              Si  Cheque por correo   \n",
              "\n",
              "  cargo.diario cargo.mensual  cargo.total  \n",
              "0         2.16          65.6        593.3  \n",
              "\n",
              "[1 rows x 22 columns]"
            ],
            "text/html": [
              "\n",
              "  <div id=\"df-45a047f5-c42f-4707-8658-60d3f0609624\" class=\"colab-df-container\">\n",
              "    <div>\n",
              "<style scoped>\n",
              "    .dataframe tbody tr th:only-of-type {\n",
              "        vertical-align: middle;\n",
              "    }\n",
              "\n",
              "    .dataframe tbody tr th {\n",
              "        vertical-align: top;\n",
              "    }\n",
              "\n",
              "    .dataframe thead th {\n",
              "        text-align: right;\n",
              "    }\n",
              "</style>\n",
              "<table border=\"1\" class=\"dataframe\">\n",
              "  <thead>\n",
              "    <tr style=\"text-align: right;\">\n",
              "      <th></th>\n",
              "      <th>id_cliente</th>\n",
              "      <th>abandono_cliente</th>\n",
              "      <th>genero</th>\n",
              "      <th>jubilado</th>\n",
              "      <th>pareja</th>\n",
              "      <th>dependientes</th>\n",
              "      <th>meses_antiguedad</th>\n",
              "      <th>servicio_telefono</th>\n",
              "      <th>ad.multiples_lineas</th>\n",
              "      <th>servicio_internet</th>\n",
              "      <th>...</th>\n",
              "      <th>ad.proteccion_dispositivo</th>\n",
              "      <th>ad.soporte_tecnico</th>\n",
              "      <th>tv.streaming</th>\n",
              "      <th>peliculas.streaming</th>\n",
              "      <th>contrato</th>\n",
              "      <th>factura_digital</th>\n",
              "      <th>metodo_pago</th>\n",
              "      <th>cargo.diario</th>\n",
              "      <th>cargo.mensual</th>\n",
              "      <th>cargo.total</th>\n",
              "    </tr>\n",
              "  </thead>\n",
              "  <tbody>\n",
              "    <tr>\n",
              "      <th>0</th>\n",
              "      <td>0002-ORFBO</td>\n",
              "      <td>No</td>\n",
              "      <td>Femenino</td>\n",
              "      <td>False</td>\n",
              "      <td>Si</td>\n",
              "      <td>Si</td>\n",
              "      <td>9</td>\n",
              "      <td>Si</td>\n",
              "      <td>No</td>\n",
              "      <td>DSL</td>\n",
              "      <td>...</td>\n",
              "      <td>No</td>\n",
              "      <td>Si</td>\n",
              "      <td>Si</td>\n",
              "      <td>No</td>\n",
              "      <td>Un año</td>\n",
              "      <td>Si</td>\n",
              "      <td>Cheque por correo</td>\n",
              "      <td>2.16</td>\n",
              "      <td>65.6</td>\n",
              "      <td>593.3</td>\n",
              "    </tr>\n",
              "  </tbody>\n",
              "</table>\n",
              "<p>1 rows × 22 columns</p>\n",
              "</div>\n",
              "    <div class=\"colab-df-buttons\">\n",
              "\n",
              "  <div class=\"colab-df-container\">\n",
              "    <button class=\"colab-df-convert\" onclick=\"convertToInteractive('df-45a047f5-c42f-4707-8658-60d3f0609624')\"\n",
              "            title=\"Convert this dataframe to an interactive table.\"\n",
              "            style=\"display:none;\">\n",
              "\n",
              "  <svg xmlns=\"http://www.w3.org/2000/svg\" height=\"24px\" viewBox=\"0 -960 960 960\">\n",
              "    <path d=\"M120-120v-720h720v720H120Zm60-500h600v-160H180v160Zm220 220h160v-160H400v160Zm0 220h160v-160H400v160ZM180-400h160v-160H180v160Zm440 0h160v-160H620v160ZM180-180h160v-160H180v160Zm440 0h160v-160H620v160Z\"/>\n",
              "  </svg>\n",
              "    </button>\n",
              "\n",
              "  <style>\n",
              "    .colab-df-container {\n",
              "      display:flex;\n",
              "      gap: 12px;\n",
              "    }\n",
              "\n",
              "    .colab-df-convert {\n",
              "      background-color: #E8F0FE;\n",
              "      border: none;\n",
              "      border-radius: 50%;\n",
              "      cursor: pointer;\n",
              "      display: none;\n",
              "      fill: #1967D2;\n",
              "      height: 32px;\n",
              "      padding: 0 0 0 0;\n",
              "      width: 32px;\n",
              "    }\n",
              "\n",
              "    .colab-df-convert:hover {\n",
              "      background-color: #E2EBFA;\n",
              "      box-shadow: 0px 1px 2px rgba(60, 64, 67, 0.3), 0px 1px 3px 1px rgba(60, 64, 67, 0.15);\n",
              "      fill: #174EA6;\n",
              "    }\n",
              "\n",
              "    .colab-df-buttons div {\n",
              "      margin-bottom: 4px;\n",
              "    }\n",
              "\n",
              "    [theme=dark] .colab-df-convert {\n",
              "      background-color: #3B4455;\n",
              "      fill: #D2E3FC;\n",
              "    }\n",
              "\n",
              "    [theme=dark] .colab-df-convert:hover {\n",
              "      background-color: #434B5C;\n",
              "      box-shadow: 0px 1px 3px 1px rgba(0, 0, 0, 0.15);\n",
              "      filter: drop-shadow(0px 1px 2px rgba(0, 0, 0, 0.3));\n",
              "      fill: #FFFFFF;\n",
              "    }\n",
              "  </style>\n",
              "\n",
              "    <script>\n",
              "      const buttonEl =\n",
              "        document.querySelector('#df-45a047f5-c42f-4707-8658-60d3f0609624 button.colab-df-convert');\n",
              "      buttonEl.style.display =\n",
              "        google.colab.kernel.accessAllowed ? 'block' : 'none';\n",
              "\n",
              "      async function convertToInteractive(key) {\n",
              "        const element = document.querySelector('#df-45a047f5-c42f-4707-8658-60d3f0609624');\n",
              "        const dataTable =\n",
              "          await google.colab.kernel.invokeFunction('convertToInteractive',\n",
              "                                                    [key], {});\n",
              "        if (!dataTable) return;\n",
              "\n",
              "        const docLinkHtml = 'Like what you see? Visit the ' +\n",
              "          '<a target=\"_blank\" href=https://colab.research.google.com/notebooks/data_table.ipynb>data table notebook</a>'\n",
              "          + ' to learn more about interactive tables.';\n",
              "        element.innerHTML = '';\n",
              "        dataTable['output_type'] = 'display_data';\n",
              "        await google.colab.output.renderOutput(dataTable, element);\n",
              "        const docLink = document.createElement('div');\n",
              "        docLink.innerHTML = docLinkHtml;\n",
              "        element.appendChild(docLink);\n",
              "      }\n",
              "    </script>\n",
              "  </div>\n",
              "\n",
              "\n",
              "    </div>\n",
              "  </div>\n"
            ],
            "application/vnd.google.colaboratory.intrinsic+json": {
              "type": "dataframe",
              "variable_name": "Df_base"
            }
          },
          "metadata": {},
          "execution_count": 64
        }
      ]
    },
    {
      "cell_type": "markdown",
      "source": [
        "#### Inspección estructural"
      ],
      "metadata": {
        "id": "MhYeCvwRmJ7n"
      },
      "id": "MhYeCvwRmJ7n"
    },
    {
      "cell_type": "code",
      "source": [
        "# Exploramos descripción estadística de variables numéricas\n",
        "Df_base.describe()"
      ],
      "metadata": {
        "colab": {
          "base_uri": "https://localhost:8080/",
          "height": 300
        },
        "id": "48vFa1wgnztC",
        "outputId": "3d1ee21b-ae6a-42e2-86d4-29254eb0527a"
      },
      "id": "48vFa1wgnztC",
      "execution_count": 65,
      "outputs": [
        {
          "output_type": "execute_result",
          "data": {
            "text/plain": [
              "       meses_antiguedad  cargo.diario  cargo.mensual  cargo.total\n",
              "count       7267.000000   7267.000000    7267.000000  7267.000000\n",
              "mean          32.346498      2.127771      64.720098  2277.182035\n",
              "std           24.571773      0.990534      30.129572  2268.648587\n",
              "min            0.000000      0.600000      18.250000     0.000000\n",
              "25%            9.000000      1.165000      35.425000   396.200000\n",
              "50%           29.000000      2.310000      70.300000  1389.200000\n",
              "75%           55.000000      2.955000      89.875000  3778.525000\n",
              "max           72.000000      3.900000     118.750000  8684.800000"
            ],
            "text/html": [
              "\n",
              "  <div id=\"df-b11014d7-448f-4d0e-b12f-f3a9b32f7ea8\" class=\"colab-df-container\">\n",
              "    <div>\n",
              "<style scoped>\n",
              "    .dataframe tbody tr th:only-of-type {\n",
              "        vertical-align: middle;\n",
              "    }\n",
              "\n",
              "    .dataframe tbody tr th {\n",
              "        vertical-align: top;\n",
              "    }\n",
              "\n",
              "    .dataframe thead th {\n",
              "        text-align: right;\n",
              "    }\n",
              "</style>\n",
              "<table border=\"1\" class=\"dataframe\">\n",
              "  <thead>\n",
              "    <tr style=\"text-align: right;\">\n",
              "      <th></th>\n",
              "      <th>meses_antiguedad</th>\n",
              "      <th>cargo.diario</th>\n",
              "      <th>cargo.mensual</th>\n",
              "      <th>cargo.total</th>\n",
              "    </tr>\n",
              "  </thead>\n",
              "  <tbody>\n",
              "    <tr>\n",
              "      <th>count</th>\n",
              "      <td>7267.000000</td>\n",
              "      <td>7267.000000</td>\n",
              "      <td>7267.000000</td>\n",
              "      <td>7267.000000</td>\n",
              "    </tr>\n",
              "    <tr>\n",
              "      <th>mean</th>\n",
              "      <td>32.346498</td>\n",
              "      <td>2.127771</td>\n",
              "      <td>64.720098</td>\n",
              "      <td>2277.182035</td>\n",
              "    </tr>\n",
              "    <tr>\n",
              "      <th>std</th>\n",
              "      <td>24.571773</td>\n",
              "      <td>0.990534</td>\n",
              "      <td>30.129572</td>\n",
              "      <td>2268.648587</td>\n",
              "    </tr>\n",
              "    <tr>\n",
              "      <th>min</th>\n",
              "      <td>0.000000</td>\n",
              "      <td>0.600000</td>\n",
              "      <td>18.250000</td>\n",
              "      <td>0.000000</td>\n",
              "    </tr>\n",
              "    <tr>\n",
              "      <th>25%</th>\n",
              "      <td>9.000000</td>\n",
              "      <td>1.165000</td>\n",
              "      <td>35.425000</td>\n",
              "      <td>396.200000</td>\n",
              "    </tr>\n",
              "    <tr>\n",
              "      <th>50%</th>\n",
              "      <td>29.000000</td>\n",
              "      <td>2.310000</td>\n",
              "      <td>70.300000</td>\n",
              "      <td>1389.200000</td>\n",
              "    </tr>\n",
              "    <tr>\n",
              "      <th>75%</th>\n",
              "      <td>55.000000</td>\n",
              "      <td>2.955000</td>\n",
              "      <td>89.875000</td>\n",
              "      <td>3778.525000</td>\n",
              "    </tr>\n",
              "    <tr>\n",
              "      <th>max</th>\n",
              "      <td>72.000000</td>\n",
              "      <td>3.900000</td>\n",
              "      <td>118.750000</td>\n",
              "      <td>8684.800000</td>\n",
              "    </tr>\n",
              "  </tbody>\n",
              "</table>\n",
              "</div>\n",
              "    <div class=\"colab-df-buttons\">\n",
              "\n",
              "  <div class=\"colab-df-container\">\n",
              "    <button class=\"colab-df-convert\" onclick=\"convertToInteractive('df-b11014d7-448f-4d0e-b12f-f3a9b32f7ea8')\"\n",
              "            title=\"Convert this dataframe to an interactive table.\"\n",
              "            style=\"display:none;\">\n",
              "\n",
              "  <svg xmlns=\"http://www.w3.org/2000/svg\" height=\"24px\" viewBox=\"0 -960 960 960\">\n",
              "    <path d=\"M120-120v-720h720v720H120Zm60-500h600v-160H180v160Zm220 220h160v-160H400v160Zm0 220h160v-160H400v160ZM180-400h160v-160H180v160Zm440 0h160v-160H620v160ZM180-180h160v-160H180v160Zm440 0h160v-160H620v160Z\"/>\n",
              "  </svg>\n",
              "    </button>\n",
              "\n",
              "  <style>\n",
              "    .colab-df-container {\n",
              "      display:flex;\n",
              "      gap: 12px;\n",
              "    }\n",
              "\n",
              "    .colab-df-convert {\n",
              "      background-color: #E8F0FE;\n",
              "      border: none;\n",
              "      border-radius: 50%;\n",
              "      cursor: pointer;\n",
              "      display: none;\n",
              "      fill: #1967D2;\n",
              "      height: 32px;\n",
              "      padding: 0 0 0 0;\n",
              "      width: 32px;\n",
              "    }\n",
              "\n",
              "    .colab-df-convert:hover {\n",
              "      background-color: #E2EBFA;\n",
              "      box-shadow: 0px 1px 2px rgba(60, 64, 67, 0.3), 0px 1px 3px 1px rgba(60, 64, 67, 0.15);\n",
              "      fill: #174EA6;\n",
              "    }\n",
              "\n",
              "    .colab-df-buttons div {\n",
              "      margin-bottom: 4px;\n",
              "    }\n",
              "\n",
              "    [theme=dark] .colab-df-convert {\n",
              "      background-color: #3B4455;\n",
              "      fill: #D2E3FC;\n",
              "    }\n",
              "\n",
              "    [theme=dark] .colab-df-convert:hover {\n",
              "      background-color: #434B5C;\n",
              "      box-shadow: 0px 1px 3px 1px rgba(0, 0, 0, 0.15);\n",
              "      filter: drop-shadow(0px 1px 2px rgba(0, 0, 0, 0.3));\n",
              "      fill: #FFFFFF;\n",
              "    }\n",
              "  </style>\n",
              "\n",
              "    <script>\n",
              "      const buttonEl =\n",
              "        document.querySelector('#df-b11014d7-448f-4d0e-b12f-f3a9b32f7ea8 button.colab-df-convert');\n",
              "      buttonEl.style.display =\n",
              "        google.colab.kernel.accessAllowed ? 'block' : 'none';\n",
              "\n",
              "      async function convertToInteractive(key) {\n",
              "        const element = document.querySelector('#df-b11014d7-448f-4d0e-b12f-f3a9b32f7ea8');\n",
              "        const dataTable =\n",
              "          await google.colab.kernel.invokeFunction('convertToInteractive',\n",
              "                                                    [key], {});\n",
              "        if (!dataTable) return;\n",
              "\n",
              "        const docLinkHtml = 'Like what you see? Visit the ' +\n",
              "          '<a target=\"_blank\" href=https://colab.research.google.com/notebooks/data_table.ipynb>data table notebook</a>'\n",
              "          + ' to learn more about interactive tables.';\n",
              "        element.innerHTML = '';\n",
              "        dataTable['output_type'] = 'display_data';\n",
              "        await google.colab.output.renderOutput(dataTable, element);\n",
              "        const docLink = document.createElement('div');\n",
              "        docLink.innerHTML = docLinkHtml;\n",
              "        element.appendChild(docLink);\n",
              "      }\n",
              "    </script>\n",
              "  </div>\n",
              "\n",
              "\n",
              "    <div id=\"df-3c61665d-0d2f-4e37-a2cb-264944ee664d\">\n",
              "      <button class=\"colab-df-quickchart\" onclick=\"quickchart('df-3c61665d-0d2f-4e37-a2cb-264944ee664d')\"\n",
              "                title=\"Suggest charts\"\n",
              "                style=\"display:none;\">\n",
              "\n",
              "<svg xmlns=\"http://www.w3.org/2000/svg\" height=\"24px\"viewBox=\"0 0 24 24\"\n",
              "     width=\"24px\">\n",
              "    <g>\n",
              "        <path d=\"M19 3H5c-1.1 0-2 .9-2 2v14c0 1.1.9 2 2 2h14c1.1 0 2-.9 2-2V5c0-1.1-.9-2-2-2zM9 17H7v-7h2v7zm4 0h-2V7h2v10zm4 0h-2v-4h2v4z\"/>\n",
              "    </g>\n",
              "</svg>\n",
              "      </button>\n",
              "\n",
              "<style>\n",
              "  .colab-df-quickchart {\n",
              "      --bg-color: #E8F0FE;\n",
              "      --fill-color: #1967D2;\n",
              "      --hover-bg-color: #E2EBFA;\n",
              "      --hover-fill-color: #174EA6;\n",
              "      --disabled-fill-color: #AAA;\n",
              "      --disabled-bg-color: #DDD;\n",
              "  }\n",
              "\n",
              "  [theme=dark] .colab-df-quickchart {\n",
              "      --bg-color: #3B4455;\n",
              "      --fill-color: #D2E3FC;\n",
              "      --hover-bg-color: #434B5C;\n",
              "      --hover-fill-color: #FFFFFF;\n",
              "      --disabled-bg-color: #3B4455;\n",
              "      --disabled-fill-color: #666;\n",
              "  }\n",
              "\n",
              "  .colab-df-quickchart {\n",
              "    background-color: var(--bg-color);\n",
              "    border: none;\n",
              "    border-radius: 50%;\n",
              "    cursor: pointer;\n",
              "    display: none;\n",
              "    fill: var(--fill-color);\n",
              "    height: 32px;\n",
              "    padding: 0;\n",
              "    width: 32px;\n",
              "  }\n",
              "\n",
              "  .colab-df-quickchart:hover {\n",
              "    background-color: var(--hover-bg-color);\n",
              "    box-shadow: 0 1px 2px rgba(60, 64, 67, 0.3), 0 1px 3px 1px rgba(60, 64, 67, 0.15);\n",
              "    fill: var(--button-hover-fill-color);\n",
              "  }\n",
              "\n",
              "  .colab-df-quickchart-complete:disabled,\n",
              "  .colab-df-quickchart-complete:disabled:hover {\n",
              "    background-color: var(--disabled-bg-color);\n",
              "    fill: var(--disabled-fill-color);\n",
              "    box-shadow: none;\n",
              "  }\n",
              "\n",
              "  .colab-df-spinner {\n",
              "    border: 2px solid var(--fill-color);\n",
              "    border-color: transparent;\n",
              "    border-bottom-color: var(--fill-color);\n",
              "    animation:\n",
              "      spin 1s steps(1) infinite;\n",
              "  }\n",
              "\n",
              "  @keyframes spin {\n",
              "    0% {\n",
              "      border-color: transparent;\n",
              "      border-bottom-color: var(--fill-color);\n",
              "      border-left-color: var(--fill-color);\n",
              "    }\n",
              "    20% {\n",
              "      border-color: transparent;\n",
              "      border-left-color: var(--fill-color);\n",
              "      border-top-color: var(--fill-color);\n",
              "    }\n",
              "    30% {\n",
              "      border-color: transparent;\n",
              "      border-left-color: var(--fill-color);\n",
              "      border-top-color: var(--fill-color);\n",
              "      border-right-color: var(--fill-color);\n",
              "    }\n",
              "    40% {\n",
              "      border-color: transparent;\n",
              "      border-right-color: var(--fill-color);\n",
              "      border-top-color: var(--fill-color);\n",
              "    }\n",
              "    60% {\n",
              "      border-color: transparent;\n",
              "      border-right-color: var(--fill-color);\n",
              "    }\n",
              "    80% {\n",
              "      border-color: transparent;\n",
              "      border-right-color: var(--fill-color);\n",
              "      border-bottom-color: var(--fill-color);\n",
              "    }\n",
              "    90% {\n",
              "      border-color: transparent;\n",
              "      border-bottom-color: var(--fill-color);\n",
              "    }\n",
              "  }\n",
              "</style>\n",
              "\n",
              "      <script>\n",
              "        async function quickchart(key) {\n",
              "          const quickchartButtonEl =\n",
              "            document.querySelector('#' + key + ' button');\n",
              "          quickchartButtonEl.disabled = true;  // To prevent multiple clicks.\n",
              "          quickchartButtonEl.classList.add('colab-df-spinner');\n",
              "          try {\n",
              "            const charts = await google.colab.kernel.invokeFunction(\n",
              "                'suggestCharts', [key], {});\n",
              "          } catch (error) {\n",
              "            console.error('Error during call to suggestCharts:', error);\n",
              "          }\n",
              "          quickchartButtonEl.classList.remove('colab-df-spinner');\n",
              "          quickchartButtonEl.classList.add('colab-df-quickchart-complete');\n",
              "        }\n",
              "        (() => {\n",
              "          let quickchartButtonEl =\n",
              "            document.querySelector('#df-3c61665d-0d2f-4e37-a2cb-264944ee664d button');\n",
              "          quickchartButtonEl.style.display =\n",
              "            google.colab.kernel.accessAllowed ? 'block' : 'none';\n",
              "        })();\n",
              "      </script>\n",
              "    </div>\n",
              "\n",
              "    </div>\n",
              "  </div>\n"
            ],
            "application/vnd.google.colaboratory.intrinsic+json": {
              "type": "dataframe",
              "summary": "{\n  \"name\": \"Df_base\",\n  \"rows\": 8,\n  \"fields\": [\n    {\n      \"column\": \"meses_antiguedad\",\n      \"properties\": {\n        \"dtype\": \"number\",\n        \"std\": 2558.1685122560853,\n        \"min\": 0.0,\n        \"max\": 7267.0,\n        \"num_unique_values\": 8,\n        \"samples\": [\n          32.34649786707032,\n          29.0,\n          7267.0\n        ],\n        \"semantic_type\": \"\",\n        \"description\": \"\"\n      }\n    },\n    {\n      \"column\": \"cargo.diario\",\n      \"properties\": {\n        \"dtype\": \"number\",\n        \"std\": 2568.563173987873,\n        \"min\": 0.6000000000000001,\n        \"max\": 7267.0,\n        \"num_unique_values\": 8,\n        \"samples\": [\n          2.1277707444612632,\n          2.31,\n          7267.0\n        ],\n        \"semantic_type\": \"\",\n        \"description\": \"\"\n      }\n    },\n    {\n      \"column\": \"cargo.mensual\",\n      \"properties\": {\n        \"dtype\": \"number\",\n        \"std\": 2547.8989994186936,\n        \"min\": 18.25,\n        \"max\": 7267.0,\n        \"num_unique_values\": 8,\n        \"samples\": [\n          64.72009770194028,\n          70.3,\n          7267.0\n        ],\n        \"semantic_type\": \"\",\n        \"description\": \"\"\n      }\n    },\n    {\n      \"column\": \"cargo.total\",\n      \"properties\": {\n        \"dtype\": \"number\",\n        \"std\": 3162.9751263174294,\n        \"min\": 0.0,\n        \"max\": 8684.8,\n        \"num_unique_values\": 8,\n        \"samples\": [\n          2277.182035227742,\n          1389.2,\n          7267.0\n        ],\n        \"semantic_type\": \"\",\n        \"description\": \"\"\n      }\n    }\n  ]\n}"
            }
          },
          "metadata": {},
          "execution_count": 65
        }
      ]
    },
    {
      "cell_type": "code",
      "source": [
        "# Exploración básica\n",
        "print(f\"Filas: {Df_base.shape[0]}, Columnas: {Df_base.shape[1]}\")\n",
        "print(\"\\nTipos de datos:\")\n",
        "print(Df_base.dtypes.value_counts())\n",
        "print(\"\\nValores faltantes:\")\n",
        "print(Df_base.isnull().sum())"
      ],
      "metadata": {
        "id": "YuWd1Uv1yZnJ",
        "outputId": "7403f7f4-0df5-45d0-effe-ed9a4ba2f2d3",
        "colab": {
          "base_uri": "https://localhost:8080/"
        }
      },
      "id": "YuWd1Uv1yZnJ",
      "execution_count": 66,
      "outputs": [
        {
          "output_type": "stream",
          "name": "stdout",
          "text": [
            "Filas: 7267, Columnas: 22\n",
            "\n",
            "Tipos de datos:\n",
            "object     17\n",
            "float64     3\n",
            "bool        1\n",
            "int64       1\n",
            "Name: count, dtype: int64\n",
            "\n",
            "Valores faltantes:\n",
            "id_cliente                   0\n",
            "abandono_cliente             0\n",
            "genero                       0\n",
            "jubilado                     0\n",
            "pareja                       0\n",
            "dependientes                 0\n",
            "meses_antiguedad             0\n",
            "servicio_telefono            0\n",
            "ad.multiples_lineas          0\n",
            "servicio_internet            0\n",
            "ad.seguridad_online          0\n",
            "ad.respaldo_online           0\n",
            "ad.proteccion_dispositivo    0\n",
            "ad.soporte_tecnico           0\n",
            "tv.streaming                 0\n",
            "peliculas.streaming          0\n",
            "contrato                     0\n",
            "factura_digital              0\n",
            "metodo_pago                  0\n",
            "cargo.diario                 0\n",
            "cargo.mensual                0\n",
            "cargo.total                  0\n",
            "dtype: int64\n"
          ]
        }
      ]
    },
    {
      "cell_type": "markdown",
      "source": [
        "Análisis Univariado (EDA)"
      ],
      "metadata": {
        "id": "mD2zaV0z0yeN"
      },
      "id": "mD2zaV0z0yeN"
    },
    {
      "cell_type": "code",
      "source": [
        "# Distribución de target\n",
        "sns.countplot(x='abandono_cliente', data=Df_base)\n",
        "plt.title('Distribución de Abandono');\n",
        "\n",
        "# Análisis numéricas\n",
        "num_cols = ['meses_antiguedad', 'cargo.mensual']\n",
        "Df_base[num_cols].hist(figsize=(10, 4));\n",
        "\n",
        "# Análisis categóricas\n",
        "cat_cols = ['genero', 'servicio_internet', 'contrato']\n",
        "for col in cat_cols:\n",
        "    plt.figure(figsize=(10, 4))\n",
        "    sns.countplot(x=col, hue='abandono_cliente', data=Df_base)"
      ],
      "metadata": {
        "id": "ChiE9wk30fIu",
        "outputId": "a6adf4f1-15ea-4f31-ca2a-fe437c60c844",
        "colab": {
          "base_uri": "https://localhost:8080/",
          "height": 1000
        }
      },
      "id": "ChiE9wk30fIu",
      "execution_count": 67,
      "outputs": [
        {
          "output_type": "display_data",
          "data": {
            "text/plain": [
              "<Figure size 640x480 with 1 Axes>"
            ],
            "image/png": "[encoded data removed]"
          },
          "metadata": {}
        },
        {
          "output_type": "display_data",
          "data": {
            "text/plain": [
              "<Figure size 1000x400 with 2 Axes>"
            ],
            "image/png": "[encoded data removed]"
          },
          "metadata": {}
        },
        {
          "output_type": "display_data",
          "data": {
            "text/plain": [
              "<Figure size 1000x400 with 1 Axes>"
            ],
            "image/png": "[encoded data removed]"
          },
          "metadata": {}
        },
        {
          "output_type": "display_data",
          "data": {
            "text/plain": [
              "<Figure size 1000x400 with 1 Axes>"
            ],
            "image/png": "[encoded data removed]"
          },
          "metadata": {}
        },
        {
          "output_type": "display_data",
          "data": {
            "text/plain": [
              "<Figure size 1000x400 with 1 Axes>"
            ],
            "image/png": "[encoded data removed]"
          },
          "metadata": {}
        }
      ]
    },
    {
      "cell_type": "markdown",
      "source": [
        "### Eliminación de Columnas Irrelevantes"
      ],
      "metadata": {
        "id": "X_YUXHbBJ41p"
      },
      "id": "X_YUXHbBJ41p"
    },
    {
      "cell_type": "markdown",
      "source": [
        "Elimina columnas que **no aportan valor al análisis** o a **los modelos predictivos**, como identificadores únicos (por ejemplo, el ID del cliente). Estas columnas no ayudan en la predicción de la cancelación y pueden incluso perjudicar el desempeño de los modelos."
      ],
      "metadata": {
        "id": "BPBd-Ac3McVC"
      },
      "id": "BPBd-Ac3McVC"
    },
    {
      "cell_type": "code",
      "source": [
        "Df_base.drop(columns=['id_cliente', 'cargo.diario'],inplace=True)"
      ],
      "metadata": {
        "id": "CY-KLz-MlpNG"
      },
      "id": "CY-KLz-MlpNG",
      "execution_count": 68,
      "outputs": []
    },
    {
      "cell_type": "markdown",
      "source": [
        "**Eliminar columnas redundantes o problemáticas**\n",
        "\n",
        "*   `id_cliente`: Identificador único sin valor predictivo.\n",
        "*   `cargo.diario`: **Redundante**. Se calcula como cargo.mensual / 30 (aproximado). No añade información única.\n",
        "\n"
      ],
      "metadata": {
        "id": "vMJz9rMYqKgG"
      },
      "id": "vMJz9rMYqKgG"
    },
    {
      "cell_type": "code",
      "source": [
        "# Conversión de target\n",
        "Df_base['abandono_cliente'] = Df_base['abandono_cliente'].map({'Si': 1, 'No': 0})"
      ],
      "metadata": {
        "id": "kmRLs2ID8qEq"
      },
      "id": "kmRLs2ID8qEq",
      "execution_count": 69,
      "outputs": []
    },
    {
      "cell_type": "markdown",
      "source": [
        "`abandono_cliente`:\n",
        "\n",
        "*   Si: `1`\n",
        "*   No: `0`\n",
        "\n",
        "\n"
      ],
      "metadata": {
        "id": "LRJJ1x8Y_44U"
      },
      "id": "LRJJ1x8Y_44U"
    },
    {
      "cell_type": "code",
      "source": [
        "Df_base.head(1)"
      ],
      "metadata": {
        "id": "MLt5U0q2ly6d",
        "outputId": "3acd53fe-69a3-4921-f992-0b796459b83b",
        "colab": {
          "base_uri": "https://localhost:8080/",
          "height": 118
        }
      },
      "id": "MLt5U0q2ly6d",
      "execution_count": 70,
      "outputs": [
        {
          "output_type": "execute_result",
          "data": {
            "text/plain": [
              "   abandono_cliente    genero  jubilado pareja dependientes  meses_antiguedad  \\\n",
              "0                 0  Femenino     False     Si           Si                 9   \n",
              "\n",
              "  servicio_telefono ad.multiples_lineas servicio_internet ad.seguridad_online  \\\n",
              "0                Si                  No               DSL                  No   \n",
              "\n",
              "  ad.respaldo_online ad.proteccion_dispositivo ad.soporte_tecnico  \\\n",
              "0                 Si                        No                 Si   \n",
              "\n",
              "  tv.streaming peliculas.streaming contrato factura_digital  \\\n",
              "0           Si                  No   Un año              Si   \n",
              "\n",
              "         metodo_pago  cargo.mensual  cargo.total  \n",
              "0  Cheque por correo           65.6        593.3  "
            ],
            "text/html": [
              "\n",
              "  <div id=\"df-a62aad10-1c97-45cc-970c-bb314fb39d33\" class=\"colab-df-container\">\n",
              "    <div>\n",
              "<style scoped>\n",
              "    .dataframe tbody tr th:only-of-type {\n",
              "        vertical-align: middle;\n",
              "    }\n",
              "\n",
              "    .dataframe tbody tr th {\n",
              "        vertical-align: top;\n",
              "    }\n",
              "\n",
              "    .dataframe thead th {\n",
              "        text-align: right;\n",
              "    }\n",
              "</style>\n",
              "<table border=\"1\" class=\"dataframe\">\n",
              "  <thead>\n",
              "    <tr style=\"text-align: right;\">\n",
              "      <th></th>\n",
              "      <th>abandono_cliente</th>\n",
              "      <th>genero</th>\n",
              "      <th>jubilado</th>\n",
              "      <th>pareja</th>\n",
              "      <th>dependientes</th>\n",
              "      <th>meses_antiguedad</th>\n",
              "      <th>servicio_telefono</th>\n",
              "      <th>ad.multiples_lineas</th>\n",
              "      <th>servicio_internet</th>\n",
              "      <th>ad.seguridad_online</th>\n",
              "      <th>ad.respaldo_online</th>\n",
              "      <th>ad.proteccion_dispositivo</th>\n",
              "      <th>ad.soporte_tecnico</th>\n",
              "      <th>tv.streaming</th>\n",
              "      <th>peliculas.streaming</th>\n",
              "      <th>contrato</th>\n",
              "      <th>factura_digital</th>\n",
              "      <th>metodo_pago</th>\n",
              "      <th>cargo.mensual</th>\n",
              "      <th>cargo.total</th>\n",
              "    </tr>\n",
              "  </thead>\n",
              "  <tbody>\n",
              "    <tr>\n",
              "      <th>0</th>\n",
              "      <td>0</td>\n",
              "      <td>Femenino</td>\n",
              "      <td>False</td>\n",
              "      <td>Si</td>\n",
              "      <td>Si</td>\n",
              "      <td>9</td>\n",
              "      <td>Si</td>\n",
              "      <td>No</td>\n",
              "      <td>DSL</td>\n",
              "      <td>No</td>\n",
              "      <td>Si</td>\n",
              "      <td>No</td>\n",
              "      <td>Si</td>\n",
              "      <td>Si</td>\n",
              "      <td>No</td>\n",
              "      <td>Un año</td>\n",
              "      <td>Si</td>\n",
              "      <td>Cheque por correo</td>\n",
              "      <td>65.6</td>\n",
              "      <td>593.3</td>\n",
              "    </tr>\n",
              "  </tbody>\n",
              "</table>\n",
              "</div>\n",
              "    <div class=\"colab-df-buttons\">\n",
              "\n",
              "  <div class=\"colab-df-container\">\n",
              "    <button class=\"colab-df-convert\" onclick=\"convertToInteractive('df-a62aad10-1c97-45cc-970c-bb314fb39d33')\"\n",
              "            title=\"Convert this dataframe to an interactive table.\"\n",
              "            style=\"display:none;\">\n",
              "\n",
              "  <svg xmlns=\"http://www.w3.org/2000/svg\" height=\"24px\" viewBox=\"0 -960 960 960\">\n",
              "    <path d=\"M120-120v-720h720v720H120Zm60-500h600v-160H180v160Zm220 220h160v-160H400v160Zm0 220h160v-160H400v160ZM180-400h160v-160H180v160Zm440 0h160v-160H620v160ZM180-180h160v-160H180v160Zm440 0h160v-160H620v160Z\"/>\n",
              "  </svg>\n",
              "    </button>\n",
              "\n",
              "  <style>\n",
              "    .colab-df-container {\n",
              "      display:flex;\n",
              "      gap: 12px;\n",
              "    }\n",
              "\n",
              "    .colab-df-convert {\n",
              "      background-color: #E8F0FE;\n",
              "      border: none;\n",
              "      border-radius: 50%;\n",
              "      cursor: pointer;\n",
              "      display: none;\n",
              "      fill: #1967D2;\n",
              "      height: 32px;\n",
              "      padding: 0 0 0 0;\n",
              "      width: 32px;\n",
              "    }\n",
              "\n",
              "    .colab-df-convert:hover {\n",
              "      background-color: #E2EBFA;\n",
              "      box-shadow: 0px 1px 2px rgba(60, 64, 67, 0.3), 0px 1px 3px 1px rgba(60, 64, 67, 0.15);\n",
              "      fill: #174EA6;\n",
              "    }\n",
              "\n",
              "    .colab-df-buttons div {\n",
              "      margin-bottom: 4px;\n",
              "    }\n",
              "\n",
              "    [theme=dark] .colab-df-convert {\n",
              "      background-color: #3B4455;\n",
              "      fill: #D2E3FC;\n",
              "    }\n",
              "\n",
              "    [theme=dark] .colab-df-convert:hover {\n",
              "      background-color: #434B5C;\n",
              "      box-shadow: 0px 1px 3px 1px rgba(0, 0, 0, 0.15);\n",
              "      filter: drop-shadow(0px 1px 2px rgba(0, 0, 0, 0.3));\n",
              "      fill: #FFFFFF;\n",
              "    }\n",
              "  </style>\n",
              "\n",
              "    <script>\n",
              "      const buttonEl =\n",
              "        document.querySelector('#df-a62aad10-1c97-45cc-970c-bb314fb39d33 button.colab-df-convert');\n",
              "      buttonEl.style.display =\n",
              "        google.colab.kernel.accessAllowed ? 'block' : 'none';\n",
              "\n",
              "      async function convertToInteractive(key) {\n",
              "        const element = document.querySelector('#df-a62aad10-1c97-45cc-970c-bb314fb39d33');\n",
              "        const dataTable =\n",
              "          await google.colab.kernel.invokeFunction('convertToInteractive',\n",
              "                                                    [key], {});\n",
              "        if (!dataTable) return;\n",
              "\n",
              "        const docLinkHtml = 'Like what you see? Visit the ' +\n",
              "          '<a target=\"_blank\" href=https://colab.research.google.com/notebooks/data_table.ipynb>data table notebook</a>'\n",
              "          + ' to learn more about interactive tables.';\n",
              "        element.innerHTML = '';\n",
              "        dataTable['output_type'] = 'display_data';\n",
              "        await google.colab.output.renderOutput(dataTable, element);\n",
              "        const docLink = document.createElement('div');\n",
              "        docLink.innerHTML = docLinkHtml;\n",
              "        element.appendChild(docLink);\n",
              "      }\n",
              "    </script>\n",
              "  </div>\n",
              "\n",
              "\n",
              "    </div>\n",
              "  </div>\n"
            ],
            "application/vnd.google.colaboratory.intrinsic+json": {
              "type": "dataframe",
              "variable_name": "Df_base",
              "summary": "{\n  \"name\": \"Df_base\",\n  \"rows\": 7267,\n  \"fields\": [\n    {\n      \"column\": \"abandono_cliente\",\n      \"properties\": {\n        \"dtype\": \"number\",\n        \"std\": 0,\n        \"min\": 0,\n        \"max\": 1,\n        \"num_unique_values\": 2,\n        \"samples\": [\n          1,\n          0\n        ],\n        \"semantic_type\": \"\",\n        \"description\": \"\"\n      }\n    },\n    {\n      \"column\": \"genero\",\n      \"properties\": {\n        \"dtype\": \"category\",\n        \"num_unique_values\": 2,\n        \"samples\": [\n          \"Masculino\",\n          \"Femenino\"\n        ],\n        \"semantic_type\": \"\",\n        \"description\": \"\"\n      }\n    },\n    {\n      \"column\": \"jubilado\",\n      \"properties\": {\n        \"dtype\": \"boolean\",\n        \"num_unique_values\": 2,\n        \"samples\": [\n          true,\n          false\n        ],\n        \"semantic_type\": \"\",\n        \"description\": \"\"\n      }\n    },\n    {\n      \"column\": \"pareja\",\n      \"properties\": {\n        \"dtype\": \"category\",\n        \"num_unique_values\": 2,\n        \"samples\": [\n          \"No\",\n          \"Si\"\n        ],\n        \"semantic_type\": \"\",\n        \"description\": \"\"\n      }\n    },\n    {\n      \"column\": \"dependientes\",\n      \"properties\": {\n        \"dtype\": \"category\",\n        \"num_unique_values\": 2,\n        \"samples\": [\n          \"No\",\n          \"Si\"\n        ],\n        \"semantic_type\": \"\",\n        \"description\": \"\"\n      }\n    },\n    {\n      \"column\": \"meses_antiguedad\",\n      \"properties\": {\n        \"dtype\": \"number\",\n        \"std\": 24,\n        \"min\": 0,\n        \"max\": 72,\n        \"num_unique_values\": 73,\n        \"samples\": [\n          71,\n          53\n        ],\n        \"semantic_type\": \"\",\n        \"description\": \"\"\n      }\n    },\n    {\n      \"column\": \"servicio_telefono\",\n      \"properties\": {\n        \"dtype\": \"category\",\n        \"num_unique_values\": 2,\n        \"samples\": [\n          \"No\",\n          \"Si\"\n        ],\n        \"semantic_type\": \"\",\n        \"description\": \"\"\n      }\n    },\n    {\n      \"column\": \"ad.multiples_lineas\",\n      \"properties\": {\n        \"dtype\": \"category\",\n        \"num_unique_values\": 3,\n        \"samples\": [\n          \"No\",\n          \"Si\"\n        ],\n        \"semantic_type\": \"\",\n        \"description\": \"\"\n      }\n    },\n    {\n      \"column\": \"servicio_internet\",\n      \"properties\": {\n        \"dtype\": \"category\",\n        \"num_unique_values\": 3,\n        \"samples\": [\n          \"DSL\",\n          \"Fibra \\u00f3ptica\"\n        ],\n        \"semantic_type\": \"\",\n        \"description\": \"\"\n      }\n    },\n    {\n      \"column\": \"ad.seguridad_online\",\n      \"properties\": {\n        \"dtype\": \"category\",\n        \"num_unique_values\": 3,\n        \"samples\": [\n          \"No\",\n          \"Si\"\n        ],\n        \"semantic_type\": \"\",\n        \"description\": \"\"\n      }\n    },\n    {\n      \"column\": \"ad.respaldo_online\",\n      \"properties\": {\n        \"dtype\": \"category\",\n        \"num_unique_values\": 3,\n        \"samples\": [\n          \"Si\",\n          \"No\"\n        ],\n        \"semantic_type\": \"\",\n        \"description\": \"\"\n      }\n    },\n    {\n      \"column\": \"ad.proteccion_dispositivo\",\n      \"properties\": {\n        \"dtype\": \"category\",\n        \"num_unique_values\": 3,\n        \"samples\": [\n          \"No\",\n          \"Si\"\n        ],\n        \"semantic_type\": \"\",\n        \"description\": \"\"\n      }\n    },\n    {\n      \"column\": \"ad.soporte_tecnico\",\n      \"properties\": {\n        \"dtype\": \"category\",\n        \"num_unique_values\": 3,\n        \"samples\": [\n          \"Si\",\n          \"No\"\n        ],\n        \"semantic_type\": \"\",\n        \"description\": \"\"\n      }\n    },\n    {\n      \"column\": \"tv.streaming\",\n      \"properties\": {\n        \"dtype\": \"category\",\n        \"num_unique_values\": 3,\n        \"samples\": [\n          \"Si\",\n          \"No\"\n        ],\n        \"semantic_type\": \"\",\n        \"description\": \"\"\n      }\n    },\n    {\n      \"column\": \"peliculas.streaming\",\n      \"properties\": {\n        \"dtype\": \"category\",\n        \"num_unique_values\": 3,\n        \"samples\": [\n          \"No\",\n          \"Si\"\n        ],\n        \"semantic_type\": \"\",\n        \"description\": \"\"\n      }\n    },\n    {\n      \"column\": \"contrato\",\n      \"properties\": {\n        \"dtype\": \"category\",\n        \"num_unique_values\": 3,\n        \"samples\": [\n          \"Un a\\u00f1o\",\n          \"Mes a mes\"\n        ],\n        \"semantic_type\": \"\",\n        \"description\": \"\"\n      }\n    },\n    {\n      \"column\": \"factura_digital\",\n      \"properties\": {\n        \"dtype\": \"category\",\n        \"num_unique_values\": 2,\n        \"samples\": [\n          \"No\",\n          \"Si\"\n        ],\n        \"semantic_type\": \"\",\n        \"description\": \"\"\n      }\n    },\n    {\n      \"column\": \"metodo_pago\",\n      \"properties\": {\n        \"dtype\": \"category\",\n        \"num_unique_values\": 4,\n        \"samples\": [\n          \"Cheque electr\\u00f3nico\",\n          \"Transferencia bancaria (autom\\u00e1tica)\"\n        ],\n        \"semantic_type\": \"\",\n        \"description\": \"\"\n      }\n    },\n    {\n      \"column\": \"cargo.mensual\",\n      \"properties\": {\n        \"dtype\": \"number\",\n        \"std\": 30.12957188566699,\n        \"min\": 18.25,\n        \"max\": 118.75,\n        \"num_unique_values\": 1585,\n        \"samples\": [\n          100.85,\n          91.8\n        ],\n        \"semantic_type\": \"\",\n        \"description\": \"\"\n      }\n    },\n    {\n      \"column\": \"cargo.total\",\n      \"properties\": {\n        \"dtype\": \"number\",\n        \"std\": 2268.648586624864,\n        \"min\": 0.0,\n        \"max\": 8684.8,\n        \"num_unique_values\": 6531,\n        \"samples\": [\n          1994.3,\n          600.0\n        ],\n        \"semantic_type\": \"\",\n        \"description\": \"\"\n      }\n    }\n  ]\n}"
            }
          },
          "metadata": {},
          "execution_count": 70
        }
      ]
    },
    {
      "cell_type": "code",
      "source": [
        "Df_base.columns"
      ],
      "metadata": {
        "colab": {
          "base_uri": "https://localhost:8080/"
        },
        "id": "Br7d6Hj-n95w",
        "outputId": "dd91efbf-443f-4f90-8af9-49746308fe07"
      },
      "id": "Br7d6Hj-n95w",
      "execution_count": 71,
      "outputs": [
        {
          "output_type": "execute_result",
          "data": {
            "text/plain": [
              "Index(['abandono_cliente', 'genero', 'jubilado', 'pareja', 'dependientes',\n",
              "       'meses_antiguedad', 'servicio_telefono', 'ad.multiples_lineas',\n",
              "       'servicio_internet', 'ad.seguridad_online', 'ad.respaldo_online',\n",
              "       'ad.proteccion_dispositivo', 'ad.soporte_tecnico', 'tv.streaming',\n",
              "       'peliculas.streaming', 'contrato', 'factura_digital', 'metodo_pago',\n",
              "       'cargo.mensual', 'cargo.total'],\n",
              "      dtype='object')"
            ]
          },
          "metadata": {},
          "execution_count": 71
        }
      ]
    },
    {
      "cell_type": "markdown",
      "source": [
        "### División Train/Test (con variables categóricas)"
      ],
      "metadata": {
        "id": "AR5wXGYj89op"
      },
      "id": "AR5wXGYj89op"
    },
    {
      "cell_type": "markdown",
      "source": [
        "*   `X` se usa para modelos no lineales (árboles, random forest, etc.)\n",
        "*   `X_linear` se usa para modelos lineales (regresión logística, etc.) que requieren evitar multicolinealidad."
      ],
      "metadata": {
        "id": "DwdIdwv1SAfx"
      },
      "id": "DwdIdwv1SAfx"
    },
    {
      "cell_type": "markdown",
      "source": [
        "Modelo no lineal"
      ],
      "metadata": {
        "id": "_5hUpeD29VgQ"
      },
      "id": "_5hUpeD29VgQ"
    },
    {
      "cell_type": "markdown",
      "source": [
        "Selección de features (X) y target (y):"
      ],
      "metadata": {
        "id": "cgfu_0PxSTEo"
      },
      "id": "cgfu_0PxSTEo"
    },
    {
      "cell_type": "code",
      "source": [
        "# Dividir ANTES de transformaciones para evitar data leakage\n",
        "X = Df_base.drop(columns=['abandono_cliente'], axis=1)\n",
        "y = Df_base['abandono_cliente']"
      ],
      "metadata": {
        "id": "TvvoHD3rpzhj"
      },
      "id": "TvvoHD3rpzhj",
      "execution_count": 72,
      "outputs": []
    },
    {
      "cell_type": "code",
      "source": [
        "X_train, X_test, y_train, y_test = train_test_split(\n",
        "    X, y,\n",
        "    test_size=0.2,\n",
        "    stratify=y,  # Mantener proporción de clases\n",
        "    random_state=42\n",
        ")"
      ],
      "metadata": {
        "id": "Zmq1Zbdt9kBo"
      },
      "id": "Zmq1Zbdt9kBo",
      "execution_count": 73,
      "outputs": []
    },
    {
      "cell_type": "code",
      "source": [
        "# Identificar tipos de columnas\n",
        "numeric_cols = X_train.select_dtypes(include=np.number).columns.tolist()\n",
        "categorical_cols = X_train.select_dtypes(exclude=np.number).columns.tolist()\n",
        "\n",
        "# hace lo mismo solo que mas automatizado\n",
        "\"\"\"\n",
        "# Separamos las variables categoricas de las numericas\n",
        "Categorias = ['genero', 'jubilado', 'pareja', 'dependientes', 'servicio_telefono',\n",
        "              'ad.multiples_lineas', 'servicio_internet',\n",
        "              'ad.seguridad_online', 'ad.respaldo_online',\n",
        "              'ad.proteccion_dispositivo', 'ad.soporte_tecnico', 'tv.streaming',\n",
        "              'peliculas.streaming', 'contrato', 'factura_digital', 'metodo_pago',]\"\"\""
      ],
      "metadata": {
        "id": "dxXAC2X09nR4",
        "outputId": "d0ee5d1f-5757-4f4b-fd98-0dbb61f69821",
        "colab": {
          "base_uri": "https://localhost:8080/",
          "height": 90
        }
      },
      "id": "dxXAC2X09nR4",
      "execution_count": 74,
      "outputs": [
        {
          "output_type": "execute_result",
          "data": {
            "text/plain": [
              "\"\\n# Separamos las variables categoricas de las numericas\\nCategorias = ['genero', 'jubilado', 'pareja', 'dependientes', 'servicio_telefono',\\n              'ad.multiples_lineas', 'servicio_internet',\\n              'ad.seguridad_online', 'ad.respaldo_online',\\n              'ad.proteccion_dispositivo', 'ad.soporte_tecnico', 'tv.streaming',\\n              'peliculas.streaming', 'contrato', 'factura_digital', 'metodo_pago',]\""
            ],
            "application/vnd.google.colaboratory.intrinsic+json": {
              "type": "string"
            }
          },
          "metadata": {},
          "execution_count": 74
        }
      ]
    },
    {
      "cell_type": "code",
      "source": [
        "categorical_cols"
      ],
      "metadata": {
        "id": "FPY3HHdyDsKO",
        "outputId": "b11cf781-092f-4ad9-842c-c845759b4422",
        "colab": {
          "base_uri": "https://localhost:8080/"
        }
      },
      "id": "FPY3HHdyDsKO",
      "execution_count": 75,
      "outputs": [
        {
          "output_type": "execute_result",
          "data": {
            "text/plain": [
              "['genero',\n",
              " 'jubilado',\n",
              " 'pareja',\n",
              " 'dependientes',\n",
              " 'servicio_telefono',\n",
              " 'ad.multiples_lineas',\n",
              " 'servicio_internet',\n",
              " 'ad.seguridad_online',\n",
              " 'ad.respaldo_online',\n",
              " 'ad.proteccion_dispositivo',\n",
              " 'ad.soporte_tecnico',\n",
              " 'tv.streaming',\n",
              " 'peliculas.streaming',\n",
              " 'contrato',\n",
              " 'factura_digital',\n",
              " 'metodo_pago']"
            ]
          },
          "metadata": {},
          "execution_count": 75
        }
      ]
    },
    {
      "cell_type": "markdown",
      "source": [
        "**Explicación de manejo de categóricas:**<br>\n",
        "La división se hace con las variables categóricas originales porque:\n",
        "1.   No introduce data leakage\n",
        "2.   `train_test_split` puede manejar objetos/strings sin problemas\n",
        "3.   Las transformaciones se aplicarán después solo al training set"
      ],
      "metadata": {
        "id": "B9okxz0397Jf"
      },
      "id": "B9okxz0397Jf"
    },
    {
      "cell_type": "markdown",
      "source": [
        "### Transformación de Datos"
      ],
      "metadata": {
        "id": "VgDxSVCW-tsm"
      },
      "id": "VgDxSVCW-tsm"
    },
    {
      "cell_type": "code",
      "source": [
        "# Configurar preprocesador\n",
        "one_hot = make_column_transformer(\n",
        "                    (OneHotEncoder(drop='if_binary'), categorical_cols), # drop='if_binary' ➝ elimina una categoría si hay solo dos (evita duplicados).\n",
        "                    remainder='passthrough', # remainder='passthrough' ➝ las columnas numéricas se dejan como están.\n",
        "                    sparse_threshold=0,\n",
        "                    force_int_remainder_cols=False\n",
        ")"
      ],
      "metadata": {
        "id": "_q-VC0GPD-49"
      },
      "id": "_q-VC0GPD-49",
      "execution_count": 76,
      "outputs": []
    },
    {
      "cell_type": "code",
      "source": [
        "# Aplicar solo al training set\n",
        "X_train_processed = one_hot.fit_transform(X_train)\n",
        "X_test_processed = one_hot.transform(X_test)"
      ],
      "metadata": {
        "id": "nlpRC2SyEQs9"
      },
      "id": "nlpRC2SyEQs9",
      "execution_count": 77,
      "outputs": []
    },
    {
      "cell_type": "code",
      "source": [
        "columnas = one_hot.get_feature_names_out()\n",
        "\n",
        "columnas_encoded = []\n",
        "for columna in columnas:\n",
        "    columna = columna.split('__')[1]\n",
        "    columnas_encoded.append(columna)"
      ],
      "metadata": {
        "id": "DcAz-YKiEYeO"
      },
      "id": "DcAz-YKiEYeO",
      "execution_count": 83,
      "outputs": []
    },
    {
      "cell_type": "code",
      "source": [
        "Df_No_lineal = pd.DataFrame(X_train_processed, columns=columnas_encoded)\n",
        "Df_No_lineal_y = pd.DataFrame(y, columns=['abandono_cliente_si'])\n",
        "Df_No_lineal = pd.concat([Df_No_lineal, Df_No_lineal_y], axis=1)\n",
        "Df_No_lineal.head()"
      ],
      "metadata": {
        "id": "FJxP1WknFJS8",
        "outputId": "d3a33426-3ce4-4fed-ef65-4eb61a73fc9b",
        "colab": {
          "base_uri": "https://localhost:8080/",
          "height": 290
        }
      },
      "id": "FJxP1WknFJS8",
      "execution_count": 84,
      "outputs": [
        {
          "output_type": "execute_result",
          "data": {
            "text/plain": [
              "   genero_Masculino  jubilado_True  pareja_Si  dependientes_Si  \\\n",
              "0               0.0            1.0        0.0              0.0   \n",
              "1               1.0            0.0        0.0              0.0   \n",
              "2               1.0            1.0        0.0              0.0   \n",
              "3               1.0            1.0        0.0              0.0   \n",
              "4               1.0            0.0        1.0              1.0   \n",
              "\n",
              "   servicio_telefono_Si  ad.multiples_lineas_No  ad.multiples_lineas_Si  \\\n",
              "0                   1.0                     0.0                     1.0   \n",
              "1                   1.0                     1.0                     0.0   \n",
              "2                   1.0                     1.0                     0.0   \n",
              "3                   1.0                     1.0                     0.0   \n",
              "4                   1.0                     0.0                     1.0   \n",
              "\n",
              "   ad.multiples_lineas_Sin servicio telefónico  servicio_internet_DSL  \\\n",
              "0                                          0.0                    0.0   \n",
              "1                                          0.0                    0.0   \n",
              "2                                          0.0                    0.0   \n",
              "3                                          0.0                    0.0   \n",
              "4                                          0.0                    1.0   \n",
              "\n",
              "   servicio_internet_Fibra óptica  ...  contrato_Un año  factura_digital_Si  \\\n",
              "0                             1.0  ...              0.0                 1.0   \n",
              "1                             1.0  ...              0.0                 1.0   \n",
              "2                             1.0  ...              0.0                 1.0   \n",
              "3                             1.0  ...              0.0                 0.0   \n",
              "4                             0.0  ...              1.0                 1.0   \n",
              "\n",
              "   metodo_pago_Cheque electrónico  metodo_pago_Cheque por correo  \\\n",
              "0                             1.0                            0.0   \n",
              "1                             0.0                            1.0   \n",
              "2                             0.0                            0.0   \n",
              "3                             1.0                            0.0   \n",
              "4                             0.0                            0.0   \n",
              "\n",
              "   metodo_pago_Tarjeta de crédito (automática)  \\\n",
              "0                                          0.0   \n",
              "1                                          0.0   \n",
              "2                                          0.0   \n",
              "3                                          0.0   \n",
              "4                                          0.0   \n",
              "\n",
              "   metodo_pago_Transferencia bancaria (automática)  meses_antiguedad  \\\n",
              "0                                              0.0               2.0   \n",
              "1                                              0.0               3.0   \n",
              "2                                              1.0              21.0   \n",
              "3                                              0.0              16.0   \n",
              "4                                              1.0              35.0   \n",
              "\n",
              "   cargo.mensual  cargo.total  abandono_cliente_si  \n",
              "0          88.55       179.25                  NaN  \n",
              "1          82.30       214.40                  NaN  \n",
              "2          96.80      2030.30                  NaN  \n",
              "3          69.65      1043.30                  NaN  \n",
              "4          73.45      2661.10                  NaN  \n",
              "\n",
              "[5 rows x 41 columns]"
            ],
            "text/html": [
              "\n",
              "  <div id=\"df-9f54429b-2d0f-433d-bdff-4a5e4261ad2b\" class=\"colab-df-container\">\n",
              "    <div>\n",
              "<style scoped>\n",
              "    .dataframe tbody tr th:only-of-type {\n",
              "        vertical-align: middle;\n",
              "    }\n",
              "\n",
              "    .dataframe tbody tr th {\n",
              "        vertical-align: top;\n",
              "    }\n",
              "\n",
              "    .dataframe thead th {\n",
              "        text-align: right;\n",
              "    }\n",
              "</style>\n",
              "<table border=\"1\" class=\"dataframe\">\n",
              "  <thead>\n",
              "    <tr style=\"text-align: right;\">\n",
              "      <th></th>\n",
              "      <th>genero_Masculino</th>\n",
              "      <th>jubilado_True</th>\n",
              "      <th>pareja_Si</th>\n",
              "      <th>dependientes_Si</th>\n",
              "      <th>servicio_telefono_Si</th>\n",
              "      <th>ad.multiples_lineas_No</th>\n",
              "      <th>ad.multiples_lineas_Si</th>\n",
              "      <th>ad.multiples_lineas_Sin servicio telefónico</th>\n",
              "      <th>servicio_internet_DSL</th>\n",
              "      <th>servicio_internet_Fibra óptica</th>\n",
              "      <th>...</th>\n",
              "      <th>contrato_Un año</th>\n",
              "      <th>factura_digital_Si</th>\n",
              "      <th>metodo_pago_Cheque electrónico</th>\n",
              "      <th>metodo_pago_Cheque por correo</th>\n",
              "      <th>metodo_pago_Tarjeta de crédito (automática)</th>\n",
              "      <th>metodo_pago_Transferencia bancaria (automática)</th>\n",
              "      <th>meses_antiguedad</th>\n",
              "      <th>cargo.mensual</th>\n",
              "      <th>cargo.total</th>\n",
              "      <th>abandono_cliente_si</th>\n",
              "    </tr>\n",
              "  </thead>\n",
              "  <tbody>\n",
              "    <tr>\n",
              "      <th>0</th>\n",
              "      <td>0.0</td>\n",
              "      <td>1.0</td>\n",
              "      <td>0.0</td>\n",
              "      <td>0.0</td>\n",
              "      <td>1.0</td>\n",
              "      <td>0.0</td>\n",
              "      <td>1.0</td>\n",
              "      <td>0.0</td>\n",
              "      <td>0.0</td>\n",
              "      <td>1.0</td>\n",
              "      <td>...</td>\n",
              "      <td>0.0</td>\n",
              "      <td>1.0</td>\n",
              "      <td>1.0</td>\n",
              "      <td>0.0</td>\n",
              "      <td>0.0</td>\n",
              "      <td>0.0</td>\n",
              "      <td>2.0</td>\n",
              "      <td>88.55</td>\n",
              "      <td>179.25</td>\n",
              "      <td>NaN</td>\n",
              "    </tr>\n",
              "    <tr>\n",
              "      <th>1</th>\n",
              "      <td>1.0</td>\n",
              "      <td>0.0</td>\n",
              "      <td>0.0</td>\n",
              "      <td>0.0</td>\n",
              "      <td>1.0</td>\n",
              "      <td>1.0</td>\n",
              "      <td>0.0</td>\n",
              "      <td>0.0</td>\n",
              "      <td>0.0</td>\n",
              "      <td>1.0</td>\n",
              "      <td>...</td>\n",
              "      <td>0.0</td>\n",
              "      <td>1.0</td>\n",
              "      <td>0.0</td>\n",
              "      <td>1.0</td>\n",
              "      <td>0.0</td>\n",
              "      <td>0.0</td>\n",
              "      <td>3.0</td>\n",
              "      <td>82.30</td>\n",
              "      <td>214.40</td>\n",
              "      <td>NaN</td>\n",
              "    </tr>\n",
              "    <tr>\n",
              "      <th>2</th>\n",
              "      <td>1.0</td>\n",
              "      <td>1.0</td>\n",
              "      <td>0.0</td>\n",
              "      <td>0.0</td>\n",
              "      <td>1.0</td>\n",
              "      <td>1.0</td>\n",
              "      <td>0.0</td>\n",
              "      <td>0.0</td>\n",
              "      <td>0.0</td>\n",
              "      <td>1.0</td>\n",
              "      <td>...</td>\n",
              "      <td>0.0</td>\n",
              "      <td>1.0</td>\n",
              "      <td>0.0</td>\n",
              "      <td>0.0</td>\n",
              "      <td>0.0</td>\n",
              "      <td>1.0</td>\n",
              "      <td>21.0</td>\n",
              "      <td>96.80</td>\n",
              "      <td>2030.30</td>\n",
              "      <td>NaN</td>\n",
              "    </tr>\n",
              "    <tr>\n",
              "      <th>3</th>\n",
              "      <td>1.0</td>\n",
              "      <td>1.0</td>\n",
              "      <td>0.0</td>\n",
              "      <td>0.0</td>\n",
              "      <td>1.0</td>\n",
              "      <td>1.0</td>\n",
              "      <td>0.0</td>\n",
              "      <td>0.0</td>\n",
              "      <td>0.0</td>\n",
              "      <td>1.0</td>\n",
              "      <td>...</td>\n",
              "      <td>0.0</td>\n",
              "      <td>0.0</td>\n",
              "      <td>1.0</td>\n",
              "      <td>0.0</td>\n",
              "      <td>0.0</td>\n",
              "      <td>0.0</td>\n",
              "      <td>16.0</td>\n",
              "      <td>69.65</td>\n",
              "      <td>1043.30</td>\n",
              "      <td>NaN</td>\n",
              "    </tr>\n",
              "    <tr>\n",
              "      <th>4</th>\n",
              "      <td>1.0</td>\n",
              "      <td>0.0</td>\n",
              "      <td>1.0</td>\n",
              "      <td>1.0</td>\n",
              "      <td>1.0</td>\n",
              "      <td>0.0</td>\n",
              "      <td>1.0</td>\n",
              "      <td>0.0</td>\n",
              "      <td>1.0</td>\n",
              "      <td>0.0</td>\n",
              "      <td>...</td>\n",
              "      <td>1.0</td>\n",
              "      <td>1.0</td>\n",
              "      <td>0.0</td>\n",
              "      <td>0.0</td>\n",
              "      <td>0.0</td>\n",
              "      <td>1.0</td>\n",
              "      <td>35.0</td>\n",
              "      <td>73.45</td>\n",
              "      <td>2661.10</td>\n",
              "      <td>NaN</td>\n",
              "    </tr>\n",
              "  </tbody>\n",
              "</table>\n",
              "<p>5 rows × 41 columns</p>\n",
              "</div>\n",
              "    <div class=\"colab-df-buttons\">\n",
              "\n",
              "  <div class=\"colab-df-container\">\n",
              "    <button class=\"colab-df-convert\" onclick=\"convertToInteractive('df-9f54429b-2d0f-433d-bdff-4a5e4261ad2b')\"\n",
              "            title=\"Convert this dataframe to an interactive table.\"\n",
              "            style=\"display:none;\">\n",
              "\n",
              "  <svg xmlns=\"http://www.w3.org/2000/svg\" height=\"24px\" viewBox=\"0 -960 960 960\">\n",
              "    <path d=\"M120-120v-720h720v720H120Zm60-500h600v-160H180v160Zm220 220h160v-160H400v160Zm0 220h160v-160H400v160ZM180-400h160v-160H180v160Zm440 0h160v-160H620v160ZM180-180h160v-160H180v160Zm440 0h160v-160H620v160Z\"/>\n",
              "  </svg>\n",
              "    </button>\n",
              "\n",
              "  <style>\n",
              "    .colab-df-container {\n",
              "      display:flex;\n",
              "      gap: 12px;\n",
              "    }\n",
              "\n",
              "    .colab-df-convert {\n",
              "      background-color: #E8F0FE;\n",
              "      border: none;\n",
              "      border-radius: 50%;\n",
              "      cursor: pointer;\n",
              "      display: none;\n",
              "      fill: #1967D2;\n",
              "      height: 32px;\n",
              "      padding: 0 0 0 0;\n",
              "      width: 32px;\n",
              "    }\n",
              "\n",
              "    .colab-df-convert:hover {\n",
              "      background-color: #E2EBFA;\n",
              "      box-shadow: 0px 1px 2px rgba(60, 64, 67, 0.3), 0px 1px 3px 1px rgba(60, 64, 67, 0.15);\n",
              "      fill: #174EA6;\n",
              "    }\n",
              "\n",
              "    .colab-df-buttons div {\n",
              "      margin-bottom: 4px;\n",
              "    }\n",
              "\n",
              "    [theme=dark] .colab-df-convert {\n",
              "      background-color: #3B4455;\n",
              "      fill: #D2E3FC;\n",
              "    }\n",
              "\n",
              "    [theme=dark] .colab-df-convert:hover {\n",
              "      background-color: #434B5C;\n",
              "      box-shadow: 0px 1px 3px 1px rgba(0, 0, 0, 0.15);\n",
              "      filter: drop-shadow(0px 1px 2px rgba(0, 0, 0, 0.3));\n",
              "      fill: #FFFFFF;\n",
              "    }\n",
              "  </style>\n",
              "\n",
              "    <script>\n",
              "      const buttonEl =\n",
              "        document.querySelector('#df-9f54429b-2d0f-433d-bdff-4a5e4261ad2b button.colab-df-convert');\n",
              "      buttonEl.style.display =\n",
              "        google.colab.kernel.accessAllowed ? 'block' : 'none';\n",
              "\n",
              "      async function convertToInteractive(key) {\n",
              "        const element = document.querySelector('#df-9f54429b-2d0f-433d-bdff-4a5e4261ad2b');\n",
              "        const dataTable =\n",
              "          await google.colab.kernel.invokeFunction('convertToInteractive',\n",
              "                                                    [key], {});\n",
              "        if (!dataTable) return;\n",
              "\n",
              "        const docLinkHtml = 'Like what you see? Visit the ' +\n",
              "          '<a target=\"_blank\" href=https://colab.research.google.com/notebooks/data_table.ipynb>data table notebook</a>'\n",
              "          + ' to learn more about interactive tables.';\n",
              "        element.innerHTML = '';\n",
              "        dataTable['output_type'] = 'display_data';\n",
              "        await google.colab.output.renderOutput(dataTable, element);\n",
              "        const docLink = document.createElement('div');\n",
              "        docLink.innerHTML = docLinkHtml;\n",
              "        element.appendChild(docLink);\n",
              "      }\n",
              "    </script>\n",
              "  </div>\n",
              "\n",
              "\n",
              "    <div id=\"df-70ad149f-a547-4568-aaeb-3b1b44927b23\">\n",
              "      <button class=\"colab-df-quickchart\" onclick=\"quickchart('df-70ad149f-a547-4568-aaeb-3b1b44927b23')\"\n",
              "                title=\"Suggest charts\"\n",
              "                style=\"display:none;\">\n",
              "\n",
              "<svg xmlns=\"http://www.w3.org/2000/svg\" height=\"24px\"viewBox=\"0 0 24 24\"\n",
              "     width=\"24px\">\n",
              "    <g>\n",
              "        <path d=\"M19 3H5c-1.1 0-2 .9-2 2v14c0 1.1.9 2 2 2h14c1.1 0 2-.9 2-2V5c0-1.1-.9-2-2-2zM9 17H7v-7h2v7zm4 0h-2V7h2v10zm4 0h-2v-4h2v4z\"/>\n",
              "    </g>\n",
              "</svg>\n",
              "      </button>\n",
              "\n",
              "<style>\n",
              "  .colab-df-quickchart {\n",
              "      --bg-color: #E8F0FE;\n",
              "      --fill-color: #1967D2;\n",
              "      --hover-bg-color: #E2EBFA;\n",
              "      --hover-fill-color: #174EA6;\n",
              "      --disabled-fill-color: #AAA;\n",
              "      --disabled-bg-color: #DDD;\n",
              "  }\n",
              "\n",
              "  [theme=dark] .colab-df-quickchart {\n",
              "      --bg-color: #3B4455;\n",
              "      --fill-color: #D2E3FC;\n",
              "      --hover-bg-color: #434B5C;\n",
              "      --hover-fill-color: #FFFFFF;\n",
              "      --disabled-bg-color: #3B4455;\n",
              "      --disabled-fill-color: #666;\n",
              "  }\n",
              "\n",
              "  .colab-df-quickchart {\n",
              "    background-color: var(--bg-color);\n",
              "    border: none;\n",
              "    border-radius: 50%;\n",
              "    cursor: pointer;\n",
              "    display: none;\n",
              "    fill: var(--fill-color);\n",
              "    height: 32px;\n",
              "    padding: 0;\n",
              "    width: 32px;\n",
              "  }\n",
              "\n",
              "  .colab-df-quickchart:hover {\n",
              "    background-color: var(--hover-bg-color);\n",
              "    box-shadow: 0 1px 2px rgba(60, 64, 67, 0.3), 0 1px 3px 1px rgba(60, 64, 67, 0.15);\n",
              "    fill: var(--button-hover-fill-color);\n",
              "  }\n",
              "\n",
              "  .colab-df-quickchart-complete:disabled,\n",
              "  .colab-df-quickchart-complete:disabled:hover {\n",
              "    background-color: var(--disabled-bg-color);\n",
              "    fill: var(--disabled-fill-color);\n",
              "    box-shadow: none;\n",
              "  }\n",
              "\n",
              "  .colab-df-spinner {\n",
              "    border: 2px solid var(--fill-color);\n",
              "    border-color: transparent;\n",
              "    border-bottom-color: var(--fill-color);\n",
              "    animation:\n",
              "      spin 1s steps(1) infinite;\n",
              "  }\n",
              "\n",
              "  @keyframes spin {\n",
              "    0% {\n",
              "      border-color: transparent;\n",
              "      border-bottom-color: var(--fill-color);\n",
              "      border-left-color: var(--fill-color);\n",
              "    }\n",
              "    20% {\n",
              "      border-color: transparent;\n",
              "      border-left-color: var(--fill-color);\n",
              "      border-top-color: var(--fill-color);\n",
              "    }\n",
              "    30% {\n",
              "      border-color: transparent;\n",
              "      border-left-color: var(--fill-color);\n",
              "      border-top-color: var(--fill-color);\n",
              "      border-right-color: var(--fill-color);\n",
              "    }\n",
              "    40% {\n",
              "      border-color: transparent;\n",
              "      border-right-color: var(--fill-color);\n",
              "      border-top-color: var(--fill-color);\n",
              "    }\n",
              "    60% {\n",
              "      border-color: transparent;\n",
              "      border-right-color: var(--fill-color);\n",
              "    }\n",
              "    80% {\n",
              "      border-color: transparent;\n",
              "      border-right-color: var(--fill-color);\n",
              "      border-bottom-color: var(--fill-color);\n",
              "    }\n",
              "    90% {\n",
              "      border-color: transparent;\n",
              "      border-bottom-color: var(--fill-color);\n",
              "    }\n",
              "  }\n",
              "</style>\n",
              "\n",
              "      <script>\n",
              "        async function quickchart(key) {\n",
              "          const quickchartButtonEl =\n",
              "            document.querySelector('#' + key + ' button');\n",
              "          quickchartButtonEl.disabled = true;  // To prevent multiple clicks.\n",
              "          quickchartButtonEl.classList.add('colab-df-spinner');\n",
              "          try {\n",
              "            const charts = await google.colab.kernel.invokeFunction(\n",
              "                'suggestCharts', [key], {});\n",
              "          } catch (error) {\n",
              "            console.error('Error during call to suggestCharts:', error);\n",
              "          }\n",
              "          quickchartButtonEl.classList.remove('colab-df-spinner');\n",
              "          quickchartButtonEl.classList.add('colab-df-quickchart-complete');\n",
              "        }\n",
              "        (() => {\n",
              "          let quickchartButtonEl =\n",
              "            document.querySelector('#df-70ad149f-a547-4568-aaeb-3b1b44927b23 button');\n",
              "          quickchartButtonEl.style.display =\n",
              "            google.colab.kernel.accessAllowed ? 'block' : 'none';\n",
              "        })();\n",
              "      </script>\n",
              "    </div>\n",
              "\n",
              "    </div>\n",
              "  </div>\n"
            ],
            "application/vnd.google.colaboratory.intrinsic+json": {
              "type": "dataframe",
              "variable_name": "Df_No_lineal"
            }
          },
          "metadata": {},
          "execution_count": 84
        }
      ]
    },
    {
      "cell_type": "code",
      "source": [
        "\"\"\"# Configurar preprocesador\n",
        "preprocessor = ColumnTransformer(\n",
        "    transformers=[\n",
        "        ('num', StandardScaler(), numeric_cols),\n",
        "        ('cat', OneHotEncoder(handle_unknown='ignore', sparse_output=False), categorical_cols)\n",
        "    ])\n",
        "\n",
        "# Aplicar solo al training set\n",
        "X_train_processed = preprocessor.fit_transform(X_train)\n",
        "X_test_processed = preprocessor.transform(X_test)\"\"\""
      ],
      "metadata": {
        "id": "kMAU-GgL-oIG"
      },
      "id": "kMAU-GgL-oIG",
      "execution_count": 17,
      "outputs": []
    },
    {
      "cell_type": "markdown",
      "source": [
        "### Balanceo de Clases (SMOTE)"
      ],
      "metadata": {
        "id": "mMXN-LIl-yaG"
      },
      "id": "mMXN-LIl-yaG"
    },
    {
      "cell_type": "code",
      "source": [
        "# Aplicar SMOTE solo al conjunto de entrenamiento\n",
        "sm = SMOTE(random_state=42)\n",
        "X_train_bal, y_train_bal = sm.fit_resample(X_train_processed, y_train)\n",
        "\n",
        "print(\"\\nDistribución después de balanceo:\")\n",
        "print(pd.Series(y_train_bal).value_counts())"
      ],
      "metadata": {
        "id": "H6stc-Pn-zuA",
        "outputId": "2cfd3df0-505f-4b7a-8632-97b8036849d4",
        "colab": {
          "base_uri": "https://localhost:8080/"
        }
      },
      "id": "H6stc-Pn-zuA",
      "execution_count": 78,
      "outputs": [
        {
          "output_type": "stream",
          "name": "stdout",
          "text": [
            "\n",
            "Distribución después de balanceo:\n",
            "abandono_cliente\n",
            "1    4271\n",
            "0    4271\n",
            "Name: count, dtype: int64\n"
          ]
        }
      ]
    },
    {
      "cell_type": "markdown",
      "source": [
        "### Análisis de Correlación (Post-balanceo)"
      ],
      "metadata": {
        "id": "UK4r11WX-3s-"
      },
      "id": "UK4r11WX-3s-"
    },
    {
      "cell_type": "code",
      "source": [
        "# Crear DataFrame balanceado para análisis\n",
        "feature_names = numeric_cols + list(one_hot.named_transformers_['cat'].get_feature_names_out(categorical_cols))\n",
        "df_bal = pd.DataFrame(X_train_bal, columns=feature_names)\n",
        "df_bal['abandono'] = y_train_bal\n",
        "\n",
        "# Matriz de correlación\n",
        "plt.figure(figsize=(16, 14))\n",
        "corr_matrix = df_bal.corr()\n",
        "sns.heatmap(corr_matrix[abs(corr_matrix) > 0.3], annot=True, cmap='coolwarm')\n",
        "\n",
        "# Top correlaciones con target\n",
        "target_corr = df_bal.corr()['abandono'].sort_values(ascending=False)\n",
        "print(target_corr.head(10))"
      ],
      "metadata": {
        "id": "y2s6Wr2O-3d1",
        "outputId": "7e597885-022d-49f4-b20f-7c4bf98fe134",
        "colab": {
          "base_uri": "https://localhost:8080/",
          "height": 349
        }
      },
      "id": "y2s6Wr2O-3d1",
      "execution_count": 80,
      "outputs": [
        {
          "output_type": "error",
          "ename": "KeyError",
          "evalue": "'cat'",
          "traceback": [
            "\u001b[0;31m---------------------------------------------------------------------------\u001b[0m",
            "\u001b[0;31mKeyError\u001b[0m                                  Traceback (most recent call last)",
            "\u001b[0;32m/tmp/ipython-input-2912273481.py\u001b[0m in \u001b[0;36m<cell line: 0>\u001b[0;34m()\u001b[0m\n\u001b[1;32m      1\u001b[0m \u001b[0;31m# Crear DataFrame balanceado para análisis\u001b[0m\u001b[0;34m\u001b[0m\u001b[0;34m\u001b[0m\u001b[0m\n\u001b[0;32m----> 2\u001b[0;31m \u001b[0mfeature_names\u001b[0m \u001b[0;34m=\u001b[0m \u001b[0mnumeric_cols\u001b[0m \u001b[0;34m+\u001b[0m \u001b[0mlist\u001b[0m\u001b[0;34m(\u001b[0m\u001b[0mone_hot\u001b[0m\u001b[0;34m.\u001b[0m\u001b[0mnamed_transformers_\u001b[0m\u001b[0;34m[\u001b[0m\u001b[0;34m'cat'\u001b[0m\u001b[0;34m]\u001b[0m\u001b[0;34m.\u001b[0m\u001b[0mget_feature_names_out\u001b[0m\u001b[0;34m(\u001b[0m\u001b[0mcategorical_cols\u001b[0m\u001b[0;34m)\u001b[0m\u001b[0;34m)\u001b[0m\u001b[0;34m\u001b[0m\u001b[0;34m\u001b[0m\u001b[0m\n\u001b[0m\u001b[1;32m      3\u001b[0m \u001b[0mdf_bal\u001b[0m \u001b[0;34m=\u001b[0m \u001b[0mpd\u001b[0m\u001b[0;34m.\u001b[0m\u001b[0mDataFrame\u001b[0m\u001b[0;34m(\u001b[0m\u001b[0mX_train_bal\u001b[0m\u001b[0;34m,\u001b[0m \u001b[0mcolumns\u001b[0m\u001b[0;34m=\u001b[0m\u001b[0mfeature_names\u001b[0m\u001b[0;34m)\u001b[0m\u001b[0;34m\u001b[0m\u001b[0;34m\u001b[0m\u001b[0m\n\u001b[1;32m      4\u001b[0m \u001b[0mdf_bal\u001b[0m\u001b[0;34m[\u001b[0m\u001b[0;34m'abandono'\u001b[0m\u001b[0;34m]\u001b[0m \u001b[0;34m=\u001b[0m \u001b[0my_train_bal\u001b[0m\u001b[0;34m\u001b[0m\u001b[0;34m\u001b[0m\u001b[0m\n\u001b[1;32m      5\u001b[0m \u001b[0;34m\u001b[0m\u001b[0m\n",
            "\u001b[0;32m/usr/local/lib/python3.11/dist-packages/sklearn/utils/_bunch.py\u001b[0m in \u001b[0;36m__getitem__\u001b[0;34m(self, key)\u001b[0m\n\u001b[1;32m     40\u001b[0m                 \u001b[0mFutureWarning\u001b[0m\u001b[0;34m,\u001b[0m\u001b[0;34m\u001b[0m\u001b[0;34m\u001b[0m\u001b[0m\n\u001b[1;32m     41\u001b[0m             )\n\u001b[0;32m---> 42\u001b[0;31m         \u001b[0;32mreturn\u001b[0m \u001b[0msuper\u001b[0m\u001b[0;34m(\u001b[0m\u001b[0;34m)\u001b[0m\u001b[0;34m.\u001b[0m\u001b[0m__getitem__\u001b[0m\u001b[0;34m(\u001b[0m\u001b[0mkey\u001b[0m\u001b[0;34m)\u001b[0m\u001b[0;34m\u001b[0m\u001b[0;34m\u001b[0m\u001b[0m\n\u001b[0m\u001b[1;32m     43\u001b[0m \u001b[0;34m\u001b[0m\u001b[0m\n\u001b[1;32m     44\u001b[0m     \u001b[0;32mdef\u001b[0m \u001b[0m_set_deprecated\u001b[0m\u001b[0;34m(\u001b[0m\u001b[0mself\u001b[0m\u001b[0;34m,\u001b[0m \u001b[0mvalue\u001b[0m\u001b[0;34m,\u001b[0m \u001b[0;34m*\u001b[0m\u001b[0;34m,\u001b[0m \u001b[0mnew_key\u001b[0m\u001b[0;34m,\u001b[0m \u001b[0mdeprecated_key\u001b[0m\u001b[0;34m,\u001b[0m \u001b[0mwarning_message\u001b[0m\u001b[0;34m)\u001b[0m\u001b[0;34m:\u001b[0m\u001b[0;34m\u001b[0m\u001b[0;34m\u001b[0m\u001b[0m\n",
            "\u001b[0;31mKeyError\u001b[0m: 'cat'"
          ]
        }
      ]
    },
    {
      "cell_type": "markdown",
      "source": [
        "### Modelado y Evaluación"
      ],
      "metadata": {
        "id": "p-rSTUQO_D11"
      },
      "id": "p-rSTUQO_D11"
    },
    {
      "cell_type": "code",
      "source": [
        "# Entrenar modelo con datos balanceados\n",
        "model = RandomForestClassifier(n_estimators=100, random_state=42)\n",
        "model.fit(X_train_bal, y_train_bal)\n",
        "\n",
        "# Evaluar con test set original (sin balancear)\n",
        "y_pred = model.predict(X_test_processed)\n",
        "y_proba = model.predict_proba(X_test_processed)[:, 1]\n",
        "\n",
        "print(\"\\nReporte de Clasificación:\")\n",
        "print(classification_report(y_test, y_pred))\n",
        "\n",
        "print(f\"\\nAUC-ROC: {roc_auc_score(y_test, y_proba):.4f}\")"
      ],
      "metadata": {
        "id": "O0lpIk6k-_fe",
        "outputId": "e2d0f5f8-b3ba-4839-c175-b7117095764f",
        "colab": {
          "base_uri": "https://localhost:8080/"
        }
      },
      "id": "O0lpIk6k-_fe",
      "execution_count": 20,
      "outputs": [
        {
          "output_type": "stream",
          "name": "stdout",
          "text": [
            "\n",
            "Reporte de Clasificación:\n",
            "              precision    recall  f1-score   support\n",
            "\n",
            "           0       0.84      0.85      0.85      1068\n",
            "           1       0.58      0.55      0.56       386\n",
            "\n",
            "    accuracy                           0.77      1454\n",
            "   macro avg       0.71      0.70      0.71      1454\n",
            "weighted avg       0.77      0.77      0.77      1454\n",
            "\n",
            "\n",
            "AUC-ROC: 0.8168\n"
          ]
        }
      ]
    },
    {
      "cell_type": "markdown",
      "source": [
        "Análisis de Importancia de Características"
      ],
      "metadata": {
        "id": "j_NMK2em_TQ9"
      },
      "id": "j_NMK2em_TQ9"
    },
    {
      "cell_type": "code",
      "source": [
        "# Importancia de características\n",
        "importances = pd.Series(model.feature_importances_, index=feature_names)\n",
        "top_features = importances.sort_values(ascending=False).head(15)\n",
        "\n",
        "plt.figure(figsize=(10, 8))\n",
        "sns.barplot(x=top_features.values, y=top_features.index)\n",
        "plt.title('Top 15 Características Importantes')\n",
        "plt.tight_layout();"
      ],
      "metadata": {
        "id": "Ps9v4_TP_Trl",
        "outputId": "44da811e-06df-4027-ca5d-0da19e4cb964",
        "colab": {
          "base_uri": "https://localhost:8080/",
          "height": 764
        }
      },
      "id": "Ps9v4_TP_Trl",
      "execution_count": 21,
      "outputs": [
        {
          "output_type": "display_data",
          "data": {
            "text/plain": [
              "<Figure size 1000x800 with 1 Axes>"
            ],
            "image/png": "[encoded data removed]"
          },
          "metadata": {}
        }
      ]
    },
    {
      "cell_type": "code",
      "source": [
        "from statsmodels.stats.outliers_influence import variance_inflation_factor\n",
        "\n",
        "# Calcular VIF para cada característica\n",
        "vif_data = pd.DataFrame()\n",
        "vif_data[\"feature\"] = feature_names\n",
        "vif_data[\"VIF\"] = [variance_inflation_factor(X_train_bal.astype(float), i)\n",
        "                   for i in range(len(feature_names))]\n",
        "\n",
        "# Filtrar características problemáticas (VIF > 5)\n",
        "high_vif = vif_data[vif_data[\"VIF\"] > 5]\n",
        "print(\"Características con alta multicolinealidad:\")\n",
        "print(high_vif.sort_values(\"VIF\", ascending=False))"
      ],
      "metadata": {
        "id": "P3rZbDgUBsMZ",
        "outputId": "4e77057d-85f2-4f3b-8df9-690211c67851",
        "colab": {
          "base_uri": "https://localhost:8080/"
        }
      },
      "id": "P3rZbDgUBsMZ",
      "execution_count": 23,
      "outputs": [
        {
          "output_type": "stream",
          "name": "stdout",
          "text": [
            "Características con alta multicolinealidad:\n",
            "                                              feature         VIF\n",
            "4                                    genero_Masculino         inf\n",
            "3                                     genero_Femenino         inf\n",
            "5                                      jubilado_False         inf\n",
            "8                                           pareja_Si         inf\n",
            "7                                           pareja_No         inf\n",
            "6                                       jubilado_True         inf\n",
            "10                                    dependientes_Si         inf\n",
            "11                               servicio_telefono_No         inf\n",
            "12                               servicio_telefono_Si         inf\n",
            "9                                     dependientes_No         inf\n",
            "13                             ad.multiples_lineas_No         inf\n",
            "16                              servicio_internet_DSL         inf\n",
            "15        ad.multiples_lineas_Sin servicio telefónico         inf\n",
            "14                             ad.multiples_lineas_Si         inf\n",
            "30        ad.soporte_tecnico_Sin servicio de internet         inf\n",
            "31                                    tv.streaming_No         inf\n",
            "32                                    tv.streaming_Si         inf\n",
            "17                     servicio_internet_Fibra óptica         inf\n",
            "18                               servicio_internet_No         inf\n",
            "19                             ad.seguridad_online_No         inf\n",
            "20                             ad.seguridad_online_Si         inf\n",
            "21       ad.seguridad_online_Sin servicio de internet         inf\n",
            "22                              ad.respaldo_online_No         inf\n",
            "23                              ad.respaldo_online_Si         inf\n",
            "24        ad.respaldo_online_Sin servicio de internet         inf\n",
            "25                       ad.proteccion_dispositivo_No         inf\n",
            "26                       ad.proteccion_dispositivo_Si         inf\n",
            "27  ad.proteccion_dispositivo_Sin servicio de inte...         inf\n",
            "28                              ad.soporte_tecnico_No         inf\n",
            "29                              ad.soporte_tecnico_Si         inf\n",
            "38                                 contrato_Mes a mes         inf\n",
            "39                                    contrato_Un año         inf\n",
            "40                                 factura_digital_No         inf\n",
            "33              tv.streaming_Sin servicio de internet         inf\n",
            "34                             peliculas.streaming_No         inf\n",
            "35                             peliculas.streaming_Si         inf\n",
            "36       peliculas.streaming_Sin servicio de internet         inf\n",
            "37                                  contrato_Dos años         inf\n",
            "42                     metodo_pago_Cheque electrónico         inf\n",
            "43                      metodo_pago_Cheque por correo         inf\n",
            "44        metodo_pago_Tarjeta de crédito (automática)         inf\n",
            "41                                 factura_digital_Si         inf\n",
            "45    metodo_pago_Transferencia bancaria (automática)         inf\n",
            "1                                       cargo.mensual  904.961980\n",
            "2                                         cargo.total   10.687292\n",
            "0                                    meses_antiguedad    8.780825\n"
          ]
        }
      ]
    },
    {
      "cell_type": "markdown",
      "source": [],
      "metadata": {
        "id": "brlNQXTq-_Pu"
      },
      "id": "brlNQXTq-_Pu"
    },
    {
      "cell_type": "markdown",
      "source": [],
      "metadata": {
        "id": "yrFzsIkP-lUF"
      },
      "id": "yrFzsIkP-lUF"
    },
    {
      "cell_type": "markdown",
      "source": [],
      "metadata": {
        "id": "KLk_Oq14-lO9"
      },
      "id": "KLk_Oq14-lO9"
    },
    {
      "cell_type": "markdown",
      "source": [],
      "metadata": {
        "id": "HNUGsjEv-lHm"
      },
      "id": "HNUGsjEv-lHm"
    },
    {
      "cell_type": "markdown",
      "source": [
        "Modelo Lineal"
      ],
      "metadata": {
        "id": "gxEf0WKX9Y-A"
      },
      "id": "gxEf0WKX9Y-A"
    },
    {
      "cell_type": "code",
      "source": [
        "X_lineal = X.copy()\n",
        "y_lineal = y.copy()"
      ],
      "metadata": {
        "id": "VZwPs2WNsONL"
      },
      "id": "VZwPs2WNsONL",
      "execution_count": 24,
      "outputs": []
    },
    {
      "cell_type": "code",
      "source": [
        "X.columns"
      ],
      "metadata": {
        "colab": {
          "base_uri": "https://localhost:8080/"
        },
        "id": "a4RKyonWsjJ0",
        "outputId": "a3b2498d-e0b2-4eee-fecf-faafaa3d5991"
      },
      "id": "a4RKyonWsjJ0",
      "execution_count": 25,
      "outputs": [
        {
          "output_type": "execute_result",
          "data": {
            "text/plain": [
              "Index(['genero', 'jubilado', 'pareja', 'dependientes', 'meses_antiguedad',\n",
              "       'servicio_telefono', 'ad.multiples_lineas', 'servicio_internet',\n",
              "       'ad.seguridad_online', 'ad.respaldo_online',\n",
              "       'ad.proteccion_dispositivo', 'ad.soporte_tecnico', 'tv.streaming',\n",
              "       'peliculas.streaming', 'contrato', 'factura_digital', 'metodo_pago',\n",
              "       'cargo.mensual', 'cargo.total'],\n",
              "      dtype='object')"
            ]
          },
          "metadata": {},
          "execution_count": 25
        }
      ]
    },
    {
      "cell_type": "markdown",
      "source": [
        "### Encoding"
      ],
      "metadata": {
        "id": "tvS5cMBa7k0j"
      },
      "id": "tvS5cMBa7k0j"
    },
    {
      "cell_type": "markdown",
      "source": [
        "Transforma las variables categóricas a formato numérico para hacerlas compatibles con los algoritmos de _machine learning_. Utiliza un método de codificación adecuado, como **one-hot encoding**."
      ],
      "metadata": {
        "id": "8_1atqcp7sZK"
      },
      "id": "8_1atqcp7sZK"
    },
    {
      "cell_type": "markdown",
      "source": [
        "Transformadores (`make_column_transformer`)"
      ],
      "metadata": {
        "id": "X9Mgwv15Tcbe"
      },
      "id": "X9Mgwv15Tcbe"
    },
    {
      "cell_type": "code",
      "source": [
        "one_hot = make_column_transformer(\n",
        "                    (OneHotEncoder(drop='if_binary'), Categorias), # drop='if_binary' ➝ elimina una categoría si hay solo dos (evita duplicados).\n",
        "                    remainder='passthrough', # remainder='passthrough' ➝ las columnas numéricas se dejan como están.\n",
        "                    sparse_threshold=0,\n",
        "                    force_int_remainder_cols=False\n",
        ")"
      ],
      "metadata": {
        "id": "NAeP8DSevoNN"
      },
      "id": "NAeP8DSevoNN",
      "execution_count": null,
      "outputs": []
    },
    {
      "cell_type": "markdown",
      "source": [
        "Modelo lineal"
      ],
      "metadata": {
        "id": "P5OH2BiMTly-"
      },
      "id": "P5OH2BiMTly-"
    },
    {
      "cell_type": "code",
      "source": [
        "one_hot_lineal = make_column_transformer(\n",
        "                    (OneHotEncoder(drop='first'), Categorias), # drop='first' ➝ elimina la primera categoría de todas para evitar multicolinealidad (útil para regresión lineal).\n",
        "                    remainder='passthrough', # remainder='passthrough' ➝ las columnas numéricas se dejan como están.\n",
        "                    sparse_threshold=0,\n",
        "                    force_int_remainder_cols=False\n",
        ")\n",
        "\n",
        "label_encoder = LabelEncoder()"
      ],
      "metadata": {
        "id": "kQZZsHSzz8gJ"
      },
      "id": "kQZZsHSzz8gJ",
      "execution_count": null,
      "outputs": []
    },
    {
      "cell_type": "markdown",
      "source": [
        "Aplicar los transformadores:"
      ],
      "metadata": {
        "id": "PoP318i0TsUu"
      },
      "id": "PoP318i0TsUu"
    },
    {
      "cell_type": "code",
      "source": [
        "X = one_hot.fit_transform(X)\n",
        "X_lineal = one_hot_lineal.fit_transform(X_lineal)\n",
        "\n",
        "y = label_encoder.fit_transform(y)\n",
        "y_lineal = label_encoder.fit_transform(y_lineal)"
      ],
      "metadata": {
        "id": "ZCMODdvcvo9s"
      },
      "id": "ZCMODdvcvo9s",
      "execution_count": null,
      "outputs": []
    },
    {
      "cell_type": "code",
      "source": [
        "X"
      ],
      "metadata": {
        "colab": {
          "base_uri": "https://localhost:8080/"
        },
        "id": "lQp0e7YMWRoK",
        "outputId": "eaa6b524-46e9-4ed6-cf4a-06d067944ec4"
      },
      "id": "lQp0e7YMWRoK",
      "execution_count": null,
      "outputs": [
        {
          "output_type": "execute_result",
          "data": {
            "text/plain": [
              "array([[0.00000e+00, 0.00000e+00, 1.00000e+00, ..., 9.00000e+00,\n",
              "        6.56000e+01, 5.93300e+02],\n",
              "       [1.00000e+00, 0.00000e+00, 0.00000e+00, ..., 9.00000e+00,\n",
              "        5.99000e+01, 5.42400e+02],\n",
              "       [1.00000e+00, 0.00000e+00, 0.00000e+00, ..., 4.00000e+00,\n",
              "        7.39000e+01, 2.80850e+02],\n",
              "       ...,\n",
              "       [1.00000e+00, 0.00000e+00, 0.00000e+00, ..., 2.00000e+00,\n",
              "        5.03000e+01, 9.27500e+01],\n",
              "       [1.00000e+00, 0.00000e+00, 1.00000e+00, ..., 6.70000e+01,\n",
              "        6.78500e+01, 4.62765e+03],\n",
              "       [1.00000e+00, 0.00000e+00, 1.00000e+00, ..., 6.30000e+01,\n",
              "        5.90000e+01, 3.70760e+03]])"
            ]
          },
          "metadata": {},
          "execution_count": 58
        }
      ]
    },
    {
      "cell_type": "markdown",
      "source": [
        "Obtener nombres de columnas codificadas:"
      ],
      "metadata": {
        "id": "XGIWzh6vWkYx"
      },
      "id": "XGIWzh6vWkYx"
    },
    {
      "cell_type": "code",
      "source": [
        "columnas = one_hot.get_feature_names_out()\n",
        "\n",
        "columnas_encoded = []\n",
        "for columna in columnas:\n",
        "    columna = columna.split('__')[1]\n",
        "    columnas_encoded.append(columna)"
      ],
      "metadata": {
        "id": "C9j3v1QbvsV0"
      },
      "id": "C9j3v1QbvsV0",
      "execution_count": null,
      "outputs": []
    },
    {
      "cell_type": "markdown",
      "source": [
        "Transformacion a Df"
      ],
      "metadata": {
        "id": "I8Cgk5tmXSqg"
      },
      "id": "I8Cgk5tmXSqg"
    },
    {
      "cell_type": "code",
      "source": [
        "Df_No_lineal = pd.DataFrame(X, columns=columnas_encoded)\n",
        "Df_No_lineal_y = pd.DataFrame(y, columns=['abandono_cliente_si'])\n",
        "Df_No_lineal = pd.concat([Df_No_lineal, Df_No_lineal_y], axis=1)\n",
        "Df_No_lineal.head()"
      ],
      "metadata": {
        "colab": {
          "base_uri": "https://localhost:8080/",
          "height": 290
        },
        "id": "WYTf9VCevuVc",
        "outputId": "99bbabce-f932-4ca5-982b-e2ba9a281646"
      },
      "id": "WYTf9VCevuVc",
      "execution_count": null,
      "outputs": [
        {
          "output_type": "execute_result",
          "data": {
            "text/plain": [
              "   genero_Masculino  jubilado_True  pareja_Si  dependientes_Si  \\\n",
              "0               0.0            0.0        1.0              1.0   \n",
              "1               1.0            0.0        0.0              0.0   \n",
              "2               1.0            0.0        0.0              0.0   \n",
              "3               1.0            1.0        1.0              0.0   \n",
              "4               0.0            1.0        1.0              0.0   \n",
              "\n",
              "   servicio_telefono_Si  ad.multiples_lineas_No  ad.multiples_lineas_Si  \\\n",
              "0                   1.0                     1.0                     0.0   \n",
              "1                   1.0                     0.0                     1.0   \n",
              "2                   1.0                     1.0                     0.0   \n",
              "3                   1.0                     1.0                     0.0   \n",
              "4                   1.0                     1.0                     0.0   \n",
              "\n",
              "   ad.multiples_lineas_Sin servicio telefónico  servicio_internet_DSL  \\\n",
              "0                                          0.0                    1.0   \n",
              "1                                          0.0                    1.0   \n",
              "2                                          0.0                    0.0   \n",
              "3                                          0.0                    0.0   \n",
              "4                                          0.0                    0.0   \n",
              "\n",
              "   servicio_internet_Fibra óptica  ...  contrato_Un año  factura_digital_Si  \\\n",
              "0                             0.0  ...              1.0                 1.0   \n",
              "1                             0.0  ...              0.0                 0.0   \n",
              "2                             1.0  ...              0.0                 1.0   \n",
              "3                             1.0  ...              0.0                 1.0   \n",
              "4                             1.0  ...              0.0                 1.0   \n",
              "\n",
              "   metodo_pago_Cheque electrónico  metodo_pago_Cheque por correo  \\\n",
              "0                             0.0                            1.0   \n",
              "1                             0.0                            1.0   \n",
              "2                             1.0                            0.0   \n",
              "3                             1.0                            0.0   \n",
              "4                             0.0                            1.0   \n",
              "\n",
              "   metodo_pago_Tarjeta de crédito (automática)  \\\n",
              "0                                          0.0   \n",
              "1                                          0.0   \n",
              "2                                          0.0   \n",
              "3                                          0.0   \n",
              "4                                          0.0   \n",
              "\n",
              "   metodo_pago_Transferencia bancaria (automática)  meses_antiguedad  \\\n",
              "0                                              0.0               9.0   \n",
              "1                                              0.0               9.0   \n",
              "2                                              0.0               4.0   \n",
              "3                                              0.0              13.0   \n",
              "4                                              0.0               3.0   \n",
              "\n",
              "   cargo.mensual  cargo.total  abandono_cliente_si  \n",
              "0           65.6       593.30                    0  \n",
              "1           59.9       542.40                    0  \n",
              "2           73.9       280.85                    1  \n",
              "3           98.0      1237.85                    1  \n",
              "4           83.9       267.40                    1  \n",
              "\n",
              "[5 rows x 41 columns]"
            ],
            "text/html": [
              "\n",
              "  <div id=\"df-a912e77a-1513-4caa-b795-37384826d123\" class=\"colab-df-container\">\n",
              "    <div>\n",
              "<style scoped>\n",
              "    .dataframe tbody tr th:only-of-type {\n",
              "        vertical-align: middle;\n",
              "    }\n",
              "\n",
              "    .dataframe tbody tr th {\n",
              "        vertical-align: top;\n",
              "    }\n",
              "\n",
              "    .dataframe thead th {\n",
              "        text-align: right;\n",
              "    }\n",
              "</style>\n",
              "<table border=\"1\" class=\"dataframe\">\n",
              "  <thead>\n",
              "    <tr style=\"text-align: right;\">\n",
              "      <th></th>\n",
              "      <th>genero_Masculino</th>\n",
              "      <th>jubilado_True</th>\n",
              "      <th>pareja_Si</th>\n",
              "      <th>dependientes_Si</th>\n",
              "      <th>servicio_telefono_Si</th>\n",
              "      <th>ad.multiples_lineas_No</th>\n",
              "      <th>ad.multiples_lineas_Si</th>\n",
              "      <th>ad.multiples_lineas_Sin servicio telefónico</th>\n",
              "      <th>servicio_internet_DSL</th>\n",
              "      <th>servicio_internet_Fibra óptica</th>\n",
              "      <th>...</th>\n",
              "      <th>contrato_Un año</th>\n",
              "      <th>factura_digital_Si</th>\n",
              "      <th>metodo_pago_Cheque electrónico</th>\n",
              "      <th>metodo_pago_Cheque por correo</th>\n",
              "      <th>metodo_pago_Tarjeta de crédito (automática)</th>\n",
              "      <th>metodo_pago_Transferencia bancaria (automática)</th>\n",
              "      <th>meses_antiguedad</th>\n",
              "      <th>cargo.mensual</th>\n",
              "      <th>cargo.total</th>\n",
              "      <th>abandono_cliente_si</th>\n",
              "    </tr>\n",
              "  </thead>\n",
              "  <tbody>\n",
              "    <tr>\n",
              "      <th>0</th>\n",
              "      <td>0.0</td>\n",
              "      <td>0.0</td>\n",
              "      <td>1.0</td>\n",
              "      <td>1.0</td>\n",
              "      <td>1.0</td>\n",
              "      <td>1.0</td>\n",
              "      <td>0.0</td>\n",
              "      <td>0.0</td>\n",
              "      <td>1.0</td>\n",
              "      <td>0.0</td>\n",
              "      <td>...</td>\n",
              "      <td>1.0</td>\n",
              "      <td>1.0</td>\n",
              "      <td>0.0</td>\n",
              "      <td>1.0</td>\n",
              "      <td>0.0</td>\n",
              "      <td>0.0</td>\n",
              "      <td>9.0</td>\n",
              "      <td>65.6</td>\n",
              "      <td>593.30</td>\n",
              "      <td>0</td>\n",
              "    </tr>\n",
              "    <tr>\n",
              "      <th>1</th>\n",
              "      <td>1.0</td>\n",
              "      <td>0.0</td>\n",
              "      <td>0.0</td>\n",
              "      <td>0.0</td>\n",
              "      <td>1.0</td>\n",
              "      <td>0.0</td>\n",
              "      <td>1.0</td>\n",
              "      <td>0.0</td>\n",
              "      <td>1.0</td>\n",
              "      <td>0.0</td>\n",
              "      <td>...</td>\n",
              "      <td>0.0</td>\n",
              "      <td>0.0</td>\n",
              "      <td>0.0</td>\n",
              "      <td>1.0</td>\n",
              "      <td>0.0</td>\n",
              "      <td>0.0</td>\n",
              "      <td>9.0</td>\n",
              "      <td>59.9</td>\n",
              "      <td>542.40</td>\n",
              "      <td>0</td>\n",
              "    </tr>\n",
              "    <tr>\n",
              "      <th>2</th>\n",
              "      <td>1.0</td>\n",
              "      <td>0.0</td>\n",
              "      <td>0.0</td>\n",
              "      <td>0.0</td>\n",
              "      <td>1.0</td>\n",
              "      <td>1.0</td>\n",
              "      <td>0.0</td>\n",
              "      <td>0.0</td>\n",
              "      <td>0.0</td>\n",
              "      <td>1.0</td>\n",
              "      <td>...</td>\n",
              "      <td>0.0</td>\n",
              "      <td>1.0</td>\n",
              "      <td>1.0</td>\n",
              "      <td>0.0</td>\n",
              "      <td>0.0</td>\n",
              "      <td>0.0</td>\n",
              "      <td>4.0</td>\n",
              "      <td>73.9</td>\n",
              "      <td>280.85</td>\n",
              "      <td>1</td>\n",
              "    </tr>\n",
              "    <tr>\n",
              "      <th>3</th>\n",
              "      <td>1.0</td>\n",
              "      <td>1.0</td>\n",
              "      <td>1.0</td>\n",
              "      <td>0.0</td>\n",
              "      <td>1.0</td>\n",
              "      <td>1.0</td>\n",
              "      <td>0.0</td>\n",
              "      <td>0.0</td>\n",
              "      <td>0.0</td>\n",
              "      <td>1.0</td>\n",
              "      <td>...</td>\n",
              "      <td>0.0</td>\n",
              "      <td>1.0</td>\n",
              "      <td>1.0</td>\n",
              "      <td>0.0</td>\n",
              "      <td>0.0</td>\n",
              "      <td>0.0</td>\n",
              "      <td>13.0</td>\n",
              "      <td>98.0</td>\n",
              "      <td>1237.85</td>\n",
              "      <td>1</td>\n",
              "    </tr>\n",
              "    <tr>\n",
              "      <th>4</th>\n",
              "      <td>0.0</td>\n",
              "      <td>1.0</td>\n",
              "      <td>1.0</td>\n",
              "      <td>0.0</td>\n",
              "      <td>1.0</td>\n",
              "      <td>1.0</td>\n",
              "      <td>0.0</td>\n",
              "      <td>0.0</td>\n",
              "      <td>0.0</td>\n",
              "      <td>1.0</td>\n",
              "      <td>...</td>\n",
              "      <td>0.0</td>\n",
              "      <td>1.0</td>\n",
              "      <td>0.0</td>\n",
              "      <td>1.0</td>\n",
              "      <td>0.0</td>\n",
              "      <td>0.0</td>\n",
              "      <td>3.0</td>\n",
              "      <td>83.9</td>\n",
              "      <td>267.40</td>\n",
              "      <td>1</td>\n",
              "    </tr>\n",
              "  </tbody>\n",
              "</table>\n",
              "<p>5 rows × 41 columns</p>\n",
              "</div>\n",
              "    <div class=\"colab-df-buttons\">\n",
              "\n",
              "  <div class=\"colab-df-container\">\n",
              "    <button class=\"colab-df-convert\" onclick=\"convertToInteractive('df-a912e77a-1513-4caa-b795-37384826d123')\"\n",
              "            title=\"Convert this dataframe to an interactive table.\"\n",
              "            style=\"display:none;\">\n",
              "\n",
              "  <svg xmlns=\"http://www.w3.org/2000/svg\" height=\"24px\" viewBox=\"0 -960 960 960\">\n",
              "    <path d=\"M120-120v-720h720v720H120Zm60-500h600v-160H180v160Zm220 220h160v-160H400v160Zm0 220h160v-160H400v160ZM180-400h160v-160H180v160Zm440 0h160v-160H620v160ZM180-180h160v-160H180v160Zm440 0h160v-160H620v160Z\"/>\n",
              "  </svg>\n",
              "    </button>\n",
              "\n",
              "  <style>\n",
              "    .colab-df-container {\n",
              "      display:flex;\n",
              "      gap: 12px;\n",
              "    }\n",
              "\n",
              "    .colab-df-convert {\n",
              "      background-color: #E8F0FE;\n",
              "      border: none;\n",
              "      border-radius: 50%;\n",
              "      cursor: pointer;\n",
              "      display: none;\n",
              "      fill: #1967D2;\n",
              "      height: 32px;\n",
              "      padding: 0 0 0 0;\n",
              "      width: 32px;\n",
              "    }\n",
              "\n",
              "    .colab-df-convert:hover {\n",
              "      background-color: #E2EBFA;\n",
              "      box-shadow: 0px 1px 2px rgba(60, 64, 67, 0.3), 0px 1px 3px 1px rgba(60, 64, 67, 0.15);\n",
              "      fill: #174EA6;\n",
              "    }\n",
              "\n",
              "    .colab-df-buttons div {\n",
              "      margin-bottom: 4px;\n",
              "    }\n",
              "\n",
              "    [theme=dark] .colab-df-convert {\n",
              "      background-color: #3B4455;\n",
              "      fill: #D2E3FC;\n",
              "    }\n",
              "\n",
              "    [theme=dark] .colab-df-convert:hover {\n",
              "      background-color: #434B5C;\n",
              "      box-shadow: 0px 1px 3px 1px rgba(0, 0, 0, 0.15);\n",
              "      filter: drop-shadow(0px 1px 2px rgba(0, 0, 0, 0.3));\n",
              "      fill: #FFFFFF;\n",
              "    }\n",
              "  </style>\n",
              "\n",
              "    <script>\n",
              "      const buttonEl =\n",
              "        document.querySelector('#df-a912e77a-1513-4caa-b795-37384826d123 button.colab-df-convert');\n",
              "      buttonEl.style.display =\n",
              "        google.colab.kernel.accessAllowed ? 'block' : 'none';\n",
              "\n",
              "      async function convertToInteractive(key) {\n",
              "        const element = document.querySelector('#df-a912e77a-1513-4caa-b795-37384826d123');\n",
              "        const dataTable =\n",
              "          await google.colab.kernel.invokeFunction('convertToInteractive',\n",
              "                                                    [key], {});\n",
              "        if (!dataTable) return;\n",
              "\n",
              "        const docLinkHtml = 'Like what you see? Visit the ' +\n",
              "          '<a target=\"_blank\" href=https://colab.research.google.com/notebooks/data_table.ipynb>data table notebook</a>'\n",
              "          + ' to learn more about interactive tables.';\n",
              "        element.innerHTML = '';\n",
              "        dataTable['output_type'] = 'display_data';\n",
              "        await google.colab.output.renderOutput(dataTable, element);\n",
              "        const docLink = document.createElement('div');\n",
              "        docLink.innerHTML = docLinkHtml;\n",
              "        element.appendChild(docLink);\n",
              "      }\n",
              "    </script>\n",
              "  </div>\n",
              "\n",
              "\n",
              "    <div id=\"df-8d2d2dd6-bde0-4c94-81c9-3cc62b3db9ac\">\n",
              "      <button class=\"colab-df-quickchart\" onclick=\"quickchart('df-8d2d2dd6-bde0-4c94-81c9-3cc62b3db9ac')\"\n",
              "                title=\"Suggest charts\"\n",
              "                style=\"display:none;\">\n",
              "\n",
              "<svg xmlns=\"http://www.w3.org/2000/svg\" height=\"24px\"viewBox=\"0 0 24 24\"\n",
              "     width=\"24px\">\n",
              "    <g>\n",
              "        <path d=\"M19 3H5c-1.1 0-2 .9-2 2v14c0 1.1.9 2 2 2h14c1.1 0 2-.9 2-2V5c0-1.1-.9-2-2-2zM9 17H7v-7h2v7zm4 0h-2V7h2v10zm4 0h-2v-4h2v4z\"/>\n",
              "    </g>\n",
              "</svg>\n",
              "      </button>\n",
              "\n",
              "<style>\n",
              "  .colab-df-quickchart {\n",
              "      --bg-color: #E8F0FE;\n",
              "      --fill-color: #1967D2;\n",
              "      --hover-bg-color: #E2EBFA;\n",
              "      --hover-fill-color: #174EA6;\n",
              "      --disabled-fill-color: #AAA;\n",
              "      --disabled-bg-color: #DDD;\n",
              "  }\n",
              "\n",
              "  [theme=dark] .colab-df-quickchart {\n",
              "      --bg-color: #3B4455;\n",
              "      --fill-color: #D2E3FC;\n",
              "      --hover-bg-color: #434B5C;\n",
              "      --hover-fill-color: #FFFFFF;\n",
              "      --disabled-bg-color: #3B4455;\n",
              "      --disabled-fill-color: #666;\n",
              "  }\n",
              "\n",
              "  .colab-df-quickchart {\n",
              "    background-color: var(--bg-color);\n",
              "    border: none;\n",
              "    border-radius: 50%;\n",
              "    cursor: pointer;\n",
              "    display: none;\n",
              "    fill: var(--fill-color);\n",
              "    height: 32px;\n",
              "    padding: 0;\n",
              "    width: 32px;\n",
              "  }\n",
              "\n",
              "  .colab-df-quickchart:hover {\n",
              "    background-color: var(--hover-bg-color);\n",
              "    box-shadow: 0 1px 2px rgba(60, 64, 67, 0.3), 0 1px 3px 1px rgba(60, 64, 67, 0.15);\n",
              "    fill: var(--button-hover-fill-color);\n",
              "  }\n",
              "\n",
              "  .colab-df-quickchart-complete:disabled,\n",
              "  .colab-df-quickchart-complete:disabled:hover {\n",
              "    background-color: var(--disabled-bg-color);\n",
              "    fill: var(--disabled-fill-color);\n",
              "    box-shadow: none;\n",
              "  }\n",
              "\n",
              "  .colab-df-spinner {\n",
              "    border: 2px solid var(--fill-color);\n",
              "    border-color: transparent;\n",
              "    border-bottom-color: var(--fill-color);\n",
              "    animation:\n",
              "      spin 1s steps(1) infinite;\n",
              "  }\n",
              "\n",
              "  @keyframes spin {\n",
              "    0% {\n",
              "      border-color: transparent;\n",
              "      border-bottom-color: var(--fill-color);\n",
              "      border-left-color: var(--fill-color);\n",
              "    }\n",
              "    20% {\n",
              "      border-color: transparent;\n",
              "      border-left-color: var(--fill-color);\n",
              "      border-top-color: var(--fill-color);\n",
              "    }\n",
              "    30% {\n",
              "      border-color: transparent;\n",
              "      border-left-color: var(--fill-color);\n",
              "      border-top-color: var(--fill-color);\n",
              "      border-right-color: var(--fill-color);\n",
              "    }\n",
              "    40% {\n",
              "      border-color: transparent;\n",
              "      border-right-color: var(--fill-color);\n",
              "      border-top-color: var(--fill-color);\n",
              "    }\n",
              "    60% {\n",
              "      border-color: transparent;\n",
              "      border-right-color: var(--fill-color);\n",
              "    }\n",
              "    80% {\n",
              "      border-color: transparent;\n",
              "      border-right-color: var(--fill-color);\n",
              "      border-bottom-color: var(--fill-color);\n",
              "    }\n",
              "    90% {\n",
              "      border-color: transparent;\n",
              "      border-bottom-color: var(--fill-color);\n",
              "    }\n",
              "  }\n",
              "</style>\n",
              "\n",
              "      <script>\n",
              "        async function quickchart(key) {\n",
              "          const quickchartButtonEl =\n",
              "            document.querySelector('#' + key + ' button');\n",
              "          quickchartButtonEl.disabled = true;  // To prevent multiple clicks.\n",
              "          quickchartButtonEl.classList.add('colab-df-spinner');\n",
              "          try {\n",
              "            const charts = await google.colab.kernel.invokeFunction(\n",
              "                'suggestCharts', [key], {});\n",
              "          } catch (error) {\n",
              "            console.error('Error during call to suggestCharts:', error);\n",
              "          }\n",
              "          quickchartButtonEl.classList.remove('colab-df-spinner');\n",
              "          quickchartButtonEl.classList.add('colab-df-quickchart-complete');\n",
              "        }\n",
              "        (() => {\n",
              "          let quickchartButtonEl =\n",
              "            document.querySelector('#df-8d2d2dd6-bde0-4c94-81c9-3cc62b3db9ac button');\n",
              "          quickchartButtonEl.style.display =\n",
              "            google.colab.kernel.accessAllowed ? 'block' : 'none';\n",
              "        })();\n",
              "      </script>\n",
              "    </div>\n",
              "\n",
              "    </div>\n",
              "  </div>\n"
            ],
            "application/vnd.google.colaboratory.intrinsic+json": {
              "type": "dataframe",
              "variable_name": "Df_No_lineal"
            }
          },
          "metadata": {},
          "execution_count": 60
        }
      ]
    },
    {
      "cell_type": "code",
      "source": [
        "columnas = one_hot_lineal.get_feature_names_out()\n",
        "\n",
        "columnas_encoded = []\n",
        "for columna in columnas:\n",
        "    columna = columna.split('__')[1]\n",
        "    columnas_encoded.append(columna)"
      ],
      "metadata": {
        "id": "TNwXYoh7vxKM"
      },
      "id": "TNwXYoh7vxKM",
      "execution_count": null,
      "outputs": []
    },
    {
      "cell_type": "code",
      "source": [
        "Df_lineal = pd.DataFrame(X_lineal, columns=columnas_encoded)\n",
        "Df_y_lineal = pd.DataFrame(y_lineal, columns=['abandono_cliente_si'])\n",
        "Df_lineal = pd.concat([Df_lineal, Df_y_lineal], axis=1)\n",
        "Df_lineal.head()"
      ],
      "metadata": {
        "colab": {
          "base_uri": "https://localhost:8080/",
          "height": 290
        },
        "id": "HTJxXkdTvy58",
        "outputId": "05649e2a-0214-42c8-80fb-0837932f39c5"
      },
      "id": "HTJxXkdTvy58",
      "execution_count": null,
      "outputs": [
        {
          "output_type": "execute_result",
          "data": {
            "text/plain": [
              "   genero_Masculino  jubilado_True  pareja_Si  dependientes_Si  \\\n",
              "0               0.0            0.0        1.0              1.0   \n",
              "1               1.0            0.0        0.0              0.0   \n",
              "2               1.0            0.0        0.0              0.0   \n",
              "3               1.0            1.0        1.0              0.0   \n",
              "4               0.0            1.0        1.0              0.0   \n",
              "\n",
              "   servicio_telefono_Si  ad.multiples_lineas_Si  \\\n",
              "0                   1.0                     0.0   \n",
              "1                   1.0                     1.0   \n",
              "2                   1.0                     0.0   \n",
              "3                   1.0                     0.0   \n",
              "4                   1.0                     0.0   \n",
              "\n",
              "   ad.multiples_lineas_Sin servicio telefónico  \\\n",
              "0                                          0.0   \n",
              "1                                          0.0   \n",
              "2                                          0.0   \n",
              "3                                          0.0   \n",
              "4                                          0.0   \n",
              "\n",
              "   servicio_internet_Fibra óptica  servicio_internet_No  \\\n",
              "0                             0.0                   0.0   \n",
              "1                             0.0                   0.0   \n",
              "2                             1.0                   0.0   \n",
              "3                             1.0                   0.0   \n",
              "4                             1.0                   0.0   \n",
              "\n",
              "   ad.seguridad_online_Si  ...  contrato_Mes a mes  contrato_Un año  \\\n",
              "0                     0.0  ...                 0.0              1.0   \n",
              "1                     0.0  ...                 1.0              0.0   \n",
              "2                     0.0  ...                 1.0              0.0   \n",
              "3                     0.0  ...                 1.0              0.0   \n",
              "4                     0.0  ...                 1.0              0.0   \n",
              "\n",
              "   factura_digital_Si  metodo_pago_Cheque por correo  \\\n",
              "0                 1.0                            1.0   \n",
              "1                 0.0                            1.0   \n",
              "2                 1.0                            0.0   \n",
              "3                 1.0                            0.0   \n",
              "4                 1.0                            1.0   \n",
              "\n",
              "   metodo_pago_Tarjeta de crédito (automática)  \\\n",
              "0                                          0.0   \n",
              "1                                          0.0   \n",
              "2                                          0.0   \n",
              "3                                          0.0   \n",
              "4                                          0.0   \n",
              "\n",
              "   metodo_pago_Transferencia bancaria (automática)  meses_antiguedad  \\\n",
              "0                                              0.0               9.0   \n",
              "1                                              0.0               9.0   \n",
              "2                                              0.0               4.0   \n",
              "3                                              0.0              13.0   \n",
              "4                                              0.0               3.0   \n",
              "\n",
              "   cargo.mensual  cargo.total  abandono_cliente_si  \n",
              "0           65.6       593.30                    0  \n",
              "1           59.9       542.40                    0  \n",
              "2           73.9       280.85                    1  \n",
              "3           98.0      1237.85                    1  \n",
              "4           83.9       267.40                    1  \n",
              "\n",
              "[5 rows x 31 columns]"
            ],
            "text/html": [
              "\n",
              "  <div id=\"df-9ccecb84-3dc3-479a-89aa-7e9bda2f8c36\" class=\"colab-df-container\">\n",
              "    <div>\n",
              "<style scoped>\n",
              "    .dataframe tbody tr th:only-of-type {\n",
              "        vertical-align: middle;\n",
              "    }\n",
              "\n",
              "    .dataframe tbody tr th {\n",
              "        vertical-align: top;\n",
              "    }\n",
              "\n",
              "    .dataframe thead th {\n",
              "        text-align: right;\n",
              "    }\n",
              "</style>\n",
              "<table border=\"1\" class=\"dataframe\">\n",
              "  <thead>\n",
              "    <tr style=\"text-align: right;\">\n",
              "      <th></th>\n",
              "      <th>genero_Masculino</th>\n",
              "      <th>jubilado_True</th>\n",
              "      <th>pareja_Si</th>\n",
              "      <th>dependientes_Si</th>\n",
              "      <th>servicio_telefono_Si</th>\n",
              "      <th>ad.multiples_lineas_Si</th>\n",
              "      <th>ad.multiples_lineas_Sin servicio telefónico</th>\n",
              "      <th>servicio_internet_Fibra óptica</th>\n",
              "      <th>servicio_internet_No</th>\n",
              "      <th>ad.seguridad_online_Si</th>\n",
              "      <th>...</th>\n",
              "      <th>contrato_Mes a mes</th>\n",
              "      <th>contrato_Un año</th>\n",
              "      <th>factura_digital_Si</th>\n",
              "      <th>metodo_pago_Cheque por correo</th>\n",
              "      <th>metodo_pago_Tarjeta de crédito (automática)</th>\n",
              "      <th>metodo_pago_Transferencia bancaria (automática)</th>\n",
              "      <th>meses_antiguedad</th>\n",
              "      <th>cargo.mensual</th>\n",
              "      <th>cargo.total</th>\n",
              "      <th>abandono_cliente_si</th>\n",
              "    </tr>\n",
              "  </thead>\n",
              "  <tbody>\n",
              "    <tr>\n",
              "      <th>0</th>\n",
              "      <td>0.0</td>\n",
              "      <td>0.0</td>\n",
              "      <td>1.0</td>\n",
              "      <td>1.0</td>\n",
              "      <td>1.0</td>\n",
              "      <td>0.0</td>\n",
              "      <td>0.0</td>\n",
              "      <td>0.0</td>\n",
              "      <td>0.0</td>\n",
              "      <td>0.0</td>\n",
              "      <td>...</td>\n",
              "      <td>0.0</td>\n",
              "      <td>1.0</td>\n",
              "      <td>1.0</td>\n",
              "      <td>1.0</td>\n",
              "      <td>0.0</td>\n",
              "      <td>0.0</td>\n",
              "      <td>9.0</td>\n",
              "      <td>65.6</td>\n",
              "      <td>593.30</td>\n",
              "      <td>0</td>\n",
              "    </tr>\n",
              "    <tr>\n",
              "      <th>1</th>\n",
              "      <td>1.0</td>\n",
              "      <td>0.0</td>\n",
              "      <td>0.0</td>\n",
              "      <td>0.0</td>\n",
              "      <td>1.0</td>\n",
              "      <td>1.0</td>\n",
              "      <td>0.0</td>\n",
              "      <td>0.0</td>\n",
              "      <td>0.0</td>\n",
              "      <td>0.0</td>\n",
              "      <td>...</td>\n",
              "      <td>1.0</td>\n",
              "      <td>0.0</td>\n",
              "      <td>0.0</td>\n",
              "      <td>1.0</td>\n",
              "      <td>0.0</td>\n",
              "      <td>0.0</td>\n",
              "      <td>9.0</td>\n",
              "      <td>59.9</td>\n",
              "      <td>542.40</td>\n",
              "      <td>0</td>\n",
              "    </tr>\n",
              "    <tr>\n",
              "      <th>2</th>\n",
              "      <td>1.0</td>\n",
              "      <td>0.0</td>\n",
              "      <td>0.0</td>\n",
              "      <td>0.0</td>\n",
              "      <td>1.0</td>\n",
              "      <td>0.0</td>\n",
              "      <td>0.0</td>\n",
              "      <td>1.0</td>\n",
              "      <td>0.0</td>\n",
              "      <td>0.0</td>\n",
              "      <td>...</td>\n",
              "      <td>1.0</td>\n",
              "      <td>0.0</td>\n",
              "      <td>1.0</td>\n",
              "      <td>0.0</td>\n",
              "      <td>0.0</td>\n",
              "      <td>0.0</td>\n",
              "      <td>4.0</td>\n",
              "      <td>73.9</td>\n",
              "      <td>280.85</td>\n",
              "      <td>1</td>\n",
              "    </tr>\n",
              "    <tr>\n",
              "      <th>3</th>\n",
              "      <td>1.0</td>\n",
              "      <td>1.0</td>\n",
              "      <td>1.0</td>\n",
              "      <td>0.0</td>\n",
              "      <td>1.0</td>\n",
              "      <td>0.0</td>\n",
              "      <td>0.0</td>\n",
              "      <td>1.0</td>\n",
              "      <td>0.0</td>\n",
              "      <td>0.0</td>\n",
              "      <td>...</td>\n",
              "      <td>1.0</td>\n",
              "      <td>0.0</td>\n",
              "      <td>1.0</td>\n",
              "      <td>0.0</td>\n",
              "      <td>0.0</td>\n",
              "      <td>0.0</td>\n",
              "      <td>13.0</td>\n",
              "      <td>98.0</td>\n",
              "      <td>1237.85</td>\n",
              "      <td>1</td>\n",
              "    </tr>\n",
              "    <tr>\n",
              "      <th>4</th>\n",
              "      <td>0.0</td>\n",
              "      <td>1.0</td>\n",
              "      <td>1.0</td>\n",
              "      <td>0.0</td>\n",
              "      <td>1.0</td>\n",
              "      <td>0.0</td>\n",
              "      <td>0.0</td>\n",
              "      <td>1.0</td>\n",
              "      <td>0.0</td>\n",
              "      <td>0.0</td>\n",
              "      <td>...</td>\n",
              "      <td>1.0</td>\n",
              "      <td>0.0</td>\n",
              "      <td>1.0</td>\n",
              "      <td>1.0</td>\n",
              "      <td>0.0</td>\n",
              "      <td>0.0</td>\n",
              "      <td>3.0</td>\n",
              "      <td>83.9</td>\n",
              "      <td>267.40</td>\n",
              "      <td>1</td>\n",
              "    </tr>\n",
              "  </tbody>\n",
              "</table>\n",
              "<p>5 rows × 31 columns</p>\n",
              "</div>\n",
              "    <div class=\"colab-df-buttons\">\n",
              "\n",
              "  <div class=\"colab-df-container\">\n",
              "    <button class=\"colab-df-convert\" onclick=\"convertToInteractive('df-9ccecb84-3dc3-479a-89aa-7e9bda2f8c36')\"\n",
              "            title=\"Convert this dataframe to an interactive table.\"\n",
              "            style=\"display:none;\">\n",
              "\n",
              "  <svg xmlns=\"http://www.w3.org/2000/svg\" height=\"24px\" viewBox=\"0 -960 960 960\">\n",
              "    <path d=\"M120-120v-720h720v720H120Zm60-500h600v-160H180v160Zm220 220h160v-160H400v160Zm0 220h160v-160H400v160ZM180-400h160v-160H180v160Zm440 0h160v-160H620v160ZM180-180h160v-160H180v160Zm440 0h160v-160H620v160Z\"/>\n",
              "  </svg>\n",
              "    </button>\n",
              "\n",
              "  <style>\n",
              "    .colab-df-container {\n",
              "      display:flex;\n",
              "      gap: 12px;\n",
              "    }\n",
              "\n",
              "    .colab-df-convert {\n",
              "      background-color: #E8F0FE;\n",
              "      border: none;\n",
              "      border-radius: 50%;\n",
              "      cursor: pointer;\n",
              "      display: none;\n",
              "      fill: #1967D2;\n",
              "      height: 32px;\n",
              "      padding: 0 0 0 0;\n",
              "      width: 32px;\n",
              "    }\n",
              "\n",
              "    .colab-df-convert:hover {\n",
              "      background-color: #E2EBFA;\n",
              "      box-shadow: 0px 1px 2px rgba(60, 64, 67, 0.3), 0px 1px 3px 1px rgba(60, 64, 67, 0.15);\n",
              "      fill: #174EA6;\n",
              "    }\n",
              "\n",
              "    .colab-df-buttons div {\n",
              "      margin-bottom: 4px;\n",
              "    }\n",
              "\n",
              "    [theme=dark] .colab-df-convert {\n",
              "      background-color: #3B4455;\n",
              "      fill: #D2E3FC;\n",
              "    }\n",
              "\n",
              "    [theme=dark] .colab-df-convert:hover {\n",
              "      background-color: #434B5C;\n",
              "      box-shadow: 0px 1px 3px 1px rgba(0, 0, 0, 0.15);\n",
              "      filter: drop-shadow(0px 1px 2px rgba(0, 0, 0, 0.3));\n",
              "      fill: #FFFFFF;\n",
              "    }\n",
              "  </style>\n",
              "\n",
              "    <script>\n",
              "      const buttonEl =\n",
              "        document.querySelector('#df-9ccecb84-3dc3-479a-89aa-7e9bda2f8c36 button.colab-df-convert');\n",
              "      buttonEl.style.display =\n",
              "        google.colab.kernel.accessAllowed ? 'block' : 'none';\n",
              "\n",
              "      async function convertToInteractive(key) {\n",
              "        const element = document.querySelector('#df-9ccecb84-3dc3-479a-89aa-7e9bda2f8c36');\n",
              "        const dataTable =\n",
              "          await google.colab.kernel.invokeFunction('convertToInteractive',\n",
              "                                                    [key], {});\n",
              "        if (!dataTable) return;\n",
              "\n",
              "        const docLinkHtml = 'Like what you see? Visit the ' +\n",
              "          '<a target=\"_blank\" href=https://colab.research.google.com/notebooks/data_table.ipynb>data table notebook</a>'\n",
              "          + ' to learn more about interactive tables.';\n",
              "        element.innerHTML = '';\n",
              "        dataTable['output_type'] = 'display_data';\n",
              "        await google.colab.output.renderOutput(dataTable, element);\n",
              "        const docLink = document.createElement('div');\n",
              "        docLink.innerHTML = docLinkHtml;\n",
              "        element.appendChild(docLink);\n",
              "      }\n",
              "    </script>\n",
              "  </div>\n",
              "\n",
              "\n",
              "    <div id=\"df-065303dd-10f6-4313-b789-39b5373714ea\">\n",
              "      <button class=\"colab-df-quickchart\" onclick=\"quickchart('df-065303dd-10f6-4313-b789-39b5373714ea')\"\n",
              "                title=\"Suggest charts\"\n",
              "                style=\"display:none;\">\n",
              "\n",
              "<svg xmlns=\"http://www.w3.org/2000/svg\" height=\"24px\"viewBox=\"0 0 24 24\"\n",
              "     width=\"24px\">\n",
              "    <g>\n",
              "        <path d=\"M19 3H5c-1.1 0-2 .9-2 2v14c0 1.1.9 2 2 2h14c1.1 0 2-.9 2-2V5c0-1.1-.9-2-2-2zM9 17H7v-7h2v7zm4 0h-2V7h2v10zm4 0h-2v-4h2v4z\"/>\n",
              "    </g>\n",
              "</svg>\n",
              "      </button>\n",
              "\n",
              "<style>\n",
              "  .colab-df-quickchart {\n",
              "      --bg-color: #E8F0FE;\n",
              "      --fill-color: #1967D2;\n",
              "      --hover-bg-color: #E2EBFA;\n",
              "      --hover-fill-color: #174EA6;\n",
              "      --disabled-fill-color: #AAA;\n",
              "      --disabled-bg-color: #DDD;\n",
              "  }\n",
              "\n",
              "  [theme=dark] .colab-df-quickchart {\n",
              "      --bg-color: #3B4455;\n",
              "      --fill-color: #D2E3FC;\n",
              "      --hover-bg-color: #434B5C;\n",
              "      --hover-fill-color: #FFFFFF;\n",
              "      --disabled-bg-color: #3B4455;\n",
              "      --disabled-fill-color: #666;\n",
              "  }\n",
              "\n",
              "  .colab-df-quickchart {\n",
              "    background-color: var(--bg-color);\n",
              "    border: none;\n",
              "    border-radius: 50%;\n",
              "    cursor: pointer;\n",
              "    display: none;\n",
              "    fill: var(--fill-color);\n",
              "    height: 32px;\n",
              "    padding: 0;\n",
              "    width: 32px;\n",
              "  }\n",
              "\n",
              "  .colab-df-quickchart:hover {\n",
              "    background-color: var(--hover-bg-color);\n",
              "    box-shadow: 0 1px 2px rgba(60, 64, 67, 0.3), 0 1px 3px 1px rgba(60, 64, 67, 0.15);\n",
              "    fill: var(--button-hover-fill-color);\n",
              "  }\n",
              "\n",
              "  .colab-df-quickchart-complete:disabled,\n",
              "  .colab-df-quickchart-complete:disabled:hover {\n",
              "    background-color: var(--disabled-bg-color);\n",
              "    fill: var(--disabled-fill-color);\n",
              "    box-shadow: none;\n",
              "  }\n",
              "\n",
              "  .colab-df-spinner {\n",
              "    border: 2px solid var(--fill-color);\n",
              "    border-color: transparent;\n",
              "    border-bottom-color: var(--fill-color);\n",
              "    animation:\n",
              "      spin 1s steps(1) infinite;\n",
              "  }\n",
              "\n",
              "  @keyframes spin {\n",
              "    0% {\n",
              "      border-color: transparent;\n",
              "      border-bottom-color: var(--fill-color);\n",
              "      border-left-color: var(--fill-color);\n",
              "    }\n",
              "    20% {\n",
              "      border-color: transparent;\n",
              "      border-left-color: var(--fill-color);\n",
              "      border-top-color: var(--fill-color);\n",
              "    }\n",
              "    30% {\n",
              "      border-color: transparent;\n",
              "      border-left-color: var(--fill-color);\n",
              "      border-top-color: var(--fill-color);\n",
              "      border-right-color: var(--fill-color);\n",
              "    }\n",
              "    40% {\n",
              "      border-color: transparent;\n",
              "      border-right-color: var(--fill-color);\n",
              "      border-top-color: var(--fill-color);\n",
              "    }\n",
              "    60% {\n",
              "      border-color: transparent;\n",
              "      border-right-color: var(--fill-color);\n",
              "    }\n",
              "    80% {\n",
              "      border-color: transparent;\n",
              "      border-right-color: var(--fill-color);\n",
              "      border-bottom-color: var(--fill-color);\n",
              "    }\n",
              "    90% {\n",
              "      border-color: transparent;\n",
              "      border-bottom-color: var(--fill-color);\n",
              "    }\n",
              "  }\n",
              "</style>\n",
              "\n",
              "      <script>\n",
              "        async function quickchart(key) {\n",
              "          const quickchartButtonEl =\n",
              "            document.querySelector('#' + key + ' button');\n",
              "          quickchartButtonEl.disabled = true;  // To prevent multiple clicks.\n",
              "          quickchartButtonEl.classList.add('colab-df-spinner');\n",
              "          try {\n",
              "            const charts = await google.colab.kernel.invokeFunction(\n",
              "                'suggestCharts', [key], {});\n",
              "          } catch (error) {\n",
              "            console.error('Error during call to suggestCharts:', error);\n",
              "          }\n",
              "          quickchartButtonEl.classList.remove('colab-df-spinner');\n",
              "          quickchartButtonEl.classList.add('colab-df-quickchart-complete');\n",
              "        }\n",
              "        (() => {\n",
              "          let quickchartButtonEl =\n",
              "            document.querySelector('#df-065303dd-10f6-4313-b789-39b5373714ea button');\n",
              "          quickchartButtonEl.style.display =\n",
              "            google.colab.kernel.accessAllowed ? 'block' : 'none';\n",
              "        })();\n",
              "      </script>\n",
              "    </div>\n",
              "\n",
              "    </div>\n",
              "  </div>\n"
            ],
            "application/vnd.google.colaboratory.intrinsic+json": {
              "type": "dataframe",
              "variable_name": "Df_lineal"
            }
          },
          "metadata": {},
          "execution_count": 63
        }
      ]
    },
    {
      "cell_type": "markdown",
      "source": [
        "### Verificación de la Proporción de Cancelación (Churn)"
      ],
      "metadata": {
        "id": "Am3JQ8eTJ5Fy"
      },
      "id": "Am3JQ8eTJ5Fy"
    },
    {
      "cell_type": "markdown",
      "source": [
        "Si deseas profundizar en el análisis, aplica técnicas de balanceo como **undersampling** o **oversampling**. En situaciones de fuerte desbalanceo, herramientas como **SMOTE** pueden ser útiles para generar ejemplos sintéticos de la clase minoritaria."
      ],
      "metadata": {
        "id": "Mw9E2fNZMRly"
      },
      "id": "Mw9E2fNZMRly"
    },
    {
      "cell_type": "code",
      "source": [
        "Df_base['abandono_cliente'].value_counts()"
      ],
      "metadata": {
        "id": "ffLG1bEDh3Ih",
        "outputId": "99228a94-abe4-4731-c943-7c60816395c7",
        "colab": {
          "base_uri": "https://localhost:8080/",
          "height": 179
        }
      },
      "id": "ffLG1bEDh3Ih",
      "execution_count": 26,
      "outputs": [
        {
          "output_type": "execute_result",
          "data": {
            "text/plain": [
              "abandono_cliente\n",
              "No    5339\n",
              "Si    1928\n",
              "Name: count, dtype: int64"
            ],
            "text/html": [
              "<div>\n",
              "<style scoped>\n",
              "    .dataframe tbody tr th:only-of-type {\n",
              "        vertical-align: middle;\n",
              "    }\n",
              "\n",
              "    .dataframe tbody tr th {\n",
              "        vertical-align: top;\n",
              "    }\n",
              "\n",
              "    .dataframe thead th {\n",
              "        text-align: right;\n",
              "    }\n",
              "</style>\n",
              "<table border=\"1\" class=\"dataframe\">\n",
              "  <thead>\n",
              "    <tr style=\"text-align: right;\">\n",
              "      <th></th>\n",
              "      <th>count</th>\n",
              "    </tr>\n",
              "    <tr>\n",
              "      <th>abandono_cliente</th>\n",
              "      <th></th>\n",
              "    </tr>\n",
              "  </thead>\n",
              "  <tbody>\n",
              "    <tr>\n",
              "      <th>No</th>\n",
              "      <td>5339</td>\n",
              "    </tr>\n",
              "    <tr>\n",
              "      <th>Si</th>\n",
              "      <td>1928</td>\n",
              "    </tr>\n",
              "  </tbody>\n",
              "</table>\n",
              "</div><br><label><b>dtype:</b> int64</label>"
            ]
          },
          "metadata": {},
          "execution_count": 26
        }
      ]
    },
    {
      "cell_type": "code",
      "source": [
        "Df_base['abandono_cliente'].value_counts(normalize=True)"
      ],
      "metadata": {
        "id": "LllUA2Xji24l",
        "outputId": "b571f6ac-c5e8-4b83-f11e-1db2fbaeba81",
        "colab": {
          "base_uri": "https://localhost:8080/",
          "height": 179
        }
      },
      "id": "LllUA2Xji24l",
      "execution_count": 27,
      "outputs": [
        {
          "output_type": "execute_result",
          "data": {
            "text/plain": [
              "abandono_cliente\n",
              "No    0.734691\n",
              "Si    0.265309\n",
              "Name: proportion, dtype: float64"
            ],
            "text/html": [
              "<div>\n",
              "<style scoped>\n",
              "    .dataframe tbody tr th:only-of-type {\n",
              "        vertical-align: middle;\n",
              "    }\n",
              "\n",
              "    .dataframe tbody tr th {\n",
              "        vertical-align: top;\n",
              "    }\n",
              "\n",
              "    .dataframe thead th {\n",
              "        text-align: right;\n",
              "    }\n",
              "</style>\n",
              "<table border=\"1\" class=\"dataframe\">\n",
              "  <thead>\n",
              "    <tr style=\"text-align: right;\">\n",
              "      <th></th>\n",
              "      <th>proportion</th>\n",
              "    </tr>\n",
              "    <tr>\n",
              "      <th>abandono_cliente</th>\n",
              "      <th></th>\n",
              "    </tr>\n",
              "  </thead>\n",
              "  <tbody>\n",
              "    <tr>\n",
              "      <th>No</th>\n",
              "      <td>0.734691</td>\n",
              "    </tr>\n",
              "    <tr>\n",
              "      <th>Si</th>\n",
              "      <td>0.265309</td>\n",
              "    </tr>\n",
              "  </tbody>\n",
              "</table>\n",
              "</div><br><label><b>dtype:</b> float64</label>"
            ]
          },
          "metadata": {},
          "execution_count": 27
        }
      ]
    },
    {
      "cell_type": "markdown",
      "source": [
        "### Balanceo de Clases (opcional)"
      ],
      "metadata": {
        "id": "7RztOfSVJ6Ox"
      },
      "id": "7RztOfSVJ6Ox"
    },
    {
      "cell_type": "markdown",
      "source": [
        "Si deseas profundizar en el análisis, aplica técnicas de balanceo como **undersampling** o **oversampling**. En situaciones de fuerte desbalanceo, herramientas como **SMOTE** pueden ser útiles para generar ejemplos sintéticos de la clase minoritaria."
      ],
      "metadata": {
        "id": "P2PMxrmgMOYK"
      },
      "id": "P2PMxrmgMOYK"
    },
    {
      "cell_type": "code",
      "source": [
        "\"\"\"from imblearn.over_sampling import SMOTE\n",
        "from sklearn.inpute import SimpleImputer\n",
        "\n",
        "X = Df_No_lineal.drop(columns=['abandono_cliente'], axis=1)\n",
        "y = Df_No_lineal_y['abandono_cliente']\n",
        "\n",
        "imputer = SimpleImputer(strategy='constant', fill_value=0)\n",
        "X_imputed = imputer.fit_transform(X)\n",
        "\n",
        "smote = SMOTE(random_state=42)\n",
        "X_res, y_res = smote.fit_resample(X_imputed, y)\n",
        "\"\"\""
      ],
      "metadata": {
        "id": "9aVUJCP5tuwF"
      },
      "id": "9aVUJCP5tuwF",
      "execution_count": null,
      "outputs": []
    },
    {
      "cell_type": "markdown",
      "source": [
        "### Normalización o Estandarización (si es necesario)"
      ],
      "metadata": {
        "id": "dWwzr-nwJ6TB"
      },
      "id": "dWwzr-nwJ6TB"
    },
    {
      "cell_type": "markdown",
      "source": [
        "Evalúa la necesidad de normalizar o estandarizar los datos, según los modelos que se aplicarán. Modelos basados en distancia, como **KNN**, **SVM**, **Regresión Logística** y **Redes Neuronales**, requieren este preprocesamiento. Por otro lado, modelos basados en árboles, como **Decision Tree**, **Random Forest** y **XGBoost**, no son sensibles a la escala de los datos."
      ],
      "metadata": {
        "id": "Jot9-uK5MIiD"
      },
      "id": "Jot9-uK5MIiD"
    },
    {
      "cell_type": "markdown",
      "metadata": {
        "id": "j9KbkE_9JUBi"
      },
      "source": [
        "## 🎯 Correlación y Selección de Variables\n",
        "\n"
      ],
      "id": "j9KbkE_9JUBi"
    },
    {
      "cell_type": "markdown",
      "source": [
        "### Análisis de Correlación"
      ],
      "metadata": {
        "id": "Fm9zVXSiJ7sJ"
      },
      "id": "Fm9zVXSiJ7sJ"
    },
    {
      "cell_type": "markdown",
      "source": [
        "Visualiza la matriz de correlación para identificar relaciones entre las variables numéricas. Presta especial **atención a las variables que muestran una mayor correlación con la cancelación**, ya que estas pueden ser fuertes candidatas para el modelo predictivo."
      ],
      "metadata": {
        "id": "S_3MoCYYMAL7"
      },
      "id": "S_3MoCYYMAL7"
    },
    {
      "cell_type": "markdown",
      "source": [
        "### Análisis Dirigido"
      ],
      "metadata": {
        "id": "NazijI3uJ9Gx"
      },
      "id": "NazijI3uJ9Gx"
    },
    {
      "cell_type": "markdown",
      "source": [
        "Investiga cómo variables específicas se relacionan con la cancelación, tales como:\n",
        "\n",
        "- **Tiempo de contrato × Cancelación**\n",
        "- **Gasto total × Cancelación**\n",
        "\n",
        "Utiliza gráficos como **boxplots** o **scatter plots** para visualizar patrones y posibles tendencias."
      ],
      "metadata": {
        "id": "8sHs6k9kL7YD"
      },
      "id": "8sHs6k9kL7YD"
    },
    {
      "cell_type": "markdown",
      "metadata": {
        "id": "yJYBRfJ-JY_q"
      },
      "source": [
        "## 🤖 Modelado Predictivo\n",
        "\n"
      ],
      "id": "yJYBRfJ-JY_q"
    },
    {
      "cell_type": "markdown",
      "source": [
        "### Separación de Datos"
      ],
      "metadata": {
        "id": "4lnE012kJ-Sp"
      },
      "id": "4lnE012kJ-Sp"
    },
    {
      "cell_type": "markdown",
      "source": [
        "Crea al menos dos modelos diferentes para predecir la cancelación de clientes.\n",
        "\n",
        "- Un modelo puede requerir normalización, como **Regresión Logística** o **KNN**.\n",
        "- El otro modelo puede no requerir normalización, como **Árbol de Decisión** o **Random Forest**.\n",
        "\n",
        "💡 La decisión de aplicar o no la normalización depende de los modelos seleccionados. Ambos modelos pueden ser creados sin normalización, pero también es una opción combinar modelos con y sin normalización.\n",
        "\n",
        "**Justificación:**\n",
        "\n",
        "- **Regresión Logística / KNN:** Estos modelos son sensibles a la escala de los datos, por lo que la normalización es importante para que los coeficientes o las distancias se calculen correctamente.\n",
        "- **Árbol de Decisión / Random Forest:** Estos modelos no dependen de la escala de los datos, por lo que no es necesario aplicar normalización.\n",
        "\n",
        "Si decides normalizar los datos, deberías explicar cómo esta etapa asegura que los modelos basados en distancia o en optimización de parámetros no se vean sesgados por la magnitud de las variables."
      ],
      "metadata": {
        "id": "YawmPO0eL2xz"
      },
      "id": "YawmPO0eL2xz"
    },
    {
      "cell_type": "markdown",
      "source": [
        "### Creación de Modelos"
      ],
      "metadata": {
        "id": "JoHdJKRZJ-WZ"
      },
      "id": "JoHdJKRZJ-WZ"
    },
    {
      "cell_type": "markdown",
      "source": [
        "Crea al menos dos modelos diferentes para predecir la cancelación de clientes.\n",
        "\n",
        "- Un modelo puede requerir normalización, como **Regresión Logística** o **KNN**.\n",
        "- El otro modelo puede no requerir normalización, como **Árbol de Decisión** o **Random Forest**.\n",
        "\n",
        "💡 La decisión de aplicar o no la normalización depende de los modelos seleccionados. Ambos modelos pueden ser creados sin normalización, pero también es una opción combinar modelos con y sin normalización.\n",
        "\n",
        "**Justificación:**\n",
        "\n",
        "- **Regresión Logística / KNN:** Estos modelos son sensibles a la escala de los datos, por lo que la normalización es importante para que los coeficientes o las distancias se calculen correctamente.\n",
        "- **Árbol de Decisión / Random Forest:** Estos modelos no dependen de la escala de los datos, por lo que no es necesario aplicar normalización.\n",
        "\n",
        "Si decides normalizar los datos, deberías explicar cómo esta etapa asegura que los modelos basados en distancia o en optimización de parámetros no se vean sesgados por la magnitud de las variables."
      ],
      "metadata": {
        "id": "J6uduIgpLzUs"
      },
      "id": "J6uduIgpLzUs"
    },
    {
      "cell_type": "markdown",
      "source": [
        "### Evaluación de los Modelos"
      ],
      "metadata": {
        "id": "HWurxmXIJ-dB"
      },
      "id": "HWurxmXIJ-dB"
    },
    {
      "cell_type": "markdown",
      "source": [
        "Evalúa cada modelo utilizando las siguientes métricas:\n",
        "\n",
        "- **Exactitud (Acurácia)**\n",
        "- **Precisión**\n",
        "- **Recall**\n",
        "- **F1-score**\n",
        "- **Matriz de confusión**\n",
        "\n",
        "Después, realiza un análisis crítico y compara los modelos:\n",
        "\n",
        "- ¿Cuál modelo tuvo el mejor desempeño?\n",
        "- ¿Algún modelo presentó **overfitting** o **underfitting**? Si es así, considera las posibles causas y ajustes:\n",
        "  - **Overfitting**: Cuando el modelo aprende demasiado sobre los datos de entrenamiento, perdiendo la capacidad de generalizar a nuevos datos. Considera reducir la complejidad del modelo o aumentar los datos de entrenamiento.\n",
        "  - **Underfitting**: Cuando el modelo no captura bien las tendencias de los datos, lo que indica que es demasiado simple. Intenta aumentar la complejidad del modelo o ajustar sus parámetros."
      ],
      "metadata": {
        "id": "GNlRXiIwLtJL"
      },
      "id": "GNlRXiIwLtJL"
    },
    {
      "cell_type": "markdown",
      "metadata": {
        "id": "2pm0FGN7JUJj"
      },
      "source": [
        "## 📋 Interpretación y Conclusiones Datos\n",
        "\n"
      ],
      "id": "2pm0FGN7JUJj"
    },
    {
      "cell_type": "markdown",
      "source": [
        "### Análisis de la Importancia de las Variables"
      ],
      "metadata": {
        "id": "66Ybw6VeJ_dZ"
      },
      "id": "66Ybw6VeJ_dZ"
    },
    {
      "cell_type": "markdown",
      "source": [
        "Después de elegir los modelos, realiza el análisis de las variables más relevantes para la predicción de la cancelación:\n",
        "\n",
        "* Regresión Logística: Investiga los coeficientes de las variables, que muestran su contribución a la predicción de cancelación.\n",
        "\n",
        "* KNN (K-Nearest Neighbors): Observa cómo los vecinos más cercanos influyen en la decisión de clasificación. Las variables más impactantes pueden ser aquellas que más contribuyen a la proximidad entre los puntos de datos.\n",
        "\n",
        "* Random Forest: Utiliza la importancia de las variables proporcionada por el modelo. Random Forest calcula la importancia basándose en cómo cada variable contribuye a la reducción de la impureza durante las divisiones de los árboles.\n",
        "\n",
        "* SVM (Support Vector Machine): En el SVM, las variables más relevantes son aquellas que influyen en la frontera de decisión entre las clases. Puedes analizar los coeficientes de los vectores de soporte para entender qué variables tienen mayor impacto.\n",
        "\n",
        "* Otros Modelos: Dependiendo del modelo elegido, considera el análisis de métricas específicas para comprender la relevancia de las variables. Por ejemplo, coeficientes en modelos lineales, pesos en redes neuronales, o la importancia relativa en técnicas de boosting (como XGBoost)."
      ],
      "metadata": {
        "id": "aCquNIWbLcaM"
      },
      "id": "aCquNIWbLcaM"
    },
    {
      "cell_type": "markdown",
      "source": [
        "### Conclusión"
      ],
      "metadata": {
        "id": "WSY-FrfcJ_gB"
      },
      "id": "WSY-FrfcJ_gB"
    },
    {
      "cell_type": "markdown",
      "source": [
        "Elaboren un informe detallado, destacando los factores que más influyen en la cancelación, basándose en las variables seleccionadas y en el rendimiento de cada modelo.\n",
        "\n",
        "Identifiquen los principales factores que afectan la cancelación de clientes y propongan estrategias de retención basadas en los resultados obtenidos."
      ],
      "metadata": {
        "id": "jbtBOS8jLTd9"
      },
      "id": "jbtBOS8jLTd9"
    }
  ],
  "metadata": {
    "language_info": {
      "name": "python"
    },
    "colab": {
      "provenance": [],
      "toc_visible": true,
      "include_colab_link": true
    },
    "kernelspec": {
      "name": "python3",
      "display_name": "Python 3"
    }
  },
  "nbformat": 4,
  "nbformat_minor": 5
}